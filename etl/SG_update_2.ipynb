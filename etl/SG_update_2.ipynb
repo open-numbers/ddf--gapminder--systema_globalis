{
 "cells": [
  {
   "cell_type": "code",
   "execution_count": 1,
   "metadata": {
    "collapsed": true
   },
   "outputs": [],
   "source": [
    "import pandas as pd\n",
    "import numpy as np\n",
    "import os\n",
    "import ddf_utils.ddf_reader as ddf"
   ]
  },
  {
   "cell_type": "code",
   "execution_count": 2,
   "metadata": {
    "collapsed": true
   },
   "outputs": [],
   "source": [
    "ddf.SEARCH_PATH = \"/Users/semio/src/work/Gapminder/\""
   ]
  },
  {
   "cell_type": "code",
   "execution_count": 3,
   "metadata": {
    "collapsed": true
   },
   "outputs": [],
   "source": [
    "l = pd.read_csv('./GW_indicators_list.csv')"
   ]
  },
  {
   "cell_type": "code",
   "execution_count": 4,
   "metadata": {
    "collapsed": true
   },
   "outputs": [],
   "source": [
    "l2 = l[['gw_ddf_id', 'found_in_ddf', 'ddf_concept_id', 'Notes']]\n",
    "l2 = l2[~l2['found_in_ddf'].isnull()]"
   ]
  },
  {
   "cell_type": "code",
   "execution_count": null,
   "metadata": {
    "collapsed": true
   },
   "outputs": [],
   "source": []
  },
  {
   "cell_type": "code",
   "execution_count": 16,
   "metadata": {
    "collapsed": true
   },
   "outputs": [],
   "source": [
    "geo = ddf.ddf_entities('ddf--gapminder--geo_entity_domain')['country']"
   ]
  },
  {
   "cell_type": "code",
   "execution_count": 15,
   "metadata": {
    "collapsed": true
   },
   "outputs": [],
   "source": [
    "def get_geo_map(geo_2, column='area'):\n",
    "\n",
    "    geo_map = {} \n",
    "\n",
    "    cols = ['alternative_1', 'alternative_2', 'alternative_3', 'gapminder_list',\n",
    "           'alternative_4_cdiac', 'pandg', 'god_id', 'alt_5', 'upper_case_name',\n",
    "           'code', 'arb1', 'arb2', 'arb3', 'arb4', 'arb5', 'arb6', 'name']\n",
    "\n",
    "    for i, v in geo_2.iterrows():\n",
    "\n",
    "        geo_map[v[column]] = np.nan\n",
    "\n",
    "\n",
    "        for c in cols:\n",
    "            f = geo[geo[c] == v['name'].strip()]\n",
    "            if len(f) > 0:\n",
    "                geo_map[v[column]] = f['country'].values[0]\n",
    "            if len(f) > 1:\n",
    "                print(f)\n",
    "                \n",
    "    return geo_map"
   ]
  },
  {
   "cell_type": "code",
   "execution_count": null,
   "metadata": {
    "collapsed": true
   },
   "outputs": [],
   "source": []
  },
  {
   "cell_type": "code",
   "execution_count": null,
   "metadata": {
    "collapsed": true
   },
   "outputs": [],
   "source": []
  },
  {
   "cell_type": "code",
   "execution_count": 5,
   "metadata": {
    "collapsed": true
   },
   "outputs": [],
   "source": [
    "d = iter(l2.groupby('found_in_ddf').groups.items())"
   ]
  },
  {
   "cell_type": "code",
   "execution_count": 6,
   "metadata": {
    "collapsed": false
   },
   "outputs": [
    {
     "data": {
      "text/plain": [
       "37"
      ]
     },
     "execution_count": 6,
     "metadata": {},
     "output_type": "execute_result"
    }
   ],
   "source": [
    "len(l2.groupby('found_in_ddf').groups.items())"
   ]
  },
  {
   "cell_type": "code",
   "execution_count": 7,
   "metadata": {
    "collapsed": true
   },
   "outputs": [],
   "source": [
    "it = next(d)"
   ]
  },
  {
   "cell_type": "code",
   "execution_count": 8,
   "metadata": {
    "collapsed": false
   },
   "outputs": [
    {
     "data": {
      "text/html": [
       "<div>\n",
       "<table border=\"1\" class=\"dataframe\">\n",
       "  <thead>\n",
       "    <tr style=\"text-align: right;\">\n",
       "      <th></th>\n",
       "      <th>gw_ddf_id</th>\n",
       "      <th>found_in_ddf</th>\n",
       "      <th>ddf_concept_id</th>\n",
       "      <th>Notes</th>\n",
       "    </tr>\n",
       "  </thead>\n",
       "  <tbody>\n",
       "    <tr>\n",
       "      <th>44</th>\n",
       "      <td>data_quality_life_expectancy</td>\n",
       "      <td>ddf--g-hist_lex</td>\n",
       "      <td>data_quality</td>\n",
       "      <td>NaN</td>\n",
       "    </tr>\n",
       "  </tbody>\n",
       "</table>\n",
       "</div>"
      ],
      "text/plain": [
       "                       gw_ddf_id     found_in_ddf ddf_concept_id Notes\n",
       "44  data_quality_life_expectancy  ddf--g-hist_lex   data_quality   NaN"
      ]
     },
     "execution_count": 8,
     "metadata": {},
     "output_type": "execute_result"
    }
   ],
   "source": [
    "l2.ix[it[1]]"
   ]
  },
  {
   "cell_type": "code",
   "execution_count": 17,
   "metadata": {
    "collapsed": true
   },
   "outputs": [],
   "source": [
    "geo2 = ddf.ddf_entities(it[0])['area']"
   ]
  },
  {
   "cell_type": "code",
   "execution_count": 19,
   "metadata": {
    "collapsed": false
   },
   "outputs": [],
   "source": [
    "geo_map = get_geo_map(geo2)"
   ]
  },
  {
   "cell_type": "code",
   "execution_count": 21,
   "metadata": {
    "collapsed": false
   },
   "outputs": [
    {
     "data": {
      "text/html": [
       "<div>\n",
       "<table border=\"1\" class=\"dataframe\">\n",
       "  <thead>\n",
       "    <tr style=\"text-align: right;\">\n",
       "      <th></th>\n",
       "      <th>name</th>\n",
       "    </tr>\n",
       "  </thead>\n",
       "  <tbody>\n",
       "  </tbody>\n",
       "</table>\n",
       "</div>"
      ],
      "text/plain": [
       "Empty DataFrame\n",
       "Columns: [name]\n",
       "Index: []"
      ]
     },
     "execution_count": 21,
     "metadata": {},
     "output_type": "execute_result"
    }
   ],
   "source": [
    "a = pd.DataFrame(data=geo_map, index=['map']).T\n",
    "a = a[a['map'].isnull()]\n",
    "\n",
    "geo2.set_index('area').ix[a.index]"
   ]
  },
  {
   "cell_type": "code",
   "execution_count": 10,
   "metadata": {
    "collapsed": false
   },
   "outputs": [],
   "source": [
    "name = l2.ix[it[1]].iloc[0].gw_ddf_id\n",
    "name_2 = l2.ix[it[1]].iloc[0].ddf_concept_id"
   ]
  },
  {
   "cell_type": "code",
   "execution_count": 11,
   "metadata": {
    "collapsed": true
   },
   "outputs": [],
   "source": [
    "left = ddf.ddf_datapoint('ddf--gapminder--systema_globalis', name).set_index(['geo', 'time'])"
   ]
  },
  {
   "cell_type": "code",
   "execution_count": 22,
   "metadata": {
    "collapsed": false
   },
   "outputs": [],
   "source": [
    "right = ddf.ddf_datapoint(it[0], name_2)\n",
    "right.area = right.area.map(lambda x: geo_map[x])\n",
    "right.columns = ['geo', 'time', name]"
   ]
  },
  {
   "cell_type": "code",
   "execution_count": 24,
   "metadata": {
    "collapsed": true
   },
   "outputs": [],
   "source": []
  },
  {
   "cell_type": "code",
   "execution_count": 25,
   "metadata": {
    "collapsed": false,
    "scrolled": true
   },
   "outputs": [],
   "source": [
    "right[['geo', name, 'time']]\\\n",
    ".to_csv('../ddf--datapoints--'+name+'--by--geo--time.csv', float_format='%.2f', index=False)"
   ]
  },
  {
   "cell_type": "code",
   "execution_count": null,
   "metadata": {
    "collapsed": true
   },
   "outputs": [],
   "source": []
  },
  {
   "cell_type": "code",
   "execution_count": 26,
   "metadata": {
    "collapsed": true
   },
   "outputs": [],
   "source": [
    "it = next(d)"
   ]
  },
  {
   "cell_type": "code",
   "execution_count": 27,
   "metadata": {
    "collapsed": false
   },
   "outputs": [
    {
     "data": {
      "text/html": [
       "<div>\n",
       "<table border=\"1\" class=\"dataframe\">\n",
       "  <thead>\n",
       "    <tr style=\"text-align: right;\">\n",
       "      <th></th>\n",
       "      <th>gw_ddf_id</th>\n",
       "      <th>found_in_ddf</th>\n",
       "      <th>ddf_concept_id</th>\n",
       "      <th>Notes</th>\n",
       "    </tr>\n",
       "  </thead>\n",
       "  <tbody>\n",
       "    <tr>\n",
       "      <th>125</th>\n",
       "      <td>life_expectancy_at_birth_data_from_ihme</td>\n",
       "      <td>ddf--lhme_lex</td>\n",
       "      <td>mean</td>\n",
       "      <td>duplicated</td>\n",
       "    </tr>\n",
       "    <tr>\n",
       "      <th>126</th>\n",
       "      <td>life_expectancy_at_birth_with_projections</td>\n",
       "      <td>ddf--lhme_lex</td>\n",
       "      <td>mean</td>\n",
       "      <td>duplicated</td>\n",
       "    </tr>\n",
       "    <tr>\n",
       "      <th>127</th>\n",
       "      <td>life_expectancy_years</td>\n",
       "      <td>ddf--lhme_lex</td>\n",
       "      <td>mean</td>\n",
       "      <td>NaN</td>\n",
       "    </tr>\n",
       "  </tbody>\n",
       "</table>\n",
       "</div>"
      ],
      "text/plain": [
       "                                     gw_ddf_id   found_in_ddf ddf_concept_id  \\\n",
       "125    life_expectancy_at_birth_data_from_ihme  ddf--lhme_lex           mean   \n",
       "126  life_expectancy_at_birth_with_projections  ddf--lhme_lex           mean   \n",
       "127                      life_expectancy_years  ddf--lhme_lex           mean   \n",
       "\n",
       "          Notes  \n",
       "125  duplicated  \n",
       "126  duplicated  \n",
       "127         NaN  "
      ]
     },
     "execution_count": 27,
     "metadata": {},
     "output_type": "execute_result"
    }
   ],
   "source": [
    "l2.ix[it[1]]"
   ]
  },
  {
   "cell_type": "code",
   "execution_count": 128,
   "metadata": {
    "collapsed": true
   },
   "outputs": [],
   "source": [
    "name = l2.ix[it[1]].iloc[0].gw_ddf_id\n",
    "name_2 = l2.ix[it[1]].iloc[0].ddf_concept_id"
   ]
  },
  {
   "cell_type": "code",
   "execution_count": 108,
   "metadata": {
    "collapsed": false
   },
   "outputs": [
    {
     "data": {
      "text/plain": [
       "'life_expectancy_years'"
      ]
     },
     "execution_count": 108,
     "metadata": {},
     "output_type": "execute_result"
    }
   ],
   "source": [
    "name"
   ]
  },
  {
   "cell_type": "code",
   "execution_count": 43,
   "metadata": {
    "collapsed": false
   },
   "outputs": [],
   "source": [
    "geo2 = ddf.ddf_entities('ddf--ihme-lex')['location_id']"
   ]
  },
  {
   "cell_type": "code",
   "execution_count": 47,
   "metadata": {
    "collapsed": false
   },
   "outputs": [],
   "source": [
    "geo2.columns = ['location_id', 'location_code', 'name']"
   ]
  },
  {
   "cell_type": "code",
   "execution_count": 48,
   "metadata": {
    "collapsed": false
   },
   "outputs": [],
   "source": [
    "geo_map = get_geo_map(geo2, 'location_id')"
   ]
  },
  {
   "cell_type": "code",
   "execution_count": 50,
   "metadata": {
    "collapsed": false,
    "scrolled": true
   },
   "outputs": [
    {
     "data": {
      "text/html": [
       "<div>\n",
       "<table border=\"1\" class=\"dataframe\">\n",
       "  <thead>\n",
       "    <tr style=\"text-align: right;\">\n",
       "      <th></th>\n",
       "      <th>location_code</th>\n",
       "      <th>name</th>\n",
       "    </tr>\n",
       "  </thead>\n",
       "  <tbody>\n",
       "    <tr>\n",
       "      <th>1</th>\n",
       "      <td>G</td>\n",
       "      <td>Global</td>\n",
       "    </tr>\n",
       "    <tr>\n",
       "      <th>2</th>\n",
       "      <td>D0</td>\n",
       "      <td>Developing</td>\n",
       "    </tr>\n",
       "    <tr>\n",
       "      <th>3</th>\n",
       "      <td>D1</td>\n",
       "      <td>Developed</td>\n",
       "    </tr>\n",
       "    <tr>\n",
       "      <th>4</th>\n",
       "      <td>S6</td>\n",
       "      <td>Southeast Asia, East Asia, and Oceania</td>\n",
       "    </tr>\n",
       "    <tr>\n",
       "      <th>5</th>\n",
       "      <td>R3</td>\n",
       "      <td>East Asia</td>\n",
       "    </tr>\n",
       "    <tr>\n",
       "      <th>9</th>\n",
       "      <td>R5</td>\n",
       "      <td>Southeast Asia</td>\n",
       "    </tr>\n",
       "    <tr>\n",
       "      <th>21</th>\n",
       "      <td>R17</td>\n",
       "      <td>Oceania</td>\n",
       "    </tr>\n",
       "    <tr>\n",
       "      <th>31</th>\n",
       "      <td>S2</td>\n",
       "      <td>Central Europe, Eastern Europe, and Central Asia</td>\n",
       "    </tr>\n",
       "    <tr>\n",
       "      <th>32</th>\n",
       "      <td>R2</td>\n",
       "      <td>Central Asia</td>\n",
       "    </tr>\n",
       "    <tr>\n",
       "      <th>42</th>\n",
       "      <td>R8</td>\n",
       "      <td>Central Europe</td>\n",
       "    </tr>\n",
       "    <tr>\n",
       "      <th>56</th>\n",
       "      <td>R9</td>\n",
       "      <td>Eastern Europe</td>\n",
       "    </tr>\n",
       "    <tr>\n",
       "      <th>64</th>\n",
       "      <td>S1</td>\n",
       "      <td>High-income</td>\n",
       "    </tr>\n",
       "    <tr>\n",
       "      <th>65</th>\n",
       "      <td>R1</td>\n",
       "      <td>High-income Asia Pacific</td>\n",
       "    </tr>\n",
       "    <tr>\n",
       "      <th>70</th>\n",
       "      <td>R6</td>\n",
       "      <td>Australasia</td>\n",
       "    </tr>\n",
       "    <tr>\n",
       "      <th>73</th>\n",
       "      <td>R10</td>\n",
       "      <td>Western Europe</td>\n",
       "    </tr>\n",
       "    <tr>\n",
       "      <th>96</th>\n",
       "      <td>R13</td>\n",
       "      <td>Southern Latin America</td>\n",
       "    </tr>\n",
       "    <tr>\n",
       "      <th>100</th>\n",
       "      <td>R16</td>\n",
       "      <td>High-income North America</td>\n",
       "    </tr>\n",
       "    <tr>\n",
       "      <th>103</th>\n",
       "      <td>S7</td>\n",
       "      <td>Latin America and Caribbean</td>\n",
       "    </tr>\n",
       "    <tr>\n",
       "      <th>104</th>\n",
       "      <td>R7</td>\n",
       "      <td>Caribbean</td>\n",
       "    </tr>\n",
       "    <tr>\n",
       "      <th>120</th>\n",
       "      <td>R11</td>\n",
       "      <td>Andean Latin America</td>\n",
       "    </tr>\n",
       "    <tr>\n",
       "      <th>124</th>\n",
       "      <td>R12</td>\n",
       "      <td>Central Latin America</td>\n",
       "    </tr>\n",
       "    <tr>\n",
       "      <th>134</th>\n",
       "      <td>R14</td>\n",
       "      <td>Tropical Latin America</td>\n",
       "    </tr>\n",
       "    <tr>\n",
       "      <th>137</th>\n",
       "      <td>S4</td>\n",
       "      <td>North Africa and Middle East</td>\n",
       "    </tr>\n",
       "    <tr>\n",
       "      <th>138</th>\n",
       "      <td>R15</td>\n",
       "      <td>North Africa and Middle East</td>\n",
       "    </tr>\n",
       "    <tr>\n",
       "      <th>158</th>\n",
       "      <td>S5</td>\n",
       "      <td>South Asia</td>\n",
       "    </tr>\n",
       "    <tr>\n",
       "      <th>159</th>\n",
       "      <td>R4</td>\n",
       "      <td>South Asia</td>\n",
       "    </tr>\n",
       "    <tr>\n",
       "      <th>166</th>\n",
       "      <td>S3</td>\n",
       "      <td>Sub-Saharan Africa</td>\n",
       "    </tr>\n",
       "    <tr>\n",
       "      <th>167</th>\n",
       "      <td>R18</td>\n",
       "      <td>Central Sub-Saharan Africa</td>\n",
       "    </tr>\n",
       "    <tr>\n",
       "      <th>171</th>\n",
       "      <td>COD</td>\n",
       "      <td>Democratic Republic of the Congo</td>\n",
       "    </tr>\n",
       "    <tr>\n",
       "      <th>174</th>\n",
       "      <td>R19</td>\n",
       "      <td>Eastern Sub-Saharan Africa</td>\n",
       "    </tr>\n",
       "    <tr>\n",
       "      <th>192</th>\n",
       "      <td>R20</td>\n",
       "      <td>Southern Sub-Saharan Africa</td>\n",
       "    </tr>\n",
       "    <tr>\n",
       "      <th>199</th>\n",
       "      <td>R21</td>\n",
       "      <td>Western Sub-Saharan Africa</td>\n",
       "    </tr>\n",
       "  </tbody>\n",
       "</table>\n",
       "</div>"
      ],
      "text/plain": [
       "    location_code                                              name\n",
       "1               G                                            Global\n",
       "2              D0                                        Developing\n",
       "3              D1                                         Developed\n",
       "4              S6            Southeast Asia, East Asia, and Oceania\n",
       "5              R3                                         East Asia\n",
       "9              R5                                    Southeast Asia\n",
       "21            R17                                           Oceania\n",
       "31             S2  Central Europe, Eastern Europe, and Central Asia\n",
       "32             R2                                      Central Asia\n",
       "42             R8                                    Central Europe\n",
       "56             R9                                    Eastern Europe\n",
       "64             S1                                       High-income\n",
       "65             R1                          High-income Asia Pacific\n",
       "70             R6                                       Australasia\n",
       "73            R10                                    Western Europe\n",
       "96            R13                            Southern Latin America\n",
       "100           R16                         High-income North America\n",
       "103            S7                       Latin America and Caribbean\n",
       "104            R7                                         Caribbean\n",
       "120           R11                              Andean Latin America\n",
       "124           R12                             Central Latin America\n",
       "134           R14                            Tropical Latin America\n",
       "137            S4                      North Africa and Middle East\n",
       "138           R15                      North Africa and Middle East\n",
       "158            S5                                        South Asia\n",
       "159            R4                                        South Asia\n",
       "166            S3                                Sub-Saharan Africa\n",
       "167           R18                        Central Sub-Saharan Africa\n",
       "171           COD                  Democratic Republic of the Congo\n",
       "174           R19                        Eastern Sub-Saharan Africa\n",
       "192           R20                       Southern Sub-Saharan Africa\n",
       "199           R21                        Western Sub-Saharan Africa"
      ]
     },
     "execution_count": 50,
     "metadata": {},
     "output_type": "execute_result"
    }
   ],
   "source": [
    "a = pd.DataFrame(data=geo_map, index=['map']).T\n",
    "a = a[a['map'].isnull()]\n",
    "\n",
    "geo2.set_index('location_id').ix[a.index]"
   ]
  },
  {
   "cell_type": "code",
   "execution_count": 54,
   "metadata": {
    "collapsed": false
   },
   "outputs": [],
   "source": [
    "geo_map[171] = 'cod'\n",
    "\n",
    "a = a.drop(171)"
   ]
  },
  {
   "cell_type": "code",
   "execution_count": 109,
   "metadata": {
    "collapsed": true
   },
   "outputs": [],
   "source": [
    "left = ddf.ddf_datapoint('ddf--gapminder--systema_globalis', name).set_index(['geo', 'time'])"
   ]
  },
  {
   "cell_type": "code",
   "execution_count": 129,
   "metadata": {
    "collapsed": false
   },
   "outputs": [],
   "source": [
    "right = ddf.ddf_datapoint('ddf--ihme-lex', name_2)\n",
    "\n",
    "right = right.query(\"location_id not in @a.index & sex_id == 3 & age_group_id == 5\")\n",
    "\n",
    "right.location_id = right.location_id.map(lambda x: geo_map[x])"
   ]
  },
  {
   "cell_type": "code",
   "execution_count": 130,
   "metadata": {
    "collapsed": false
   },
   "outputs": [],
   "source": [
    "right = right[['location_id', 'year', 'mean']]\n",
    "right.columns = ['geo', 'time', name]"
   ]
  },
  {
   "cell_type": "code",
   "execution_count": 131,
   "metadata": {
    "collapsed": false
   },
   "outputs": [],
   "source": [
    "# r = right.groupby(['location_id', 'year']).agg(np.mean)[['mean']]\n",
    "right = right.set_index(['geo', 'time']).sort_index()"
   ]
  },
  {
   "cell_type": "code",
   "execution_count": 132,
   "metadata": {
    "collapsed": false
   },
   "outputs": [],
   "source": [
    "right.reset_index()[[name, 'geo', 'time']]\\\n",
    ".to_csv('../ddf--datapoints--'+name+'--by--geo--time.csv', float_format='%.2f', index=False)"
   ]
  },
  {
   "cell_type": "code",
   "execution_count": null,
   "metadata": {
    "collapsed": true
   },
   "outputs": [],
   "source": []
  },
  {
   "cell_type": "code",
   "execution_count": null,
   "metadata": {
    "collapsed": true
   },
   "outputs": [],
   "source": []
  },
  {
   "cell_type": "code",
   "execution_count": 133,
   "metadata": {
    "collapsed": false
   },
   "outputs": [
    {
     "data": {
      "text/html": [
       "<div>\n",
       "<table border=\"1\" class=\"dataframe\">\n",
       "  <thead>\n",
       "    <tr style=\"text-align: right;\">\n",
       "      <th></th>\n",
       "      <th>gw_ddf_id</th>\n",
       "      <th>found_in_ddf</th>\n",
       "      <th>ddf_concept_id</th>\n",
       "      <th>Notes</th>\n",
       "    </tr>\n",
       "  </thead>\n",
       "  <tbody>\n",
       "    <tr>\n",
       "      <th>48</th>\n",
       "      <td>old_version_of_income_per_person_version_8</td>\n",
       "      <td>ddf--gapminder--hist_gdppc</td>\n",
       "      <td>gdp_per_capita_by_purchasing_power_parities</td>\n",
       "      <td>NaN</td>\n",
       "    </tr>\n",
       "    <tr>\n",
       "      <th>49</th>\n",
       "      <td>subsistence_incomes_per_person</td>\n",
       "      <td>ddf--gapminder--hist_gdppc</td>\n",
       "      <td>gdp_per_capita_by_purchasing_power_parities</td>\n",
       "      <td>divide by 456.25</td>\n",
       "    </tr>\n",
       "    <tr>\n",
       "      <th>50</th>\n",
       "      <td>old_version_of_income_per_person_version_3</td>\n",
       "      <td>ddf--gapminder--hist_gdppc</td>\n",
       "      <td>gdp_per_capita_by_purchasing_power_parities</td>\n",
       "      <td>data difference?</td>\n",
       "    </tr>\n",
       "    <tr>\n",
       "      <th>51</th>\n",
       "      <td>income_per_person_gdppercapita_ppp_inflation_a...</td>\n",
       "      <td>ddf--gapminder--hist_gdppc</td>\n",
       "      <td>gdp_per_capita_by_purchasing_power_parities</td>\n",
       "      <td>data difference?</td>\n",
       "    </tr>\n",
       "    <tr>\n",
       "      <th>52</th>\n",
       "      <td>income_per_person_long_series</td>\n",
       "      <td>ddf--gapminder--hist_gdppc</td>\n",
       "      <td>gdp_per_capita_by_purchasing_power_parities</td>\n",
       "      <td>data difference?</td>\n",
       "    </tr>\n",
       "    <tr>\n",
       "      <th>53</th>\n",
       "      <td>income_per_person_with_projections</td>\n",
       "      <td>ddf--gapminder--hist_gdppc</td>\n",
       "      <td>gdp_per_capita_by_purchasing_power_parities</td>\n",
       "      <td>NaN</td>\n",
       "    </tr>\n",
       "  </tbody>\n",
       "</table>\n",
       "</div>"
      ],
      "text/plain": [
       "                                            gw_ddf_id  \\\n",
       "48         old_version_of_income_per_person_version_8   \n",
       "49                     subsistence_incomes_per_person   \n",
       "50         old_version_of_income_per_person_version_3   \n",
       "51  income_per_person_gdppercapita_ppp_inflation_a...   \n",
       "52                      income_per_person_long_series   \n",
       "53                 income_per_person_with_projections   \n",
       "\n",
       "                  found_in_ddf                               ddf_concept_id  \\\n",
       "48  ddf--gapminder--hist_gdppc  gdp_per_capita_by_purchasing_power_parities   \n",
       "49  ddf--gapminder--hist_gdppc  gdp_per_capita_by_purchasing_power_parities   \n",
       "50  ddf--gapminder--hist_gdppc  gdp_per_capita_by_purchasing_power_parities   \n",
       "51  ddf--gapminder--hist_gdppc  gdp_per_capita_by_purchasing_power_parities   \n",
       "52  ddf--gapminder--hist_gdppc  gdp_per_capita_by_purchasing_power_parities   \n",
       "53  ddf--gapminder--hist_gdppc  gdp_per_capita_by_purchasing_power_parities   \n",
       "\n",
       "               Notes  \n",
       "48               NaN  \n",
       "49  divide by 456.25  \n",
       "50  data difference?  \n",
       "51  data difference?  \n",
       "52  data difference?  \n",
       "53               NaN  "
      ]
     },
     "execution_count": 133,
     "metadata": {},
     "output_type": "execute_result"
    }
   ],
   "source": [
    "it = next(d)\n",
    "l2.ix[it[1]]"
   ]
  },
  {
   "cell_type": "code",
   "execution_count": 179,
   "metadata": {
    "collapsed": true
   },
   "outputs": [],
   "source": [
    "name = l2.ix[it[1]].iloc[5].gw_ddf_id\n",
    "name_2 = l2.ix[it[1]].iloc[5].ddf_concept_id"
   ]
  },
  {
   "cell_type": "code",
   "execution_count": 156,
   "metadata": {
    "collapsed": true
   },
   "outputs": [],
   "source": [
    "geo2 = ddf.ddf_entities(it[0])['area']\n",
    "geo_map = get_geo_map(geo2, 'area')"
   ]
  },
  {
   "cell_type": "code",
   "execution_count": 157,
   "metadata": {
    "collapsed": false
   },
   "outputs": [
    {
     "data": {
      "text/html": [
       "<div>\n",
       "<table border=\"1\" class=\"dataframe\">\n",
       "  <thead>\n",
       "    <tr style=\"text-align: right;\">\n",
       "      <th></th>\n",
       "      <th>name</th>\n",
       "    </tr>\n",
       "  </thead>\n",
       "  <tbody>\n",
       "    <tr>\n",
       "      <th>nagorno_karabakh</th>\n",
       "      <td>Nagorno-Karabakh</td>\n",
       "    </tr>\n",
       "  </tbody>\n",
       "</table>\n",
       "</div>"
      ],
      "text/plain": [
       "                              name\n",
       "nagorno_karabakh  Nagorno-Karabakh"
      ]
     },
     "execution_count": 157,
     "metadata": {},
     "output_type": "execute_result"
    }
   ],
   "source": [
    "a = pd.DataFrame(data=geo_map, index=['map']).T\n",
    "a = a[a['map'].isnull()]\n",
    "\n",
    "geo2.set_index('area').ix[a.index]"
   ]
  },
  {
   "cell_type": "code",
   "execution_count": 158,
   "metadata": {
    "collapsed": true
   },
   "outputs": [],
   "source": [
    "geo_map['nagorno_karabakh'] = 'ngokar'"
   ]
  },
  {
   "cell_type": "code",
   "execution_count": 180,
   "metadata": {
    "collapsed": true
   },
   "outputs": [],
   "source": [
    "left = ddf.ddf_datapoint('ddf--gapminder--systema_globalis', name).set_index(['geo', 'time'])"
   ]
  },
  {
   "cell_type": "code",
   "execution_count": 181,
   "metadata": {
    "collapsed": false
   },
   "outputs": [],
   "source": [
    "right = ddf.ddf_datapoint(it[0], name_2)\n",
    "right.columns = ['geo', 'time', name]\n",
    "right.geo = right.geo.map(lambda x: geo_map[x])"
   ]
  },
  {
   "cell_type": "code",
   "execution_count": 153,
   "metadata": {
    "collapsed": true
   },
   "outputs": [],
   "source": [
    "# right = right.set_index(['geo', 'time'])\n",
    "# right = right / 456.25\n",
    "# right = right.reset_index()"
   ]
  },
  {
   "cell_type": "code",
   "execution_count": 185,
   "metadata": {
    "collapsed": false
   },
   "outputs": [],
   "source": [
    "right[['geo', name, 'time']].to_csv('../ddf--datapoints--'+name+'--by--geo--time.csv', float_format='%.2f', index=False)"
   ]
  },
  {
   "cell_type": "code",
   "execution_count": null,
   "metadata": {
    "collapsed": true
   },
   "outputs": [],
   "source": []
  },
  {
   "cell_type": "code",
   "execution_count": null,
   "metadata": {
    "collapsed": true
   },
   "outputs": [],
   "source": []
  },
  {
   "cell_type": "code",
   "execution_count": 186,
   "metadata": {
    "collapsed": false
   },
   "outputs": [
    {
     "data": {
      "text/html": [
       "<div>\n",
       "<table border=\"1\" class=\"dataframe\">\n",
       "  <thead>\n",
       "    <tr style=\"text-align: right;\">\n",
       "      <th></th>\n",
       "      <th>gw_ddf_id</th>\n",
       "      <th>found_in_ddf</th>\n",
       "      <th>ddf_concept_id</th>\n",
       "      <th>Notes</th>\n",
       "    </tr>\n",
       "  </thead>\n",
       "  <tbody>\n",
       "    <tr>\n",
       "      <th>190</th>\n",
       "      <td>crude_birth_rate_births_per_1000_population</td>\n",
       "      <td>ddf--unpop-wpp_demog</td>\n",
       "      <td>crude_birth_rate</td>\n",
       "      <td>NaN</td>\n",
       "    </tr>\n",
       "    <tr>\n",
       "      <th>191</th>\n",
       "      <td>crude_death_rate_deaths_per_1000_population</td>\n",
       "      <td>ddf--unpop-wpp_demog</td>\n",
       "      <td>crude_death_rate</td>\n",
       "      <td>NaN</td>\n",
       "    </tr>\n",
       "    <tr>\n",
       "      <th>192</th>\n",
       "      <td>life_expectancy_female</td>\n",
       "      <td>ddf--unpop-wpp_demog</td>\n",
       "      <td>life_expectancy_at_birth_females</td>\n",
       "      <td>NaN</td>\n",
       "    </tr>\n",
       "    <tr>\n",
       "      <th>193</th>\n",
       "      <td>life_expectancy_male</td>\n",
       "      <td>ddf--unpop-wpp_demog</td>\n",
       "      <td>life_expectancy_at_birth_males</td>\n",
       "      <td>NaN</td>\n",
       "    </tr>\n",
       "    <tr>\n",
       "      <th>194</th>\n",
       "      <td>population_growth_annual_percent_with_projections</td>\n",
       "      <td>ddf--unpop-wpp_demog</td>\n",
       "      <td>population_growth_rate</td>\n",
       "      <td>NaN</td>\n",
       "    </tr>\n",
       "  </tbody>\n",
       "</table>\n",
       "</div>"
      ],
      "text/plain": [
       "                                             gw_ddf_id          found_in_ddf  \\\n",
       "190        crude_birth_rate_births_per_1000_population  ddf--unpop-wpp_demog   \n",
       "191        crude_death_rate_deaths_per_1000_population  ddf--unpop-wpp_demog   \n",
       "192                             life_expectancy_female  ddf--unpop-wpp_demog   \n",
       "193                               life_expectancy_male  ddf--unpop-wpp_demog   \n",
       "194  population_growth_annual_percent_with_projections  ddf--unpop-wpp_demog   \n",
       "\n",
       "                       ddf_concept_id Notes  \n",
       "190                  crude_birth_rate   NaN  \n",
       "191                  crude_death_rate   NaN  \n",
       "192  life_expectancy_at_birth_females   NaN  \n",
       "193    life_expectancy_at_birth_males   NaN  \n",
       "194            population_growth_rate   NaN  "
      ]
     },
     "execution_count": 186,
     "metadata": {},
     "output_type": "execute_result"
    }
   ],
   "source": [
    "it = next(d)\n",
    "l2.ix[it[1]]"
   ]
  },
  {
   "cell_type": "code",
   "execution_count": 228,
   "metadata": {
    "collapsed": true
   },
   "outputs": [],
   "source": [
    "name = l2.ix[it[1]].iloc[4].gw_ddf_id\n",
    "name_2 = l2.ix[it[1]].iloc[4].ddf_concept_id"
   ]
  },
  {
   "cell_type": "code",
   "execution_count": 229,
   "metadata": {
    "collapsed": false
   },
   "outputs": [
    {
     "data": {
      "text/plain": [
       "'population_growth_annual_percent_with_projections'"
      ]
     },
     "execution_count": 229,
     "metadata": {},
     "output_type": "execute_result"
    }
   ],
   "source": [
    "name"
   ]
  },
  {
   "cell_type": "code",
   "execution_count": 210,
   "metadata": {
    "collapsed": false
   },
   "outputs": [],
   "source": [
    "geo2 = ddf.ddf_entities(it[0])['country_code']\n",
    "\n",
    "geo2.columns = ['geo', 'name']\n",
    "\n",
    "geo_map = get_geo_map(geo2, 'geo')"
   ]
  },
  {
   "cell_type": "code",
   "execution_count": 211,
   "metadata": {
    "collapsed": false,
    "scrolled": true
   },
   "outputs": [
    {
     "data": {
      "text/html": [
       "<div>\n",
       "<table border=\"1\" class=\"dataframe\">\n",
       "  <thead>\n",
       "    <tr style=\"text-align: right;\">\n",
       "      <th></th>\n",
       "      <th>name</th>\n",
       "    </tr>\n",
       "  </thead>\n",
       "  <tbody>\n",
       "    <tr>\n",
       "      <th>158</th>\n",
       "      <td>Other non-specified areas</td>\n",
       "    </tr>\n",
       "    <tr>\n",
       "      <th>180</th>\n",
       "      <td>Democratic Republic of the Congo</td>\n",
       "    </tr>\n",
       "    <tr>\n",
       "      <th>364</th>\n",
       "      <td>Iran (Islamic Republic of)</td>\n",
       "    </tr>\n",
       "    <tr>\n",
       "      <th>410</th>\n",
       "      <td>Republic of Korea</td>\n",
       "    </tr>\n",
       "    <tr>\n",
       "      <th>418</th>\n",
       "      <td>Lao People's Democratic Republic</td>\n",
       "    </tr>\n",
       "    <tr>\n",
       "      <th>834</th>\n",
       "      <td>United Republic of Tanzania</td>\n",
       "    </tr>\n",
       "    <tr>\n",
       "      <th>900</th>\n",
       "      <td>WORLD</td>\n",
       "    </tr>\n",
       "    <tr>\n",
       "      <th>901</th>\n",
       "      <td>More developed regions</td>\n",
       "    </tr>\n",
       "    <tr>\n",
       "      <th>902</th>\n",
       "      <td>Less developed regions</td>\n",
       "    </tr>\n",
       "    <tr>\n",
       "      <th>903</th>\n",
       "      <td>AFRICA</td>\n",
       "    </tr>\n",
       "    <tr>\n",
       "      <th>904</th>\n",
       "      <td>LATIN AMERICA AND THE CARIBBEAN</td>\n",
       "    </tr>\n",
       "    <tr>\n",
       "      <th>905</th>\n",
       "      <td>NORTHERN AMERICA</td>\n",
       "    </tr>\n",
       "    <tr>\n",
       "      <th>906</th>\n",
       "      <td>Eastern Asia</td>\n",
       "    </tr>\n",
       "    <tr>\n",
       "      <th>908</th>\n",
       "      <td>EUROPE</td>\n",
       "    </tr>\n",
       "    <tr>\n",
       "      <th>909</th>\n",
       "      <td>OCEANIA</td>\n",
       "    </tr>\n",
       "    <tr>\n",
       "      <th>910</th>\n",
       "      <td>Eastern Africa</td>\n",
       "    </tr>\n",
       "    <tr>\n",
       "      <th>911</th>\n",
       "      <td>Middle Africa</td>\n",
       "    </tr>\n",
       "    <tr>\n",
       "      <th>912</th>\n",
       "      <td>Northern Africa</td>\n",
       "    </tr>\n",
       "    <tr>\n",
       "      <th>913</th>\n",
       "      <td>Southern Africa</td>\n",
       "    </tr>\n",
       "    <tr>\n",
       "      <th>914</th>\n",
       "      <td>Western Africa</td>\n",
       "    </tr>\n",
       "    <tr>\n",
       "      <th>915</th>\n",
       "      <td>Caribbean</td>\n",
       "    </tr>\n",
       "    <tr>\n",
       "      <th>916</th>\n",
       "      <td>Central America</td>\n",
       "    </tr>\n",
       "    <tr>\n",
       "      <th>920</th>\n",
       "      <td>South-Eastern Asia</td>\n",
       "    </tr>\n",
       "    <tr>\n",
       "      <th>921</th>\n",
       "      <td>South-Central Asia</td>\n",
       "    </tr>\n",
       "    <tr>\n",
       "      <th>922</th>\n",
       "      <td>Western Asia</td>\n",
       "    </tr>\n",
       "    <tr>\n",
       "      <th>923</th>\n",
       "      <td>Eastern Europe</td>\n",
       "    </tr>\n",
       "    <tr>\n",
       "      <th>924</th>\n",
       "      <td>Northern Europe</td>\n",
       "    </tr>\n",
       "    <tr>\n",
       "      <th>925</th>\n",
       "      <td>Southern Europe</td>\n",
       "    </tr>\n",
       "    <tr>\n",
       "      <th>926</th>\n",
       "      <td>Western Europe</td>\n",
       "    </tr>\n",
       "    <tr>\n",
       "      <th>927</th>\n",
       "      <td>Australia/New Zealand</td>\n",
       "    </tr>\n",
       "    <tr>\n",
       "      <th>928</th>\n",
       "      <td>Melanesia</td>\n",
       "    </tr>\n",
       "    <tr>\n",
       "      <th>931</th>\n",
       "      <td>South America</td>\n",
       "    </tr>\n",
       "    <tr>\n",
       "      <th>934</th>\n",
       "      <td>Less developed regions, excluding least develo...</td>\n",
       "    </tr>\n",
       "    <tr>\n",
       "      <th>935</th>\n",
       "      <td>ASIA</td>\n",
       "    </tr>\n",
       "    <tr>\n",
       "      <th>941</th>\n",
       "      <td>Least developed countries</td>\n",
       "    </tr>\n",
       "    <tr>\n",
       "      <th>947</th>\n",
       "      <td>Sub-Saharan Africa</td>\n",
       "    </tr>\n",
       "    <tr>\n",
       "      <th>948</th>\n",
       "      <td>Less developed regions, excluding China</td>\n",
       "    </tr>\n",
       "    <tr>\n",
       "      <th>957</th>\n",
       "      <td>Polynesia</td>\n",
       "    </tr>\n",
       "    <tr>\n",
       "      <th>1500</th>\n",
       "      <td>Low-income countries</td>\n",
       "    </tr>\n",
       "    <tr>\n",
       "      <th>1501</th>\n",
       "      <td>Lower-middle-income countries</td>\n",
       "    </tr>\n",
       "    <tr>\n",
       "      <th>1502</th>\n",
       "      <td>Upper-middle-income countries</td>\n",
       "    </tr>\n",
       "    <tr>\n",
       "      <th>1503</th>\n",
       "      <td>High-income countries</td>\n",
       "    </tr>\n",
       "    <tr>\n",
       "      <th>1517</th>\n",
       "      <td>Middle-income countries</td>\n",
       "    </tr>\n",
       "    <tr>\n",
       "      <th>5500</th>\n",
       "      <td>Central Asia</td>\n",
       "    </tr>\n",
       "    <tr>\n",
       "      <th>5501</th>\n",
       "      <td>Southern Asia</td>\n",
       "    </tr>\n",
       "  </tbody>\n",
       "</table>\n",
       "</div>"
      ],
      "text/plain": [
       "                                                   name\n",
       "158                           Other non-specified areas\n",
       "180                    Democratic Republic of the Congo\n",
       "364                          Iran (Islamic Republic of)\n",
       "410                                   Republic of Korea\n",
       "418                    Lao People's Democratic Republic\n",
       "834                         United Republic of Tanzania\n",
       "900                                               WORLD\n",
       "901                              More developed regions\n",
       "902                              Less developed regions\n",
       "903                                              AFRICA\n",
       "904                     LATIN AMERICA AND THE CARIBBEAN\n",
       "905                                    NORTHERN AMERICA\n",
       "906                                        Eastern Asia\n",
       "908                                              EUROPE\n",
       "909                                             OCEANIA\n",
       "910                                      Eastern Africa\n",
       "911                                       Middle Africa\n",
       "912                                     Northern Africa\n",
       "913                                     Southern Africa\n",
       "914                                      Western Africa\n",
       "915                                           Caribbean\n",
       "916                                     Central America\n",
       "920                                  South-Eastern Asia\n",
       "921                                  South-Central Asia\n",
       "922                                        Western Asia\n",
       "923                                      Eastern Europe\n",
       "924                                     Northern Europe\n",
       "925                                     Southern Europe\n",
       "926                                      Western Europe\n",
       "927                               Australia/New Zealand\n",
       "928                                           Melanesia\n",
       "931                                       South America\n",
       "934   Less developed regions, excluding least develo...\n",
       "935                                                ASIA\n",
       "941                           Least developed countries\n",
       "947                                  Sub-Saharan Africa\n",
       "948             Less developed regions, excluding China\n",
       "957                                           Polynesia\n",
       "1500                               Low-income countries\n",
       "1501                      Lower-middle-income countries\n",
       "1502                      Upper-middle-income countries\n",
       "1503                              High-income countries\n",
       "1517                            Middle-income countries\n",
       "5500                                       Central Asia\n",
       "5501                                      Southern Asia"
      ]
     },
     "execution_count": 211,
     "metadata": {},
     "output_type": "execute_result"
    }
   ],
   "source": [
    "a = pd.DataFrame(data=geo_map, index=['map']).T\n",
    "a = a[a['map'].isnull()]\n",
    "\n",
    "geo2.set_index('geo').ix[a.index]"
   ]
  },
  {
   "cell_type": "code",
   "execution_count": 212,
   "metadata": {
    "collapsed": true
   },
   "outputs": [],
   "source": [
    "geo_map[180] = 'cod'\n",
    "geo_map[364] = 'irn'\n",
    "geo_map[410] = 'kor'\n",
    "geo_map[834] = 'tza'\n",
    "geo_map[957] = 'pyf'\n",
    "\n",
    "a = a.drop([180, 364, 410, 834, 957])"
   ]
  },
  {
   "cell_type": "code",
   "execution_count": 230,
   "metadata": {
    "collapsed": true
   },
   "outputs": [],
   "source": [
    "left = ddf.ddf_datapoint('ddf--gapminder--systema_globalis', name).set_index(['geo', 'time'])"
   ]
  },
  {
   "cell_type": "code",
   "execution_count": 231,
   "metadata": {
    "collapsed": false
   },
   "outputs": [],
   "source": [
    "right = ddf.ddf_datapoint(it[0], name_2)\n",
    "\n",
    "right = right.query(\"country_code not in @a.index\")[['country_code', 'reference_date_1_january_31_december', name_2]]\n",
    "right.columns = ['geo', 'time', name]\n",
    "\n",
    "right.geo = right.geo.map(lambda x: geo_map[x])"
   ]
  },
  {
   "cell_type": "code",
   "execution_count": 233,
   "metadata": {
    "collapsed": false
   },
   "outputs": [],
   "source": [
    "right.sort_values(by=['geo', 'time'])[['geo', name, 'time']]\\\n",
    ".to_csv('../ddf--datapoints--'+name+'--by--geo--time.csv', float_format='%.2f', index=False)"
   ]
  },
  {
   "cell_type": "code",
   "execution_count": null,
   "metadata": {
    "collapsed": true
   },
   "outputs": [],
   "source": []
  },
  {
   "cell_type": "code",
   "execution_count": 234,
   "metadata": {
    "collapsed": false
   },
   "outputs": [
    {
     "data": {
      "text/html": [
       "<div>\n",
       "<table border=\"1\" class=\"dataframe\">\n",
       "  <thead>\n",
       "    <tr style=\"text-align: right;\">\n",
       "      <th></th>\n",
       "      <th>gw_ddf_id</th>\n",
       "      <th>found_in_ddf</th>\n",
       "      <th>ddf_concept_id</th>\n",
       "      <th>Notes</th>\n",
       "    </tr>\n",
       "  </thead>\n",
       "  <tbody>\n",
       "    <tr>\n",
       "      <th>89</th>\n",
       "      <td>gdpperworking_hour_us_inflation_adjusted</td>\n",
       "      <td>ddf--ilo--kilm_labour_prod</td>\n",
       "      <td>gdp_per_hour_worked_constant_1990_us_at_ppp</td>\n",
       "      <td>data different?</td>\n",
       "    </tr>\n",
       "  </tbody>\n",
       "</table>\n",
       "</div>"
      ],
      "text/plain": [
       "                                   gw_ddf_id                found_in_ddf  \\\n",
       "89  gdpperworking_hour_us_inflation_adjusted  ddf--ilo--kilm_labour_prod   \n",
       "\n",
       "                                 ddf_concept_id            Notes  \n",
       "89  gdp_per_hour_worked_constant_1990_us_at_ppp  data different?  "
      ]
     },
     "execution_count": 234,
     "metadata": {},
     "output_type": "execute_result"
    }
   ],
   "source": [
    "it = next(d)\n",
    "l2.ix[it[1]]"
   ]
  },
  {
   "cell_type": "code",
   "execution_count": 236,
   "metadata": {
    "collapsed": false
   },
   "outputs": [],
   "source": [
    "name = l2.ix[it[1]].iloc[0].gw_ddf_id\n",
    "name_2 = l2.ix[it[1]].iloc[0].ddf_concept_id"
   ]
  },
  {
   "cell_type": "code",
   "execution_count": 237,
   "metadata": {
    "collapsed": true
   },
   "outputs": [],
   "source": [
    "left = ddf.ddf_datapoint('ddf--gapminder--systema_globalis', name).set_index(['geo', 'time'])"
   ]
  },
  {
   "cell_type": "code",
   "execution_count": 238,
   "metadata": {
    "collapsed": true
   },
   "outputs": [],
   "source": [
    "right = ddf.ddf_datapoint(it[0], name_2)"
   ]
  },
  {
   "cell_type": "code",
   "execution_count": 241,
   "metadata": {
    "collapsed": false
   },
   "outputs": [],
   "source": [
    "right.columns = ['geo', 'time', name]"
   ]
  },
  {
   "cell_type": "code",
   "execution_count": 242,
   "metadata": {
    "collapsed": true
   },
   "outputs": [],
   "source": [
    "right.sort_values(by=['geo', 'time'])[['geo', name, 'time']]\\\n",
    ".to_csv('../ddf--datapoints--'+name+'--by--geo--time.csv', float_format='%.2f', index=False)"
   ]
  },
  {
   "cell_type": "code",
   "execution_count": null,
   "metadata": {
    "collapsed": true
   },
   "outputs": [],
   "source": []
  },
  {
   "cell_type": "code",
   "execution_count": null,
   "metadata": {
    "collapsed": true
   },
   "outputs": [],
   "source": []
  },
  {
   "cell_type": "code",
   "execution_count": 243,
   "metadata": {
    "collapsed": false
   },
   "outputs": [
    {
     "data": {
      "text/html": [
       "<div>\n",
       "<table border=\"1\" class=\"dataframe\">\n",
       "  <thead>\n",
       "    <tr style=\"text-align: right;\">\n",
       "      <th></th>\n",
       "      <th>gw_ddf_id</th>\n",
       "      <th>found_in_ddf</th>\n",
       "      <th>ddf_concept_id</th>\n",
       "      <th>Notes</th>\n",
       "    </tr>\n",
       "  </thead>\n",
       "  <tbody>\n",
       "    <tr>\n",
       "      <th>144</th>\n",
       "      <td>corruption_perception_index_cpi</td>\n",
       "      <td>ddf--transpint--corrupton</td>\n",
       "      <td>cpi</td>\n",
       "      <td>combine with old data</td>\n",
       "    </tr>\n",
       "  </tbody>\n",
       "</table>\n",
       "</div>"
      ],
      "text/plain": [
       "                           gw_ddf_id               found_in_ddf  \\\n",
       "144  corruption_perception_index_cpi  ddf--transpint--corrupton   \n",
       "\n",
       "    ddf_concept_id                  Notes  \n",
       "144            cpi  combine with old data  "
      ]
     },
     "execution_count": 243,
     "metadata": {},
     "output_type": "execute_result"
    }
   ],
   "source": [
    "it = next(d)\n",
    "l2.ix[it[1]]"
   ]
  },
  {
   "cell_type": "code",
   "execution_count": 244,
   "metadata": {
    "collapsed": true
   },
   "outputs": [],
   "source": [
    "name = l2.ix[it[1]].iloc[0].gw_ddf_id\n",
    "name_2 = l2.ix[it[1]].iloc[0].ddf_concept_id"
   ]
  },
  {
   "cell_type": "code",
   "execution_count": 245,
   "metadata": {
    "collapsed": true
   },
   "outputs": [],
   "source": [
    "left = ddf.ddf_datapoint('ddf--gapminder--systema_globalis', name).set_index(['geo', 'time'])"
   ]
  },
  {
   "cell_type": "code",
   "execution_count": 246,
   "metadata": {
    "collapsed": true
   },
   "outputs": [],
   "source": [
    "right = ddf.ddf_datapoint(it[0], name_2)"
   ]
  },
  {
   "cell_type": "code",
   "execution_count": 250,
   "metadata": {
    "collapsed": false
   },
   "outputs": [],
   "source": [
    "right.columns = ['geo', 'time', name]\n",
    "right = right.set_index(['geo', 'time'])"
   ]
  },
  {
   "cell_type": "code",
   "execution_count": 257,
   "metadata": {
    "collapsed": false
   },
   "outputs": [],
   "source": [
    "final = left.append(right)"
   ]
  },
  {
   "cell_type": "code",
   "execution_count": 259,
   "metadata": {
    "collapsed": false
   },
   "outputs": [],
   "source": [
    "final.sort_index().reset_index()[['geo', name, 'time']]\\\n",
    ".to_csv('../ddf--datapoints--'+name+'--by--geo--time.csv', float_format='%.2f', index=False)"
   ]
  },
  {
   "cell_type": "code",
   "execution_count": null,
   "metadata": {
    "collapsed": true
   },
   "outputs": [],
   "source": []
  },
  {
   "cell_type": "code",
   "execution_count": null,
   "metadata": {
    "collapsed": true
   },
   "outputs": [],
   "source": []
  },
  {
   "cell_type": "code",
   "execution_count": 260,
   "metadata": {
    "collapsed": false
   },
   "outputs": [
    {
     "data": {
      "text/html": [
       "<div>\n",
       "<table border=\"1\" class=\"dataframe\">\n",
       "  <thead>\n",
       "    <tr style=\"text-align: right;\">\n",
       "      <th></th>\n",
       "      <th>gw_ddf_id</th>\n",
       "      <th>found_in_ddf</th>\n",
       "      <th>ddf_concept_id</th>\n",
       "      <th>Notes</th>\n",
       "    </tr>\n",
       "  </thead>\n",
       "  <tbody>\n",
       "    <tr>\n",
       "      <th>145</th>\n",
       "      <td>literacy_rate_adult_female_percent_of_females_...</td>\n",
       "      <td>ddf--uis--stats</td>\n",
       "      <td>lr_ag15t99_f</td>\n",
       "      <td>NaN</td>\n",
       "    </tr>\n",
       "    <tr>\n",
       "      <th>146</th>\n",
       "      <td>literacy_rate_adult_male_percent_of_males_ages...</td>\n",
       "      <td>ddf--uis--stats</td>\n",
       "      <td>lr_ag15t99_m</td>\n",
       "      <td>NaN</td>\n",
       "    </tr>\n",
       "    <tr>\n",
       "      <th>147</th>\n",
       "      <td>literacy_rate_youth_female_percent_of_females_...</td>\n",
       "      <td>ddf--uis--stats</td>\n",
       "      <td>lr_ag15t24_f</td>\n",
       "      <td>NaN</td>\n",
       "    </tr>\n",
       "    <tr>\n",
       "      <th>148</th>\n",
       "      <td>literacy_rate_youth_male_percent_of_males_ages...</td>\n",
       "      <td>ddf--uis--stats</td>\n",
       "      <td>lr_ag15t24_m</td>\n",
       "      <td>NaN</td>\n",
       "    </tr>\n",
       "    <tr>\n",
       "      <th>149</th>\n",
       "      <td>literacy_rate_youth_total_percent_of_people_ag...</td>\n",
       "      <td>ddf--uis--stats</td>\n",
       "      <td>lr_ag15t24</td>\n",
       "      <td>NaN</td>\n",
       "    </tr>\n",
       "    <tr>\n",
       "      <th>150</th>\n",
       "      <td>literacy_rate_adult_total_percent_of_people_ag...</td>\n",
       "      <td>ddf--uis--stats</td>\n",
       "      <td>lr_ag15t99</td>\n",
       "      <td>NaN</td>\n",
       "    </tr>\n",
       "  </tbody>\n",
       "</table>\n",
       "</div>"
      ],
      "text/plain": [
       "                                             gw_ddf_id     found_in_ddf  \\\n",
       "145  literacy_rate_adult_female_percent_of_females_...  ddf--uis--stats   \n",
       "146  literacy_rate_adult_male_percent_of_males_ages...  ddf--uis--stats   \n",
       "147  literacy_rate_youth_female_percent_of_females_...  ddf--uis--stats   \n",
       "148  literacy_rate_youth_male_percent_of_males_ages...  ddf--uis--stats   \n",
       "149  literacy_rate_youth_total_percent_of_people_ag...  ddf--uis--stats   \n",
       "150  literacy_rate_adult_total_percent_of_people_ag...  ddf--uis--stats   \n",
       "\n",
       "    ddf_concept_id Notes  \n",
       "145   lr_ag15t99_f   NaN  \n",
       "146   lr_ag15t99_m   NaN  \n",
       "147   lr_ag15t24_f   NaN  \n",
       "148   lr_ag15t24_m   NaN  \n",
       "149     lr_ag15t24   NaN  \n",
       "150     lr_ag15t99   NaN  "
      ]
     },
     "execution_count": 260,
     "metadata": {},
     "output_type": "execute_result"
    }
   ],
   "source": [
    "it = next(d)\n",
    "l2.ix[it[1]]"
   ]
  },
  {
   "cell_type": "code",
   "execution_count": 316,
   "metadata": {
    "collapsed": false
   },
   "outputs": [],
   "source": [
    "name = l2.ix[it[1]].iloc[5].gw_ddf_id\n",
    "name_2 = l2.ix[it[1]].iloc[5].ddf_concept_id"
   ]
  },
  {
   "cell_type": "code",
   "execution_count": 291,
   "metadata": {
    "collapsed": true
   },
   "outputs": [],
   "source": [
    "geo2 = ddf.ddf_entities(it[0])['location']"
   ]
  },
  {
   "cell_type": "code",
   "execution_count": 268,
   "metadata": {
    "collapsed": false
   },
   "outputs": [],
   "source": [
    "geo_map = get_geo_map(geo2, 'location')"
   ]
  },
  {
   "cell_type": "code",
   "execution_count": 274,
   "metadata": {
    "collapsed": false,
    "scrolled": true
   },
   "outputs": [
    {
     "data": {
      "text/html": [
       "<div>\n",
       "<table border=\"1\" class=\"dataframe\">\n",
       "  <thead>\n",
       "    <tr style=\"text-align: right;\">\n",
       "      <th></th>\n",
       "      <th>name</th>\n",
       "    </tr>\n",
       "  </thead>\n",
       "  <tbody>\n",
       "    <tr>\n",
       "      <th>40520</th>\n",
       "      <td>Latin America and the Caribbean</td>\n",
       "    </tr>\n",
       "    <tr>\n",
       "      <th>40525</th>\n",
       "      <td>Arab States</td>\n",
       "    </tr>\n",
       "    <tr>\n",
       "      <th>40530</th>\n",
       "      <td>Central and Eastern Europe</td>\n",
       "    </tr>\n",
       "    <tr>\n",
       "      <th>40535</th>\n",
       "      <td>South and West Asia</td>\n",
       "    </tr>\n",
       "    <tr>\n",
       "      <th>40540</th>\n",
       "      <td>Sub-Saharan Africa</td>\n",
       "    </tr>\n",
       "    <tr>\n",
       "      <th>ala</th>\n",
       "      <td>Åland Islands</td>\n",
       "    </tr>\n",
       "    <tr>\n",
       "      <th>blm</th>\n",
       "      <td>Saint-Barthélemy</td>\n",
       "    </tr>\n",
       "    <tr>\n",
       "      <th>cod</th>\n",
       "      <td>Democratic Republic of the Congo</td>\n",
       "    </tr>\n",
       "    <tr>\n",
       "      <th>efa</th>\n",
       "      <td>Education For All Regions</td>\n",
       "    </tr>\n",
       "    <tr>\n",
       "      <th>hkg</th>\n",
       "      <td>China, Hong Kong Special Administrative Region</td>\n",
       "    </tr>\n",
       "    <tr>\n",
       "      <th>irn</th>\n",
       "      <td>Iran (Islamic Republic of)</td>\n",
       "    </tr>\n",
       "    <tr>\n",
       "      <th>kor</th>\n",
       "      <td>Republic of Korea</td>\n",
       "    </tr>\n",
       "    <tr>\n",
       "      <th>lao</th>\n",
       "      <td>Lao People's Democratic Republic</td>\n",
       "    </tr>\n",
       "    <tr>\n",
       "      <th>mac</th>\n",
       "      <td>China, Macao Special Administrative Region</td>\n",
       "    </tr>\n",
       "    <tr>\n",
       "      <th>maf</th>\n",
       "      <td>Saint-Martin (French part)</td>\n",
       "    </tr>\n",
       "    <tr>\n",
       "      <th>mdgr</th>\n",
       "      <td>Millenium Development Goals Regions</td>\n",
       "    </tr>\n",
       "    <tr>\n",
       "      <th>sjm</th>\n",
       "      <td>Svalbard and Jan Mayen Islands</td>\n",
       "    </tr>\n",
       "    <tr>\n",
       "      <th>spm</th>\n",
       "      <td>Saint Pierre and Miquelon</td>\n",
       "    </tr>\n",
       "    <tr>\n",
       "      <th>tza</th>\n",
       "      <td>United Republic of Tanzania</td>\n",
       "    </tr>\n",
       "    <tr>\n",
       "      <th>uis</th>\n",
       "      <td>UIS Regions</td>\n",
       "    </tr>\n",
       "    <tr>\n",
       "      <th>unesco</th>\n",
       "      <td>UNESCO Regions</td>\n",
       "    </tr>\n",
       "    <tr>\n",
       "      <th>wb</th>\n",
       "      <td>World Bank Regions</td>\n",
       "    </tr>\n",
       "    <tr>\n",
       "      <th>wlf</th>\n",
       "      <td>Wallis and Futuna Islands</td>\n",
       "    </tr>\n",
       "    <tr>\n",
       "      <th>xdn</th>\n",
       "      <td>Sudan (pre-secession)</td>\n",
       "    </tr>\n",
       "  </tbody>\n",
       "</table>\n",
       "</div>"
      ],
      "text/plain": [
       "                                                  name\n",
       "40520                  Latin America and the Caribbean\n",
       "40525                                      Arab States\n",
       "40530                       Central and Eastern Europe\n",
       "40535                              South and West Asia\n",
       "40540                               Sub-Saharan Africa\n",
       "ala                                      Åland Islands\n",
       "blm                                   Saint-Barthélemy\n",
       "cod                   Democratic Republic of the Congo\n",
       "efa                          Education For All Regions\n",
       "hkg     China, Hong Kong Special Administrative Region\n",
       "irn                         Iran (Islamic Republic of)\n",
       "kor                                  Republic of Korea\n",
       "lao                   Lao People's Democratic Republic\n",
       "mac         China, Macao Special Administrative Region\n",
       "maf                         Saint-Martin (French part)\n",
       "mdgr               Millenium Development Goals Regions\n",
       "sjm                     Svalbard and Jan Mayen Islands\n",
       "spm                          Saint Pierre and Miquelon\n",
       "tza                        United Republic of Tanzania\n",
       "uis                                        UIS Regions\n",
       "unesco                                  UNESCO Regions\n",
       "wb                                  World Bank Regions\n",
       "wlf                          Wallis and Futuna Islands\n",
       "xdn                              Sudan (pre-secession)"
      ]
     },
     "execution_count": 274,
     "metadata": {},
     "output_type": "execute_result"
    }
   ],
   "source": [
    "a = pd.DataFrame(data=geo_map, index=['map']).T\n",
    "a = a[a['map'].isnull()]\n",
    "\n",
    "geo2.set_index('location').ix[a.index].ix[40:]"
   ]
  },
  {
   "cell_type": "code",
   "execution_count": 275,
   "metadata": {
    "collapsed": true
   },
   "outputs": [],
   "source": [
    "to_drop = []\n",
    "\n",
    "for i in a.index:\n",
    "    if i in geo.country.values:\n",
    "        to_drop.append(i)"
   ]
  },
  {
   "cell_type": "code",
   "execution_count": 277,
   "metadata": {
    "collapsed": false
   },
   "outputs": [],
   "source": [
    "a = a.drop(to_drop)"
   ]
  },
  {
   "cell_type": "code",
   "execution_count": 310,
   "metadata": {
    "collapsed": true
   },
   "outputs": [],
   "source": [
    "left = ddf.ddf_datapoint('ddf--gapminder--systema_globalis', name).set_index(['geo', 'time'])"
   ]
  },
  {
   "cell_type": "code",
   "execution_count": 311,
   "metadata": {
    "collapsed": true
   },
   "outputs": [],
   "source": [
    "right = ddf.ddf_datapoint(it[0], name_2)"
   ]
  },
  {
   "cell_type": "code",
   "execution_count": 312,
   "metadata": {
    "collapsed": false,
    "scrolled": true
   },
   "outputs": [],
   "source": [
    "right = right.query(\"location not in @a.index\")"
   ]
  },
  {
   "cell_type": "code",
   "execution_count": 313,
   "metadata": {
    "collapsed": false
   },
   "outputs": [],
   "source": [
    "right.columns = ['geo', 'time', name]"
   ]
  },
  {
   "cell_type": "code",
   "execution_count": 314,
   "metadata": {
    "collapsed": true
   },
   "outputs": [],
   "source": [
    "right[['geo', name, 'time']].to_csv('../ddf--datapoints--'+name+'--by--geo--time.csv', float_format='%.2f', index=False)"
   ]
  },
  {
   "cell_type": "code",
   "execution_count": null,
   "metadata": {
    "collapsed": true
   },
   "outputs": [],
   "source": []
  },
  {
   "cell_type": "code",
   "execution_count": null,
   "metadata": {
    "collapsed": true
   },
   "outputs": [],
   "source": []
  },
  {
   "cell_type": "code",
   "execution_count": 317,
   "metadata": {
    "collapsed": false
   },
   "outputs": [
    {
     "data": {
      "text/html": [
       "<div>\n",
       "<table border=\"1\" class=\"dataframe\">\n",
       "  <thead>\n",
       "    <tr style=\"text-align: right;\">\n",
       "      <th></th>\n",
       "      <th>gw_ddf_id</th>\n",
       "      <th>found_in_ddf</th>\n",
       "      <th>ddf_concept_id</th>\n",
       "      <th>Notes</th>\n",
       "    </tr>\n",
       "  </thead>\n",
       "  <tbody>\n",
       "    <tr>\n",
       "      <th>70</th>\n",
       "      <td>agriculture_workers_percent_of_labour_force</td>\n",
       "      <td>ddf--ilo--kilm_employment_sector</td>\n",
       "      <td>agriculture_percentage</td>\n",
       "      <td>filter sex=='mf'</td>\n",
       "    </tr>\n",
       "    <tr>\n",
       "      <th>71</th>\n",
       "      <td>female_agriculture_workers_percent_of_female_l...</td>\n",
       "      <td>ddf--ilo--kilm_employment_sector</td>\n",
       "      <td>agriculture_percentage</td>\n",
       "      <td>filter sex=='f'</td>\n",
       "    </tr>\n",
       "    <tr>\n",
       "      <th>72</th>\n",
       "      <td>female_industry_workers_percent_of_female_labo...</td>\n",
       "      <td>ddf--ilo--kilm_employment_sector</td>\n",
       "      <td>industry_percentage</td>\n",
       "      <td>NaN</td>\n",
       "    </tr>\n",
       "    <tr>\n",
       "      <th>73</th>\n",
       "      <td>female_service_workers_percent_of_female_labou...</td>\n",
       "      <td>ddf--ilo--kilm_employment_sector</td>\n",
       "      <td>services_percentage</td>\n",
       "      <td>NaN</td>\n",
       "    </tr>\n",
       "    <tr>\n",
       "      <th>74</th>\n",
       "      <td>industry_workers_percent_of_labour_force</td>\n",
       "      <td>ddf--ilo--kilm_employment_sector</td>\n",
       "      <td>industry_percentage</td>\n",
       "      <td>NaN</td>\n",
       "    </tr>\n",
       "    <tr>\n",
       "      <th>75</th>\n",
       "      <td>male_agriculture_workers_percent_of_male_labou...</td>\n",
       "      <td>ddf--ilo--kilm_employment_sector</td>\n",
       "      <td>agriculture_percentage</td>\n",
       "      <td>NaN</td>\n",
       "    </tr>\n",
       "    <tr>\n",
       "      <th>76</th>\n",
       "      <td>male_industry_workers_percent_of_male_labour_f...</td>\n",
       "      <td>ddf--ilo--kilm_employment_sector</td>\n",
       "      <td>industry_percentage</td>\n",
       "      <td>NaN</td>\n",
       "    </tr>\n",
       "    <tr>\n",
       "      <th>77</th>\n",
       "      <td>male_service_workers_percent_of_male_labour_force</td>\n",
       "      <td>ddf--ilo--kilm_employment_sector</td>\n",
       "      <td>services_percentage</td>\n",
       "      <td>NaN</td>\n",
       "    </tr>\n",
       "    <tr>\n",
       "      <th>78</th>\n",
       "      <td>service_workers_percent_of_labour_force</td>\n",
       "      <td>ddf--ilo--kilm_employment_sector</td>\n",
       "      <td>services_percentage</td>\n",
       "      <td>NaN</td>\n",
       "    </tr>\n",
       "  </tbody>\n",
       "</table>\n",
       "</div>"
      ],
      "text/plain": [
       "                                            gw_ddf_id  \\\n",
       "70        agriculture_workers_percent_of_labour_force   \n",
       "71  female_agriculture_workers_percent_of_female_l...   \n",
       "72  female_industry_workers_percent_of_female_labo...   \n",
       "73  female_service_workers_percent_of_female_labou...   \n",
       "74           industry_workers_percent_of_labour_force   \n",
       "75  male_agriculture_workers_percent_of_male_labou...   \n",
       "76  male_industry_workers_percent_of_male_labour_f...   \n",
       "77  male_service_workers_percent_of_male_labour_force   \n",
       "78            service_workers_percent_of_labour_force   \n",
       "\n",
       "                        found_in_ddf          ddf_concept_id             Notes  \n",
       "70  ddf--ilo--kilm_employment_sector  agriculture_percentage  filter sex=='mf'  \n",
       "71  ddf--ilo--kilm_employment_sector  agriculture_percentage   filter sex=='f'  \n",
       "72  ddf--ilo--kilm_employment_sector     industry_percentage               NaN  \n",
       "73  ddf--ilo--kilm_employment_sector     services_percentage               NaN  \n",
       "74  ddf--ilo--kilm_employment_sector     industry_percentage               NaN  \n",
       "75  ddf--ilo--kilm_employment_sector  agriculture_percentage               NaN  \n",
       "76  ddf--ilo--kilm_employment_sector     industry_percentage               NaN  \n",
       "77  ddf--ilo--kilm_employment_sector     services_percentage               NaN  \n",
       "78  ddf--ilo--kilm_employment_sector     services_percentage               NaN  "
      ]
     },
     "execution_count": 317,
     "metadata": {},
     "output_type": "execute_result"
    }
   ],
   "source": [
    "it = next(d)\n",
    "l2.ix[it[1]]"
   ]
  },
  {
   "cell_type": "code",
   "execution_count": 383,
   "metadata": {
    "collapsed": false
   },
   "outputs": [],
   "source": [
    "name = l2.ix[it[1]].iloc[8].gw_ddf_id\n",
    "name_2 = l2.ix[it[1]].iloc[8].ddf_concept_id"
   ]
  },
  {
   "cell_type": "code",
   "execution_count": 378,
   "metadata": {
    "collapsed": false
   },
   "outputs": [
    {
     "data": {
      "text/plain": [
       "'service_workers_percent_of_labour_force'"
      ]
     },
     "execution_count": 378,
     "metadata": {},
     "output_type": "execute_result"
    }
   ],
   "source": [
    "name"
   ]
  },
  {
   "cell_type": "code",
   "execution_count": 358,
   "metadata": {
    "collapsed": true
   },
   "outputs": [],
   "source": [
    "left = ddf.ddf_datapoint('ddf--gapminder--systema_globalis', name).set_index(['geo', 'time'])"
   ]
  },
  {
   "cell_type": "code",
   "execution_count": 379,
   "metadata": {
    "collapsed": true
   },
   "outputs": [],
   "source": [
    "right = ddf.ddf_datapoint(it[0], name_2)\n",
    "right = right.query(\"sex == 'mf'\")[['country', 'year', name_2]]"
   ]
  },
  {
   "cell_type": "code",
   "execution_count": 380,
   "metadata": {
    "collapsed": false,
    "scrolled": true
   },
   "outputs": [],
   "source": [
    "right.columns = ['geo', 'time', name]"
   ]
  },
  {
   "cell_type": "code",
   "execution_count": 381,
   "metadata": {
    "collapsed": true
   },
   "outputs": [],
   "source": [
    "right[['geo', name, 'time']].to_csv('../ddf--datapoints--'+name+'--by--geo--time.csv', float_format='%.2f', index=False)"
   ]
  },
  {
   "cell_type": "code",
   "execution_count": null,
   "metadata": {
    "collapsed": true
   },
   "outputs": [],
   "source": []
  },
  {
   "cell_type": "code",
   "execution_count": null,
   "metadata": {
    "collapsed": true
   },
   "outputs": [],
   "source": []
  },
  {
   "cell_type": "code",
   "execution_count": 384,
   "metadata": {
    "collapsed": false
   },
   "outputs": [
    {
     "data": {
      "text/html": [
       "<div>\n",
       "<table border=\"1\" class=\"dataframe\">\n",
       "  <thead>\n",
       "    <tr style=\"text-align: right;\">\n",
       "      <th></th>\n",
       "      <th>gw_ddf_id</th>\n",
       "      <th>found_in_ddf</th>\n",
       "      <th>ddf_concept_id</th>\n",
       "      <th>Notes</th>\n",
       "    </tr>\n",
       "  </thead>\n",
       "  <tbody>\n",
       "    <tr>\n",
       "      <th>26</th>\n",
       "      <td>agricultural_water_withdrawal_percent_of_total</td>\n",
       "      <td>ddf--fao--aquastat</td>\n",
       "      <td>agricultural_water_withdrawal_as_of_total_wate...</td>\n",
       "      <td>NaN</td>\n",
       "    </tr>\n",
       "    <tr>\n",
       "      <th>27</th>\n",
       "      <td>desalinated_water_produced_billion_cu_meters</td>\n",
       "      <td>ddf--fao--aquastat</td>\n",
       "      <td>desalinated_water_produced</td>\n",
       "      <td>NaN</td>\n",
       "    </tr>\n",
       "    <tr>\n",
       "      <th>28</th>\n",
       "      <td>industrial_water_withdrawal_percent_of_total</td>\n",
       "      <td>ddf--fao--aquastat</td>\n",
       "      <td>industrial_water_withdrawal_as_of_total_water_...</td>\n",
       "      <td>NaN</td>\n",
       "    </tr>\n",
       "    <tr>\n",
       "      <th>29</th>\n",
       "      <td>municipal_water_withdrawal_percent_of_total</td>\n",
       "      <td>ddf--fao--aquastat</td>\n",
       "      <td>municipal_water_withdrawal_as_of_total_withdrawal</td>\n",
       "      <td>NaN</td>\n",
       "    </tr>\n",
       "    <tr>\n",
       "      <th>30</th>\n",
       "      <td>internal_renewable_water_cu_meters_per_person</td>\n",
       "      <td>ddf--fao--aquastat</td>\n",
       "      <td>total_internal_renewable_water_resources_per_c...</td>\n",
       "      <td>data difference?</td>\n",
       "    </tr>\n",
       "    <tr>\n",
       "      <th>31</th>\n",
       "      <td>renewable_water_cu_meters_per_person</td>\n",
       "      <td>ddf--fao--aquastat</td>\n",
       "      <td>total_renewable_water_resources_per_capita</td>\n",
       "      <td>data difference?</td>\n",
       "    </tr>\n",
       "    <tr>\n",
       "      <th>32</th>\n",
       "      <td>total_water_withdrawal_billion_cu_meters</td>\n",
       "      <td>ddf--fao--aquastat</td>\n",
       "      <td>total_water_withdrawal</td>\n",
       "      <td>NaN</td>\n",
       "    </tr>\n",
       "    <tr>\n",
       "      <th>33</th>\n",
       "      <td>water_withdrawal_cu_meters_per_person</td>\n",
       "      <td>ddf--fao--aquastat</td>\n",
       "      <td>total_water_withdrawal_per_capita</td>\n",
       "      <td>NaN</td>\n",
       "    </tr>\n",
       "  </tbody>\n",
       "</table>\n",
       "</div>"
      ],
      "text/plain": [
       "                                         gw_ddf_id        found_in_ddf  \\\n",
       "26  agricultural_water_withdrawal_percent_of_total  ddf--fao--aquastat   \n",
       "27    desalinated_water_produced_billion_cu_meters  ddf--fao--aquastat   \n",
       "28    industrial_water_withdrawal_percent_of_total  ddf--fao--aquastat   \n",
       "29     municipal_water_withdrawal_percent_of_total  ddf--fao--aquastat   \n",
       "30   internal_renewable_water_cu_meters_per_person  ddf--fao--aquastat   \n",
       "31            renewable_water_cu_meters_per_person  ddf--fao--aquastat   \n",
       "32        total_water_withdrawal_billion_cu_meters  ddf--fao--aquastat   \n",
       "33           water_withdrawal_cu_meters_per_person  ddf--fao--aquastat   \n",
       "\n",
       "                                       ddf_concept_id             Notes  \n",
       "26  agricultural_water_withdrawal_as_of_total_wate...               NaN  \n",
       "27                         desalinated_water_produced               NaN  \n",
       "28  industrial_water_withdrawal_as_of_total_water_...               NaN  \n",
       "29  municipal_water_withdrawal_as_of_total_withdrawal               NaN  \n",
       "30  total_internal_renewable_water_resources_per_c...  data difference?  \n",
       "31         total_renewable_water_resources_per_capita  data difference?  \n",
       "32                             total_water_withdrawal               NaN  \n",
       "33                  total_water_withdrawal_per_capita               NaN  "
      ]
     },
     "execution_count": 384,
     "metadata": {},
     "output_type": "execute_result"
    }
   ],
   "source": [
    "it = next(d)\n",
    "l2.ix[it[1]]"
   ]
  },
  {
   "cell_type": "code",
   "execution_count": 433,
   "metadata": {
    "collapsed": false
   },
   "outputs": [],
   "source": [
    "name = l2.ix[it[1]].iloc[7].gw_ddf_id\n",
    "name_2 = l2.ix[it[1]].iloc[7].ddf_concept_id"
   ]
  },
  {
   "cell_type": "code",
   "execution_count": 427,
   "metadata": {
    "collapsed": false
   },
   "outputs": [
    {
     "data": {
      "text/plain": [
       "'water_withdrawal_cu_meters_per_person'"
      ]
     },
     "execution_count": 427,
     "metadata": {},
     "output_type": "execute_result"
    }
   ],
   "source": [
    "name"
   ]
  },
  {
   "cell_type": "code",
   "execution_count": 428,
   "metadata": {
    "collapsed": true
   },
   "outputs": [],
   "source": [
    "left = ddf.ddf_datapoint('ddf--gapminder--systema_globalis', name).set_index(['geo', 'time'])"
   ]
  },
  {
   "cell_type": "code",
   "execution_count": 429,
   "metadata": {
    "collapsed": true
   },
   "outputs": [],
   "source": [
    "right = ddf.ddf_datapoint(it[0], name_2)"
   ]
  },
  {
   "cell_type": "code",
   "execution_count": 430,
   "metadata": {
    "collapsed": false
   },
   "outputs": [],
   "source": [
    "right.columns = ['geo', 'time', name]"
   ]
  },
  {
   "cell_type": "code",
   "execution_count": 431,
   "metadata": {
    "collapsed": true
   },
   "outputs": [],
   "source": [
    "right[['geo', name, 'time']].to_csv('../ddf--datapoints--'+name+'--by--geo--time.csv', float_format='%.2f', index=False)"
   ]
  },
  {
   "cell_type": "code",
   "execution_count": null,
   "metadata": {
    "collapsed": true
   },
   "outputs": [],
   "source": []
  },
  {
   "cell_type": "code",
   "execution_count": null,
   "metadata": {
    "collapsed": true
   },
   "outputs": [],
   "source": []
  },
  {
   "cell_type": "code",
   "execution_count": 434,
   "metadata": {
    "collapsed": false
   },
   "outputs": [
    {
     "data": {
      "text/html": [
       "<div>\n",
       "<table border=\"1\" class=\"dataframe\">\n",
       "  <thead>\n",
       "    <tr style=\"text-align: right;\">\n",
       "      <th></th>\n",
       "      <th>gw_ddf_id</th>\n",
       "      <th>found_in_ddf</th>\n",
       "      <th>ddf_concept_id</th>\n",
       "      <th>Notes</th>\n",
       "    </tr>\n",
       "  </thead>\n",
       "  <tbody>\n",
       "    <tr>\n",
       "      <th>195</th>\n",
       "      <td>math_achievement_4th_grade</td>\n",
       "      <td>ddf--wb--edu</td>\n",
       "      <td>lo_timss_mat4</td>\n",
       "      <td>NaN</td>\n",
       "    </tr>\n",
       "    <tr>\n",
       "      <th>196</th>\n",
       "      <td>math_achievement_8th_grade</td>\n",
       "      <td>ddf--wb--edu</td>\n",
       "      <td>lo_timss_mat8</td>\n",
       "      <td>NaN</td>\n",
       "    </tr>\n",
       "  </tbody>\n",
       "</table>\n",
       "</div>"
      ],
      "text/plain": [
       "                      gw_ddf_id  found_in_ddf ddf_concept_id Notes\n",
       "195  math_achievement_4th_grade  ddf--wb--edu  lo_timss_mat4   NaN\n",
       "196  math_achievement_8th_grade  ddf--wb--edu  lo_timss_mat8   NaN"
      ]
     },
     "execution_count": 434,
     "metadata": {},
     "output_type": "execute_result"
    }
   ],
   "source": [
    "it = next(d)\n",
    "l2.ix[it[1]]"
   ]
  },
  {
   "cell_type": "code",
   "execution_count": 445,
   "metadata": {
    "collapsed": false
   },
   "outputs": [],
   "source": [
    "name = l2.ix[it[1]].iloc[1].gw_ddf_id\n",
    "name_2 = l2.ix[it[1]].iloc[1].ddf_concept_id"
   ]
  },
  {
   "cell_type": "code",
   "execution_count": 437,
   "metadata": {
    "collapsed": false
   },
   "outputs": [
    {
     "data": {
      "text/plain": [
       "'math_achievement_4th_grade'"
      ]
     },
     "execution_count": 437,
     "metadata": {},
     "output_type": "execute_result"
    }
   ],
   "source": [
    "name"
   ]
  },
  {
   "cell_type": "code",
   "execution_count": 446,
   "metadata": {
    "collapsed": true
   },
   "outputs": [],
   "source": [
    "left = ddf.ddf_datapoint('ddf--gapminder--systema_globalis', name).set_index(['geo', 'time'])"
   ]
  },
  {
   "cell_type": "code",
   "execution_count": 447,
   "metadata": {
    "collapsed": true
   },
   "outputs": [],
   "source": [
    "right = ddf.ddf_datapoint(it[0], name_2)"
   ]
  },
  {
   "cell_type": "code",
   "execution_count": 448,
   "metadata": {
    "collapsed": false
   },
   "outputs": [],
   "source": [
    "right.columns = ['time', 'geo', name]"
   ]
  },
  {
   "cell_type": "code",
   "execution_count": 449,
   "metadata": {
    "collapsed": true
   },
   "outputs": [],
   "source": [
    "right = right.sort_values(by=['geo', 'time'])"
   ]
  },
  {
   "cell_type": "code",
   "execution_count": 452,
   "metadata": {
    "collapsed": true
   },
   "outputs": [],
   "source": [
    "right[['geo', name, 'time']].to_csv('../ddf--datapoints--'+name+'--by--geo--time.csv', float_format='%.2f', index=False)"
   ]
  },
  {
   "cell_type": "code",
   "execution_count": null,
   "metadata": {
    "collapsed": true
   },
   "outputs": [],
   "source": []
  },
  {
   "cell_type": "code",
   "execution_count": null,
   "metadata": {
    "collapsed": true
   },
   "outputs": [],
   "source": []
  },
  {
   "cell_type": "code",
   "execution_count": 453,
   "metadata": {
    "collapsed": false
   },
   "outputs": [
    {
     "data": {
      "text/html": [
       "<div>\n",
       "<table border=\"1\" class=\"dataframe\">\n",
       "  <thead>\n",
       "    <tr style=\"text-align: right;\">\n",
       "      <th></th>\n",
       "      <th>gw_ddf_id</th>\n",
       "      <th>found_in_ddf</th>\n",
       "      <th>ddf_concept_id</th>\n",
       "      <th>Notes</th>\n",
       "    </tr>\n",
       "  </thead>\n",
       "  <tbody>\n",
       "    <tr>\n",
       "      <th>60</th>\n",
       "      <td>population_total</td>\n",
       "      <td>ddf--gapminder--hist_pop</td>\n",
       "      <td>total_population</td>\n",
       "      <td>NaN</td>\n",
       "    </tr>\n",
       "  </tbody>\n",
       "</table>\n",
       "</div>"
      ],
      "text/plain": [
       "           gw_ddf_id              found_in_ddf    ddf_concept_id Notes\n",
       "60  population_total  ddf--gapminder--hist_pop  total_population   NaN"
      ]
     },
     "execution_count": 453,
     "metadata": {},
     "output_type": "execute_result"
    }
   ],
   "source": [
    "it = next(d)\n",
    "l2.ix[it[1]]"
   ]
  },
  {
   "cell_type": "code",
   "execution_count": 457,
   "metadata": {
    "collapsed": false
   },
   "outputs": [],
   "source": [
    "name = l2.ix[it[1]].iloc[0].gw_ddf_id\n",
    "name_2 = l2.ix[it[1]].iloc[0].ddf_concept_id"
   ]
  },
  {
   "cell_type": "code",
   "execution_count": 487,
   "metadata": {
    "collapsed": true
   },
   "outputs": [],
   "source": [
    "geo2 = ddf.ddf_entities(it[0])['area']\n",
    "geo_map = get_geo_map(geo2, 'area')"
   ]
  },
  {
   "cell_type": "code",
   "execution_count": 488,
   "metadata": {
    "collapsed": false
   },
   "outputs": [
    {
     "data": {
      "text/html": [
       "<div>\n",
       "<table border=\"1\" class=\"dataframe\">\n",
       "  <thead>\n",
       "    <tr style=\"text-align: right;\">\n",
       "      <th></th>\n",
       "      <th>name</th>\n",
       "    </tr>\n",
       "  </thead>\n",
       "  <tbody>\n",
       "  </tbody>\n",
       "</table>\n",
       "</div>"
      ],
      "text/plain": [
       "Empty DataFrame\n",
       "Columns: [name]\n",
       "Index: []"
      ]
     },
     "execution_count": 488,
     "metadata": {},
     "output_type": "execute_result"
    }
   ],
   "source": [
    "a = pd.DataFrame(data=geo_map, index=['map']).T\n",
    "a = a[a['map'].isnull()]\n",
    "\n",
    "geo2.set_index('area').ix[a.index]"
   ]
  },
  {
   "cell_type": "code",
   "execution_count": 458,
   "metadata": {
    "collapsed": true
   },
   "outputs": [],
   "source": [
    "left = ddf.ddf_datapoint('ddf--gapminder--systema_globalis', name).set_index(['geo', 'time'])"
   ]
  },
  {
   "cell_type": "code",
   "execution_count": 459,
   "metadata": {
    "collapsed": false
   },
   "outputs": [],
   "source": [
    "right = ddf.ddf_datapoint(it[0], name_2)"
   ]
  },
  {
   "cell_type": "code",
   "execution_count": 463,
   "metadata": {
    "collapsed": false
   },
   "outputs": [],
   "source": [
    "right.columns = ['geo', 'time', name]\n",
    "\n",
    "right.geo = right.geo.map(lambda x: geo_map[x])"
   ]
  },
  {
   "cell_type": "code",
   "execution_count": 465,
   "metadata": {
    "collapsed": true
   },
   "outputs": [],
   "source": [
    "right[['geo', name, 'time']].to_csv('../ddf--datapoints--'+name+'--by--geo--time.csv', float_format='%.0f', index=False)"
   ]
  },
  {
   "cell_type": "code",
   "execution_count": null,
   "metadata": {
    "collapsed": true
   },
   "outputs": [],
   "source": []
  },
  {
   "cell_type": "code",
   "execution_count": 467,
   "metadata": {
    "collapsed": false
   },
   "outputs": [
    {
     "data": {
      "text/html": [
       "<div>\n",
       "<table border=\"1\" class=\"dataframe\">\n",
       "  <thead>\n",
       "    <tr style=\"text-align: right;\">\n",
       "      <th></th>\n",
       "      <th>gw_ddf_id</th>\n",
       "      <th>found_in_ddf</th>\n",
       "      <th>ddf_concept_id</th>\n",
       "      <th>Notes</th>\n",
       "    </tr>\n",
       "  </thead>\n",
       "  <tbody>\n",
       "    <tr>\n",
       "      <th>79</th>\n",
       "      <td>female_family_workers_percent_of_female_labour...</td>\n",
       "      <td>ddf--ilo--kilm_employment_status</td>\n",
       "      <td>contributing_family_workers_percentage</td>\n",
       "      <td>NaN</td>\n",
       "    </tr>\n",
       "    <tr>\n",
       "      <th>80</th>\n",
       "      <td>family_workers_percent_of_labour_force</td>\n",
       "      <td>ddf--ilo--kilm_employment_status</td>\n",
       "      <td>contributing_family_workers_percentage</td>\n",
       "      <td>NaN</td>\n",
       "    </tr>\n",
       "    <tr>\n",
       "      <th>81</th>\n",
       "      <td>female_salaried_workers_percent_of_female_labo...</td>\n",
       "      <td>ddf--ilo--kilm_employment_status</td>\n",
       "      <td>wage_salaried_workers_employees_percentage</td>\n",
       "      <td>NaN</td>\n",
       "    </tr>\n",
       "    <tr>\n",
       "      <th>82</th>\n",
       "      <td>female_self_employed_percent_of_female_labour_...</td>\n",
       "      <td>ddf--ilo--kilm_employment_status</td>\n",
       "      <td>total_self_employed_workers_percentage</td>\n",
       "      <td>NaN</td>\n",
       "    </tr>\n",
       "    <tr>\n",
       "      <th>83</th>\n",
       "      <td>male_family_workers_percent_of_male_labour_force</td>\n",
       "      <td>ddf--ilo--kilm_employment_status</td>\n",
       "      <td>contributing_family_workers_percentage</td>\n",
       "      <td>NaN</td>\n",
       "    </tr>\n",
       "    <tr>\n",
       "      <th>84</th>\n",
       "      <td>male_salaried_workers_percent_of_male_labour_f...</td>\n",
       "      <td>ddf--ilo--kilm_employment_status</td>\n",
       "      <td>wage_salaried_workers_employees_percentage</td>\n",
       "      <td>NaN</td>\n",
       "    </tr>\n",
       "    <tr>\n",
       "      <th>85</th>\n",
       "      <td>male_self_employed_percent_of_male_labour_force</td>\n",
       "      <td>ddf--ilo--kilm_employment_status</td>\n",
       "      <td>total_self_employed_workers_percentage</td>\n",
       "      <td>NaN</td>\n",
       "    </tr>\n",
       "    <tr>\n",
       "      <th>86</th>\n",
       "      <td>salaried_workers_percent_of_labour_force</td>\n",
       "      <td>ddf--ilo--kilm_employment_status</td>\n",
       "      <td>wage_salaried_workers_employees_percentage</td>\n",
       "      <td>NaN</td>\n",
       "    </tr>\n",
       "    <tr>\n",
       "      <th>87</th>\n",
       "      <td>self_employed_percent_of_labour_force</td>\n",
       "      <td>ddf--ilo--kilm_employment_status</td>\n",
       "      <td>total_self_employed_workers_percentage</td>\n",
       "      <td>NaN</td>\n",
       "    </tr>\n",
       "  </tbody>\n",
       "</table>\n",
       "</div>"
      ],
      "text/plain": [
       "                                            gw_ddf_id  \\\n",
       "79  female_family_workers_percent_of_female_labour...   \n",
       "80             family_workers_percent_of_labour_force   \n",
       "81  female_salaried_workers_percent_of_female_labo...   \n",
       "82  female_self_employed_percent_of_female_labour_...   \n",
       "83   male_family_workers_percent_of_male_labour_force   \n",
       "84  male_salaried_workers_percent_of_male_labour_f...   \n",
       "85    male_self_employed_percent_of_male_labour_force   \n",
       "86           salaried_workers_percent_of_labour_force   \n",
       "87              self_employed_percent_of_labour_force   \n",
       "\n",
       "                        found_in_ddf  \\\n",
       "79  ddf--ilo--kilm_employment_status   \n",
       "80  ddf--ilo--kilm_employment_status   \n",
       "81  ddf--ilo--kilm_employment_status   \n",
       "82  ddf--ilo--kilm_employment_status   \n",
       "83  ddf--ilo--kilm_employment_status   \n",
       "84  ddf--ilo--kilm_employment_status   \n",
       "85  ddf--ilo--kilm_employment_status   \n",
       "86  ddf--ilo--kilm_employment_status   \n",
       "87  ddf--ilo--kilm_employment_status   \n",
       "\n",
       "                                ddf_concept_id Notes  \n",
       "79      contributing_family_workers_percentage   NaN  \n",
       "80      contributing_family_workers_percentage   NaN  \n",
       "81  wage_salaried_workers_employees_percentage   NaN  \n",
       "82      total_self_employed_workers_percentage   NaN  \n",
       "83      contributing_family_workers_percentage   NaN  \n",
       "84  wage_salaried_workers_employees_percentage   NaN  \n",
       "85      total_self_employed_workers_percentage   NaN  \n",
       "86  wage_salaried_workers_employees_percentage   NaN  \n",
       "87      total_self_employed_workers_percentage   NaN  "
      ]
     },
     "execution_count": 467,
     "metadata": {},
     "output_type": "execute_result"
    }
   ],
   "source": [
    "it = next(d)\n",
    "l2.ix[it[1]]"
   ]
  },
  {
   "cell_type": "code",
   "execution_count": 468,
   "metadata": {
    "collapsed": true
   },
   "outputs": [],
   "source": [
    "name = l2.ix[it[1]].iloc[0].gw_ddf_id\n",
    "name_2 = l2.ix[it[1]].iloc[0].ddf_concept_id"
   ]
  },
  {
   "cell_type": "code",
   "execution_count": 469,
   "metadata": {
    "collapsed": false
   },
   "outputs": [
    {
     "data": {
      "text/plain": [
       "'female_family_workers_percent_of_female_labour_force'"
      ]
     },
     "execution_count": 469,
     "metadata": {},
     "output_type": "execute_result"
    }
   ],
   "source": [
    "name"
   ]
  },
  {
   "cell_type": "code",
   "execution_count": 470,
   "metadata": {
    "collapsed": true
   },
   "outputs": [],
   "source": [
    "left = ddf.ddf_datapoint('ddf--gapminder--systema_globalis', name).set_index(['geo', 'time'])"
   ]
  },
  {
   "cell_type": "code",
   "execution_count": 474,
   "metadata": {
    "collapsed": true
   },
   "outputs": [],
   "source": [
    "right = ddf.ddf_datapoint(it[0], name_2)\n",
    "right = right.query(\"sex == 'f'\")[['country', 'year', name_2]]"
   ]
  },
  {
   "cell_type": "code",
   "execution_count": 475,
   "metadata": {
    "collapsed": false
   },
   "outputs": [],
   "source": [
    "right.columns = ['geo', 'time', name]"
   ]
  },
  {
   "cell_type": "code",
   "execution_count": 477,
   "metadata": {
    "collapsed": true
   },
   "outputs": [],
   "source": [
    "right[['geo', name, 'time']].to_csv('../ddf--datapoints--'+name+'--by--geo--time.csv', float_format='%.2f', index=False)"
   ]
  },
  {
   "cell_type": "code",
   "execution_count": null,
   "metadata": {
    "collapsed": true
   },
   "outputs": [],
   "source": []
  },
  {
   "cell_type": "code",
   "execution_count": 479,
   "metadata": {
    "collapsed": true
   },
   "outputs": [],
   "source": [
    "for i, v in l2.ix[it[1]].iterrows():\n",
    "    name = v['gw_ddf_id']\n",
    "    name_2 = v['ddf_concept_id']\n",
    "    right = ddf.ddf_datapoint(it[0], name_2)\n",
    "    if 'female' in name:\n",
    "        q = 'f'\n",
    "    elif 'male' in name:\n",
    "        q = 'm'\n",
    "    else:\n",
    "        q = 'mf'\n",
    "    right = right.query(\"sex == @q\")[['country', 'year', name_2]]\n",
    "    right.columns = ['geo', 'time', name]\n",
    "    (right[['geo', name, 'time']]\n",
    "     .to_csv('../ddf--datapoints--'+name+'--by--geo--time.csv', float_format='%.2f', index=False))"
   ]
  },
  {
   "cell_type": "code",
   "execution_count": null,
   "metadata": {
    "collapsed": true
   },
   "outputs": [],
   "source": []
  },
  {
   "cell_type": "code",
   "execution_count": null,
   "metadata": {
    "collapsed": true
   },
   "outputs": [],
   "source": []
  },
  {
   "cell_type": "code",
   "execution_count": 480,
   "metadata": {
    "collapsed": false
   },
   "outputs": [
    {
     "data": {
      "text/html": [
       "<div>\n",
       "<table border=\"1\" class=\"dataframe\">\n",
       "  <thead>\n",
       "    <tr style=\"text-align: right;\">\n",
       "      <th></th>\n",
       "      <th>gw_ddf_id</th>\n",
       "      <th>found_in_ddf</th>\n",
       "      <th>ddf_concept_id</th>\n",
       "      <th>Notes</th>\n",
       "    </tr>\n",
       "  </thead>\n",
       "  <tbody>\n",
       "    <tr>\n",
       "      <th>151</th>\n",
       "      <td>annual_hiv_deaths_number_all_ages</td>\n",
       "      <td>ddf--unaids--aidsinfo</td>\n",
       "      <td>aids_related_deaths_all_ages_estimate</td>\n",
       "      <td>data different?</td>\n",
       "    </tr>\n",
       "    <tr>\n",
       "      <th>152</th>\n",
       "      <td>art_coverage_percent_cd4_l_350</td>\n",
       "      <td>ddf--unaids--aidsinfo</td>\n",
       "      <td>coverage_of_people_receiving_art_total_estimate</td>\n",
       "      <td>data different?</td>\n",
       "    </tr>\n",
       "    <tr>\n",
       "      <th>153</th>\n",
       "      <td>newly_hiv_infected_number_all_ages</td>\n",
       "      <td>ddf--unaids--aidsinfo</td>\n",
       "      <td>new_hiv_infections_all_ages_estimate</td>\n",
       "      <td>data different?</td>\n",
       "    </tr>\n",
       "    <tr>\n",
       "      <th>154</th>\n",
       "      <td>newly_hiv_infected_percent_age_15_49</td>\n",
       "      <td>ddf--unaids--aidsinfo</td>\n",
       "      <td>new_hiv_infections_adults_15_estimate</td>\n",
       "      <td>NaN</td>\n",
       "    </tr>\n",
       "  </tbody>\n",
       "</table>\n",
       "</div>"
      ],
      "text/plain": [
       "                                gw_ddf_id           found_in_ddf  \\\n",
       "151     annual_hiv_deaths_number_all_ages  ddf--unaids--aidsinfo   \n",
       "152        art_coverage_percent_cd4_l_350  ddf--unaids--aidsinfo   \n",
       "153    newly_hiv_infected_number_all_ages  ddf--unaids--aidsinfo   \n",
       "154  newly_hiv_infected_percent_age_15_49  ddf--unaids--aidsinfo   \n",
       "\n",
       "                                      ddf_concept_id            Notes  \n",
       "151            aids_related_deaths_all_ages_estimate  data different?  \n",
       "152  coverage_of_people_receiving_art_total_estimate  data different?  \n",
       "153             new_hiv_infections_all_ages_estimate  data different?  \n",
       "154            new_hiv_infections_adults_15_estimate              NaN  "
      ]
     },
     "execution_count": 480,
     "metadata": {},
     "output_type": "execute_result"
    }
   ],
   "source": [
    "it = next(d)\n",
    "l2.ix[it[1]]"
   ]
  },
  {
   "cell_type": "code",
   "execution_count": 508,
   "metadata": {
    "collapsed": true
   },
   "outputs": [],
   "source": [
    "geo2 = ddf.ddf_entities(it[0])['area']\n",
    "# geo2 = geo2[geo2.area.str.match(\"^[a-z_]+$\")]\n",
    "geo_map = get_geo_map(geo2, 'area')"
   ]
  },
  {
   "cell_type": "code",
   "execution_count": 509,
   "metadata": {
    "collapsed": false,
    "scrolled": true
   },
   "outputs": [
    {
     "data": {
      "text/html": [
       "<div>\n",
       "<table border=\"1\" class=\"dataframe\">\n",
       "  <thead>\n",
       "    <tr style=\"text-align: right;\">\n",
       "      <th></th>\n",
       "      <th>name</th>\n",
       "    </tr>\n",
       "  </thead>\n",
       "  <tbody>\n",
       "    <tr>\n",
       "      <th>03m49wld</th>\n",
       "      <td>All countries</td>\n",
       "    </tr>\n",
       "    <tr>\n",
       "      <th>arm001</th>\n",
       "      <td>Aragatsotn</td>\n",
       "    </tr>\n",
       "    <tr>\n",
       "      <th>arm002</th>\n",
       "      <td>Ararat</td>\n",
       "    </tr>\n",
       "    <tr>\n",
       "      <th>arm003</th>\n",
       "      <td>Armavir</td>\n",
       "    </tr>\n",
       "    <tr>\n",
       "      <th>arm005</th>\n",
       "      <td>Gegharkunik</td>\n",
       "    </tr>\n",
       "    <tr>\n",
       "      <th>arm008</th>\n",
       "      <td>Kotaik</td>\n",
       "    </tr>\n",
       "    <tr>\n",
       "      <th>arm009</th>\n",
       "      <td>Lori</td>\n",
       "    </tr>\n",
       "    <tr>\n",
       "      <th>arm013</th>\n",
       "      <td>Shirak</td>\n",
       "    </tr>\n",
       "    <tr>\n",
       "      <th>arm015</th>\n",
       "      <td>Syunik</td>\n",
       "    </tr>\n",
       "    <tr>\n",
       "      <th>arm016</th>\n",
       "      <td>Tavush</td>\n",
       "    </tr>\n",
       "    <tr>\n",
       "      <th>arm017</th>\n",
       "      <td>Vayots Dzor</td>\n",
       "    </tr>\n",
       "    <tr>\n",
       "      <th>arm018</th>\n",
       "      <td>Yerevan</td>\n",
       "    </tr>\n",
       "    <tr>\n",
       "      <th>ben_01</th>\n",
       "      <td>Alibori</td>\n",
       "    </tr>\n",
       "    <tr>\n",
       "      <th>ben_02</th>\n",
       "      <td>Atacora</td>\n",
       "    </tr>\n",
       "    <tr>\n",
       "      <th>ben_03</th>\n",
       "      <td>Atlantique</td>\n",
       "    </tr>\n",
       "    <tr>\n",
       "      <th>ben_04</th>\n",
       "      <td>Borgou</td>\n",
       "    </tr>\n",
       "    <tr>\n",
       "      <th>ben_05</th>\n",
       "      <td>Collines</td>\n",
       "    </tr>\n",
       "    <tr>\n",
       "      <th>ben_06</th>\n",
       "      <td>Couffo</td>\n",
       "    </tr>\n",
       "    <tr>\n",
       "      <th>ben_07</th>\n",
       "      <td>Donga</td>\n",
       "    </tr>\n",
       "    <tr>\n",
       "      <th>ben_08</th>\n",
       "      <td>Littoral</td>\n",
       "    </tr>\n",
       "    <tr>\n",
       "      <th>ben_09</th>\n",
       "      <td>Mono</td>\n",
       "    </tr>\n",
       "    <tr>\n",
       "      <th>ben_10</th>\n",
       "      <td>Oueme</td>\n",
       "    </tr>\n",
       "    <tr>\n",
       "      <th>ben_11</th>\n",
       "      <td>Plateau</td>\n",
       "    </tr>\n",
       "    <tr>\n",
       "      <th>ben_12</th>\n",
       "      <td>Zou</td>\n",
       "    </tr>\n",
       "    <tr>\n",
       "      <th>bfa003</th>\n",
       "      <td>Centre-Est</td>\n",
       "    </tr>\n",
       "    <tr>\n",
       "      <th>bfa005</th>\n",
       "      <td>Centre-Ouest</td>\n",
       "    </tr>\n",
       "    <tr>\n",
       "      <th>bfa007</th>\n",
       "      <td>Centre</td>\n",
       "    </tr>\n",
       "    <tr>\n",
       "      <th>bfa008</th>\n",
       "      <td>Est</td>\n",
       "    </tr>\n",
       "    <tr>\n",
       "      <th>bfa009</th>\n",
       "      <td>Haut-Bassins</td>\n",
       "    </tr>\n",
       "    <tr>\n",
       "      <th>bfa010</th>\n",
       "      <td>Nord</td>\n",
       "    </tr>\n",
       "    <tr>\n",
       "      <th>...</th>\n",
       "      <td>...</td>\n",
       "    </tr>\n",
       "    <tr>\n",
       "      <th>vnm007017</th>\n",
       "      <td>Ba Ria - Vung Tau Pro</td>\n",
       "    </tr>\n",
       "    <tr>\n",
       "      <th>vnm008001</th>\n",
       "      <td>Long An Province</td>\n",
       "    </tr>\n",
       "    <tr>\n",
       "      <th>vnm008003</th>\n",
       "      <td>Dong Thap Province</td>\n",
       "    </tr>\n",
       "    <tr>\n",
       "      <th>vnm008005</th>\n",
       "      <td>An Giang Province</td>\n",
       "    </tr>\n",
       "    <tr>\n",
       "      <th>vnm008009</th>\n",
       "      <td>Vinh Long Province</td>\n",
       "    </tr>\n",
       "    <tr>\n",
       "      <th>vnm008013</th>\n",
       "      <td>Kien Giang Province</td>\n",
       "    </tr>\n",
       "    <tr>\n",
       "      <th>vnm008015</th>\n",
       "      <td>Can Tho City</td>\n",
       "    </tr>\n",
       "    <tr>\n",
       "      <th>vnm008019</th>\n",
       "      <td>Soc Trang Province</td>\n",
       "    </tr>\n",
       "    <tr>\n",
       "      <th>vnm008023</th>\n",
       "      <td>Ca Mau Province</td>\n",
       "    </tr>\n",
       "    <tr>\n",
       "      <th>wlf</th>\n",
       "      <td>Wallis and Futuna Islands</td>\n",
       "    </tr>\n",
       "    <tr>\n",
       "      <th>zmb010</th>\n",
       "      <td>Central</td>\n",
       "    </tr>\n",
       "    <tr>\n",
       "      <th>zmb020</th>\n",
       "      <td>Copperbelt</td>\n",
       "    </tr>\n",
       "    <tr>\n",
       "      <th>zmb030</th>\n",
       "      <td>Eastern</td>\n",
       "    </tr>\n",
       "    <tr>\n",
       "      <th>zmb040</th>\n",
       "      <td>Luapula</td>\n",
       "    </tr>\n",
       "    <tr>\n",
       "      <th>zmb050</th>\n",
       "      <td>Lusaka</td>\n",
       "    </tr>\n",
       "    <tr>\n",
       "      <th>zmb060</th>\n",
       "      <td>Northern</td>\n",
       "    </tr>\n",
       "    <tr>\n",
       "      <th>zmb070</th>\n",
       "      <td>North-Western</td>\n",
       "    </tr>\n",
       "    <tr>\n",
       "      <th>zmb080</th>\n",
       "      <td>Southern</td>\n",
       "    </tr>\n",
       "    <tr>\n",
       "      <th>zmb090</th>\n",
       "      <td>Western</td>\n",
       "    </tr>\n",
       "    <tr>\n",
       "      <th>zmb100</th>\n",
       "      <td>Muchinga</td>\n",
       "    </tr>\n",
       "    <tr>\n",
       "      <th>zwe001</th>\n",
       "      <td>Manicaland</td>\n",
       "    </tr>\n",
       "    <tr>\n",
       "      <th>zwe002</th>\n",
       "      <td>Mashonaland Central</td>\n",
       "    </tr>\n",
       "    <tr>\n",
       "      <th>zwe003</th>\n",
       "      <td>Mashonaland East</td>\n",
       "    </tr>\n",
       "    <tr>\n",
       "      <th>zwe004</th>\n",
       "      <td>Mashonaland West</td>\n",
       "    </tr>\n",
       "    <tr>\n",
       "      <th>zwe005</th>\n",
       "      <td>Matabeleland North</td>\n",
       "    </tr>\n",
       "    <tr>\n",
       "      <th>zwe006</th>\n",
       "      <td>Matabeleland South</td>\n",
       "    </tr>\n",
       "    <tr>\n",
       "      <th>zwe007</th>\n",
       "      <td>Midlands</td>\n",
       "    </tr>\n",
       "    <tr>\n",
       "      <th>zwe008</th>\n",
       "      <td>Masvingo</td>\n",
       "    </tr>\n",
       "    <tr>\n",
       "      <th>zwe009</th>\n",
       "      <td>Harare</td>\n",
       "    </tr>\n",
       "    <tr>\n",
       "      <th>zwe010</th>\n",
       "      <td>Bulawayo</td>\n",
       "    </tr>\n",
       "  </tbody>\n",
       "</table>\n",
       "<p>690 rows × 1 columns</p>\n",
       "</div>"
      ],
      "text/plain": [
       "                                name\n",
       "03m49wld               All countries\n",
       "arm001                    Aragatsotn\n",
       "arm002                        Ararat\n",
       "arm003                       Armavir\n",
       "arm005                   Gegharkunik\n",
       "arm008                        Kotaik\n",
       "arm009                          Lori\n",
       "arm013                        Shirak\n",
       "arm015                        Syunik\n",
       "arm016                        Tavush\n",
       "arm017                   Vayots Dzor\n",
       "arm018                       Yerevan\n",
       "ben_01                       Alibori\n",
       "ben_02                       Atacora\n",
       "ben_03                    Atlantique\n",
       "ben_04                        Borgou\n",
       "ben_05                      Collines\n",
       "ben_06                        Couffo\n",
       "ben_07                         Donga\n",
       "ben_08                      Littoral\n",
       "ben_09                          Mono\n",
       "ben_10                         Oueme\n",
       "ben_11                       Plateau\n",
       "ben_12                           Zou\n",
       "bfa003                    Centre-Est\n",
       "bfa005                  Centre-Ouest\n",
       "bfa007                        Centre\n",
       "bfa008                           Est\n",
       "bfa009                  Haut-Bassins\n",
       "bfa010                          Nord\n",
       "...                              ...\n",
       "vnm007017      Ba Ria - Vung Tau Pro\n",
       "vnm008001           Long An Province\n",
       "vnm008003         Dong Thap Province\n",
       "vnm008005          An Giang Province\n",
       "vnm008009         Vinh Long Province\n",
       "vnm008013        Kien Giang Province\n",
       "vnm008015               Can Tho City\n",
       "vnm008019         Soc Trang Province\n",
       "vnm008023            Ca Mau Province\n",
       "wlf        Wallis and Futuna Islands\n",
       "zmb010                       Central\n",
       "zmb020                    Copperbelt\n",
       "zmb030                       Eastern\n",
       "zmb040                       Luapula\n",
       "zmb050                        Lusaka\n",
       "zmb060                      Northern\n",
       "zmb070                 North-Western\n",
       "zmb080                      Southern\n",
       "zmb090                       Western\n",
       "zmb100                      Muchinga\n",
       "zwe001                    Manicaland\n",
       "zwe002           Mashonaland Central\n",
       "zwe003              Mashonaland East\n",
       "zwe004              Mashonaland West\n",
       "zwe005            Matabeleland North\n",
       "zwe006            Matabeleland South\n",
       "zwe007                      Midlands\n",
       "zwe008                      Masvingo\n",
       "zwe009                        Harare\n",
       "zwe010                      Bulawayo\n",
       "\n",
       "[690 rows x 1 columns]"
      ]
     },
     "execution_count": 509,
     "metadata": {},
     "output_type": "execute_result"
    }
   ],
   "source": [
    "a = pd.DataFrame(data=geo_map, index=['map']).T\n",
    "a = a[a['map'].isnull()]\n",
    "\n",
    "geo2.set_index('area').ix[a.index]"
   ]
  },
  {
   "cell_type": "code",
   "execution_count": 510,
   "metadata": {
    "collapsed": true
   },
   "outputs": [],
   "source": [
    "to_drop = []\n",
    "\n",
    "for i in a.index:\n",
    "    if i in geo.country.values:\n",
    "        to_drop.append(i)"
   ]
  },
  {
   "cell_type": "code",
   "execution_count": 511,
   "metadata": {
    "collapsed": false
   },
   "outputs": [],
   "source": [
    "a = a.drop(to_drop)"
   ]
  },
  {
   "cell_type": "code",
   "execution_count": null,
   "metadata": {
    "collapsed": true
   },
   "outputs": [],
   "source": []
  },
  {
   "cell_type": "code",
   "execution_count": 538,
   "metadata": {
    "collapsed": false
   },
   "outputs": [],
   "source": [
    "name = l2.ix[it[1]].iloc[3].gw_ddf_id\n",
    "name_2 = l2.ix[it[1]].iloc[3].ddf_concept_id"
   ]
  },
  {
   "cell_type": "code",
   "execution_count": 532,
   "metadata": {
    "collapsed": true
   },
   "outputs": [],
   "source": [
    "left = ddf.ddf_datapoint('ddf--gapminder--systema_globalis', name).set_index(['geo', 'time'])"
   ]
  },
  {
   "cell_type": "code",
   "execution_count": 533,
   "metadata": {
    "collapsed": false
   },
   "outputs": [],
   "source": [
    "right = ddf.ddf_datapoint(it[0], name_2)"
   ]
  },
  {
   "cell_type": "code",
   "execution_count": 534,
   "metadata": {
    "collapsed": false
   },
   "outputs": [],
   "source": [
    "right = right.query(\"area not in @a.index\")"
   ]
  },
  {
   "cell_type": "code",
   "execution_count": 535,
   "metadata": {
    "collapsed": false
   },
   "outputs": [],
   "source": [
    "right.columns = ['time', 'geo', name]"
   ]
  },
  {
   "cell_type": "code",
   "execution_count": 536,
   "metadata": {
    "collapsed": true
   },
   "outputs": [],
   "source": [
    "right[[name, 'geo', 'time']].to_csv('../ddf--datapoints--'+name+'--by--geo--time.csv', float_format='%g', index=False)"
   ]
  },
  {
   "cell_type": "code",
   "execution_count": null,
   "metadata": {
    "collapsed": true
   },
   "outputs": [],
   "source": []
  },
  {
   "cell_type": "code",
   "execution_count": null,
   "metadata": {
    "collapsed": true
   },
   "outputs": [],
   "source": []
  },
  {
   "cell_type": "code",
   "execution_count": 540,
   "metadata": {
    "collapsed": false
   },
   "outputs": [
    {
     "data": {
      "text/html": [
       "<div>\n",
       "<table border=\"1\" class=\"dataframe\">\n",
       "  <thead>\n",
       "    <tr style=\"text-align: right;\">\n",
       "      <th></th>\n",
       "      <th>gw_ddf_id</th>\n",
       "      <th>found_in_ddf</th>\n",
       "      <th>ddf_concept_id</th>\n",
       "      <th>Notes</th>\n",
       "    </tr>\n",
       "  </thead>\n",
       "  <tbody>\n",
       "    <tr>\n",
       "      <th>65</th>\n",
       "      <td>aged_15_24_employment_rate_percent</td>\n",
       "      <td>ddf--ilo--kilm_employment_pop</td>\n",
       "      <td>employment_to_population_ratio</td>\n",
       "      <td>data different?</td>\n",
       "    </tr>\n",
       "    <tr>\n",
       "      <th>66</th>\n",
       "      <td>aged_15plus_employment_rate_percent</td>\n",
       "      <td>ddf--ilo--kilm_employment_pop</td>\n",
       "      <td>employment_to_population_ratio</td>\n",
       "      <td>data different?</td>\n",
       "    </tr>\n",
       "    <tr>\n",
       "      <th>67</th>\n",
       "      <td>females_aged_15_24_employment_rate_percent</td>\n",
       "      <td>ddf--ilo--kilm_employment_pop</td>\n",
       "      <td>employment_to_population_ratio</td>\n",
       "      <td>data different?</td>\n",
       "    </tr>\n",
       "    <tr>\n",
       "      <th>68</th>\n",
       "      <td>males_aged_15_24_employment_rate_percent</td>\n",
       "      <td>ddf--ilo--kilm_employment_pop</td>\n",
       "      <td>employment_to_population_ratio</td>\n",
       "      <td>data different?</td>\n",
       "    </tr>\n",
       "    <tr>\n",
       "      <th>69</th>\n",
       "      <td>males_aged_15plus_employment_rate_percent</td>\n",
       "      <td>ddf--ilo--kilm_employment_pop</td>\n",
       "      <td>employment_to_population_ratio</td>\n",
       "      <td>data different?</td>\n",
       "    </tr>\n",
       "  </tbody>\n",
       "</table>\n",
       "</div>"
      ],
      "text/plain": [
       "                                     gw_ddf_id                   found_in_ddf  \\\n",
       "65          aged_15_24_employment_rate_percent  ddf--ilo--kilm_employment_pop   \n",
       "66         aged_15plus_employment_rate_percent  ddf--ilo--kilm_employment_pop   \n",
       "67  females_aged_15_24_employment_rate_percent  ddf--ilo--kilm_employment_pop   \n",
       "68    males_aged_15_24_employment_rate_percent  ddf--ilo--kilm_employment_pop   \n",
       "69   males_aged_15plus_employment_rate_percent  ddf--ilo--kilm_employment_pop   \n",
       "\n",
       "                    ddf_concept_id            Notes  \n",
       "65  employment_to_population_ratio  data different?  \n",
       "66  employment_to_population_ratio  data different?  \n",
       "67  employment_to_population_ratio  data different?  \n",
       "68  employment_to_population_ratio  data different?  \n",
       "69  employment_to_population_ratio  data different?  "
      ]
     },
     "execution_count": 540,
     "metadata": {},
     "output_type": "execute_result"
    }
   ],
   "source": [
    "it = next(d)\n",
    "l2.ix[it[1]]"
   ]
  },
  {
   "cell_type": "code",
   "execution_count": 574,
   "metadata": {
    "collapsed": false
   },
   "outputs": [],
   "source": [
    "name = l2.ix[it[1]].iloc[4].gw_ddf_id\n",
    "name_2 = l2.ix[it[1]].iloc[4].ddf_concept_id"
   ]
  },
  {
   "cell_type": "code",
   "execution_count": 569,
   "metadata": {
    "collapsed": false
   },
   "outputs": [
    {
     "data": {
      "text/plain": [
       "'males_aged_15plus_employment_rate_percent'"
      ]
     },
     "execution_count": 569,
     "metadata": {},
     "output_type": "execute_result"
    }
   ],
   "source": [
    "name"
   ]
  },
  {
   "cell_type": "code",
   "execution_count": 543,
   "metadata": {
    "collapsed": true
   },
   "outputs": [],
   "source": [
    "left = ddf.ddf_datapoint('ddf--gapminder--systema_globalis', name).set_index(['geo', 'time'])"
   ]
  },
  {
   "cell_type": "code",
   "execution_count": 570,
   "metadata": {
    "collapsed": true
   },
   "outputs": [],
   "source": [
    "right = ddf.ddf_datapoint(it[0], name_2)\n",
    "right = right.query(\"sex == 'm' & age_group == 'adult'\")[['country', 'year', name_2]]"
   ]
  },
  {
   "cell_type": "code",
   "execution_count": 571,
   "metadata": {
    "collapsed": false
   },
   "outputs": [],
   "source": [
    "right.columns = ['geo', 'time', name]"
   ]
  },
  {
   "cell_type": "code",
   "execution_count": 572,
   "metadata": {
    "collapsed": true
   },
   "outputs": [],
   "source": [
    "right[['geo', name, 'time']].to_csv('../ddf--datapoints--'+name+'--by--geo--time.csv', float_format='%.2f', index=False)"
   ]
  },
  {
   "cell_type": "code",
   "execution_count": null,
   "metadata": {
    "collapsed": true
   },
   "outputs": [],
   "source": []
  },
  {
   "cell_type": "code",
   "execution_count": 576,
   "metadata": {
    "collapsed": false
   },
   "outputs": [
    {
     "data": {
      "text/html": [
       "<div>\n",
       "<table border=\"1\" class=\"dataframe\">\n",
       "  <thead>\n",
       "    <tr style=\"text-align: right;\">\n",
       "      <th></th>\n",
       "      <th>gw_ddf_id</th>\n",
       "      <th>found_in_ddf</th>\n",
       "      <th>ddf_concept_id</th>\n",
       "      <th>Notes</th>\n",
       "    </tr>\n",
       "  </thead>\n",
       "  <tbody>\n",
       "    <tr>\n",
       "      <th>118</th>\n",
       "      <td>hourly_compensation_us</td>\n",
       "      <td>ddf--ilo--kilm_wage_compensation</td>\n",
       "      <td>hourly_compensation_costs</td>\n",
       "      <td>data different?</td>\n",
       "    </tr>\n",
       "  </tbody>\n",
       "</table>\n",
       "</div>"
      ],
      "text/plain": [
       "                  gw_ddf_id                      found_in_ddf  \\\n",
       "118  hourly_compensation_us  ddf--ilo--kilm_wage_compensation   \n",
       "\n",
       "                ddf_concept_id            Notes  \n",
       "118  hourly_compensation_costs  data different?  "
      ]
     },
     "execution_count": 576,
     "metadata": {},
     "output_type": "execute_result"
    }
   ],
   "source": [
    "it = next(d)\n",
    "l2.ix[it[1]]"
   ]
  },
  {
   "cell_type": "code",
   "execution_count": 578,
   "metadata": {
    "collapsed": false
   },
   "outputs": [],
   "source": [
    "name = l2.ix[it[1]].iloc[0].gw_ddf_id\n",
    "name_2 = l2.ix[it[1]].iloc[0].ddf_concept_id"
   ]
  },
  {
   "cell_type": "code",
   "execution_count": 579,
   "metadata": {
    "collapsed": true
   },
   "outputs": [],
   "source": [
    "left = ddf.ddf_datapoint('ddf--gapminder--systema_globalis', name).set_index(['geo', 'time'])"
   ]
  },
  {
   "cell_type": "code",
   "execution_count": 580,
   "metadata": {
    "collapsed": true
   },
   "outputs": [],
   "source": [
    "right = ddf.ddf_datapoint(it[0], name_2)"
   ]
  },
  {
   "cell_type": "code",
   "execution_count": 582,
   "metadata": {
    "collapsed": false
   },
   "outputs": [],
   "source": [
    "right.columns = ['geo', 'time', name]"
   ]
  },
  {
   "cell_type": "code",
   "execution_count": 583,
   "metadata": {
    "collapsed": true
   },
   "outputs": [],
   "source": [
    "right[['geo', name, 'time']].to_csv('../ddf--datapoints--'+name+'--by--geo--time.csv', float_format='%.2f', index=False)"
   ]
  },
  {
   "cell_type": "code",
   "execution_count": null,
   "metadata": {
    "collapsed": true
   },
   "outputs": [],
   "source": []
  },
  {
   "cell_type": "code",
   "execution_count": null,
   "metadata": {
    "collapsed": true
   },
   "outputs": [],
   "source": []
  },
  {
   "cell_type": "code",
   "execution_count": null,
   "metadata": {
    "collapsed": true
   },
   "outputs": [],
   "source": []
  },
  {
   "cell_type": "code",
   "execution_count": 606,
   "metadata": {
    "collapsed": false
   },
   "outputs": [
    {
     "data": {
      "text/html": [
       "<div>\n",
       "<table border=\"1\" class=\"dataframe\">\n",
       "  <thead>\n",
       "    <tr style=\"text-align: right;\">\n",
       "      <th></th>\n",
       "      <th>gw_ddf_id</th>\n",
       "      <th>found_in_ddf</th>\n",
       "      <th>ddf_concept_id</th>\n",
       "      <th>Notes</th>\n",
       "    </tr>\n",
       "  </thead>\n",
       "  <tbody>\n",
       "    <tr>\n",
       "      <th>88</th>\n",
       "      <td>working_hours_per_week</td>\n",
       "      <td>ddf--ilo--kilm_hours_work</td>\n",
       "      <td>annual_number_of_hours_actually_worked_per_person</td>\n",
       "      <td>divide by 52</td>\n",
       "    </tr>\n",
       "  </tbody>\n",
       "</table>\n",
       "</div>"
      ],
      "text/plain": [
       "                 gw_ddf_id               found_in_ddf  \\\n",
       "88  working_hours_per_week  ddf--ilo--kilm_hours_work   \n",
       "\n",
       "                                       ddf_concept_id         Notes  \n",
       "88  annual_number_of_hours_actually_worked_per_person  divide by 52  "
      ]
     },
     "execution_count": 606,
     "metadata": {},
     "output_type": "execute_result"
    }
   ],
   "source": [
    "it = next(d)\n",
    "l2.ix[it[1]]"
   ]
  },
  {
   "cell_type": "code",
   "execution_count": 607,
   "metadata": {
    "collapsed": true
   },
   "outputs": [],
   "source": [
    "name = l2.ix[it[1]].iloc[0].gw_ddf_id\n",
    "name_2 = l2.ix[it[1]].iloc[0].ddf_concept_id"
   ]
  },
  {
   "cell_type": "code",
   "execution_count": 608,
   "metadata": {
    "collapsed": true
   },
   "outputs": [],
   "source": [
    "left = ddf.ddf_datapoint('ddf--gapminder--systema_globalis', name).set_index(['geo', 'time'])"
   ]
  },
  {
   "cell_type": "code",
   "execution_count": 610,
   "metadata": {
    "collapsed": false
   },
   "outputs": [],
   "source": [
    "right = ddf.ddf_datapoint(it[0], name_2)"
   ]
  },
  {
   "cell_type": "code",
   "execution_count": 612,
   "metadata": {
    "collapsed": true
   },
   "outputs": [],
   "source": [
    "right.columns = ['geo', 'time', name]"
   ]
  },
  {
   "cell_type": "code",
   "execution_count": 614,
   "metadata": {
    "collapsed": true
   },
   "outputs": [],
   "source": [
    "right[name] = right[name] / 52.0"
   ]
  },
  {
   "cell_type": "code",
   "execution_count": 615,
   "metadata": {
    "collapsed": false
   },
   "outputs": [],
   "source": [
    "right[['geo', name, 'time']].to_csv('../ddf--datapoints--'+name+'--by--geo--time.csv', float_format='%.2f', index=False)"
   ]
  },
  {
   "cell_type": "code",
   "execution_count": null,
   "metadata": {
    "collapsed": true
   },
   "outputs": [],
   "source": []
  },
  {
   "cell_type": "code",
   "execution_count": null,
   "metadata": {
    "collapsed": true
   },
   "outputs": [],
   "source": []
  },
  {
   "cell_type": "code",
   "execution_count": 616,
   "metadata": {
    "collapsed": false
   },
   "outputs": [
    {
     "data": {
      "text/html": [
       "<div>\n",
       "<table border=\"1\" class=\"dataframe\">\n",
       "  <thead>\n",
       "    <tr style=\"text-align: right;\">\n",
       "      <th></th>\n",
       "      <th>gw_ddf_id</th>\n",
       "      <th>found_in_ddf</th>\n",
       "      <th>ddf_concept_id</th>\n",
       "      <th>Notes</th>\n",
       "    </tr>\n",
       "  </thead>\n",
       "  <tbody>\n",
       "    <tr>\n",
       "      <th>11</th>\n",
       "      <td>newborn_deaths</td>\n",
       "      <td>ddf--cme</td>\n",
       "      <td>neonatal_deaths_median</td>\n",
       "      <td>NaN</td>\n",
       "    </tr>\n",
       "    <tr>\n",
       "      <th>12</th>\n",
       "      <td>newborn_mortality_rate_per_1000</td>\n",
       "      <td>ddf--cme</td>\n",
       "      <td>newborn_mortality_rate_per_1000</td>\n",
       "      <td>NaN</td>\n",
       "    </tr>\n",
       "    <tr>\n",
       "      <th>13</th>\n",
       "      <td>under_five_mortality_from_cme_per_1000_born</td>\n",
       "      <td>ddf--cme</td>\n",
       "      <td>under_five_mortality_from_cme_per_1000_born</td>\n",
       "      <td>NaN</td>\n",
       "    </tr>\n",
       "  </tbody>\n",
       "</table>\n",
       "</div>"
      ],
      "text/plain": [
       "                                      gw_ddf_id found_in_ddf  \\\n",
       "11                               newborn_deaths     ddf--cme   \n",
       "12              newborn_mortality_rate_per_1000     ddf--cme   \n",
       "13  under_five_mortality_from_cme_per_1000_born     ddf--cme   \n",
       "\n",
       "                                 ddf_concept_id Notes  \n",
       "11                       neonatal_deaths_median   NaN  \n",
       "12              newborn_mortality_rate_per_1000   NaN  \n",
       "13  under_five_mortality_from_cme_per_1000_born   NaN  "
      ]
     },
     "execution_count": 616,
     "metadata": {},
     "output_type": "execute_result"
    }
   ],
   "source": [
    "it = next(d)\n",
    "l2.ix[it[1]]"
   ]
  },
  {
   "cell_type": "code",
   "execution_count": 645,
   "metadata": {
    "collapsed": true
   },
   "outputs": [],
   "source": [
    "name = l2.ix[it[1]].iloc[2].gw_ddf_id\n",
    "# name_2 = 'nmr_median'\n",
    "name_2 = 'u5mr_median'"
   ]
  },
  {
   "cell_type": "code",
   "execution_count": 637,
   "metadata": {
    "collapsed": true
   },
   "outputs": [],
   "source": [
    "left = ddf.ddf_datapoint('ddf--gapminder--systema_globalis', name).set_index(['geo', 'time'])"
   ]
  },
  {
   "cell_type": "code",
   "execution_count": 646,
   "metadata": {
    "collapsed": false
   },
   "outputs": [],
   "source": [
    "right = ddf.ddf_datapoint(it[0], name_2)"
   ]
  },
  {
   "cell_type": "code",
   "execution_count": 647,
   "metadata": {
    "collapsed": false
   },
   "outputs": [],
   "source": [
    "right.columns = ['geo', 'time', name]"
   ]
  },
  {
   "cell_type": "code",
   "execution_count": 649,
   "metadata": {
    "collapsed": true
   },
   "outputs": [],
   "source": [
    "right[['geo', name, 'time']].to_csv('../ddf--datapoints--'+name+'--by--geo--time.csv', float_format='%.2f', index=False)"
   ]
  },
  {
   "cell_type": "code",
   "execution_count": null,
   "metadata": {
    "collapsed": true
   },
   "outputs": [],
   "source": []
  },
  {
   "cell_type": "code",
   "execution_count": null,
   "metadata": {
    "collapsed": true
   },
   "outputs": [],
   "source": []
  },
  {
   "cell_type": "code",
   "execution_count": 650,
   "metadata": {
    "collapsed": false
   },
   "outputs": [
    {
     "data": {
      "text/html": [
       "<div>\n",
       "<table border=\"1\" class=\"dataframe\">\n",
       "  <thead>\n",
       "    <tr style=\"text-align: right;\">\n",
       "      <th></th>\n",
       "      <th>gw_ddf_id</th>\n",
       "      <th>found_in_ddf</th>\n",
       "      <th>ddf_concept_id</th>\n",
       "      <th>Notes</th>\n",
       "    </tr>\n",
       "  </thead>\n",
       "  <tbody>\n",
       "    <tr>\n",
       "      <th>58</th>\n",
       "      <td>maternal_deaths_total_number</td>\n",
       "      <td>ddf--gapminder--hist_maternal_mort</td>\n",
       "      <td>maternal_deaths</td>\n",
       "      <td>data different?</td>\n",
       "    </tr>\n",
       "    <tr>\n",
       "      <th>59</th>\n",
       "      <td>maternal_mortality_ratio_per_100000_live_births</td>\n",
       "      <td>ddf--gapminder--hist_maternal_mort</td>\n",
       "      <td>mmr</td>\n",
       "      <td>NaN</td>\n",
       "    </tr>\n",
       "  </tbody>\n",
       "</table>\n",
       "</div>"
      ],
      "text/plain": [
       "                                          gw_ddf_id  \\\n",
       "58                     maternal_deaths_total_number   \n",
       "59  maternal_mortality_ratio_per_100000_live_births   \n",
       "\n",
       "                          found_in_ddf   ddf_concept_id            Notes  \n",
       "58  ddf--gapminder--hist_maternal_mort  maternal_deaths  data different?  \n",
       "59  ddf--gapminder--hist_maternal_mort              mmr              NaN  "
      ]
     },
     "execution_count": 650,
     "metadata": {},
     "output_type": "execute_result"
    }
   ],
   "source": [
    "it = next(d)\n",
    "l2.ix[it[1]]"
   ]
  },
  {
   "cell_type": "code",
   "execution_count": 657,
   "metadata": {
    "collapsed": false
   },
   "outputs": [],
   "source": [
    "geo2 = ddf.ddf_entities(it[0])['country']\n",
    "geo_map = get_geo_map(geo2, 'country')"
   ]
  },
  {
   "cell_type": "code",
   "execution_count": 660,
   "metadata": {
    "collapsed": false
   },
   "outputs": [
    {
     "data": {
      "text/html": [
       "<div>\n",
       "<table border=\"1\" class=\"dataframe\">\n",
       "  <thead>\n",
       "    <tr style=\"text-align: right;\">\n",
       "      <th></th>\n",
       "      <th>name</th>\n",
       "    </tr>\n",
       "  </thead>\n",
       "  <tbody>\n",
       "  </tbody>\n",
       "</table>\n",
       "</div>"
      ],
      "text/plain": [
       "Empty DataFrame\n",
       "Columns: [name]\n",
       "Index: []"
      ]
     },
     "execution_count": 660,
     "metadata": {},
     "output_type": "execute_result"
    }
   ],
   "source": [
    "a = pd.DataFrame(data=geo_map, index=['map']).T\n",
    "a = a[a['map'].isnull()]\n",
    "\n",
    "geo2.set_index('country').ix[a.index]"
   ]
  },
  {
   "cell_type": "code",
   "execution_count": 667,
   "metadata": {
    "collapsed": true
   },
   "outputs": [],
   "source": [
    "name = l2.ix[it[1]].iloc[1].gw_ddf_id\n",
    "name_2 = l2.ix[it[1]].iloc[1].ddf_concept_id"
   ]
  },
  {
   "cell_type": "code",
   "execution_count": 654,
   "metadata": {
    "collapsed": true
   },
   "outputs": [],
   "source": [
    "left = ddf.ddf_datapoint('ddf--gapminder--systema_globalis', name).set_index(['geo', 'time'])"
   ]
  },
  {
   "cell_type": "code",
   "execution_count": 668,
   "metadata": {
    "collapsed": true
   },
   "outputs": [],
   "source": [
    "right = ddf.ddf_datapoint(it[0], name_2)"
   ]
  },
  {
   "cell_type": "code",
   "execution_count": 669,
   "metadata": {
    "collapsed": false,
    "scrolled": true
   },
   "outputs": [],
   "source": [
    "right.columns = ['geo', 'time', name]\n",
    "\n",
    "right.geo = right.geo.map(lambda x: geo_map[x])"
   ]
  },
  {
   "cell_type": "code",
   "execution_count": 671,
   "metadata": {
    "collapsed": true
   },
   "outputs": [],
   "source": [
    "right[['geo', name, 'time']].to_csv('../ddf--datapoints--'+name+'--by--geo--time.csv', float_format='%.2f', index=False)"
   ]
  },
  {
   "cell_type": "code",
   "execution_count": null,
   "metadata": {
    "collapsed": true
   },
   "outputs": [],
   "source": []
  },
  {
   "cell_type": "code",
   "execution_count": null,
   "metadata": {
    "collapsed": true
   },
   "outputs": [],
   "source": []
  },
  {
   "cell_type": "code",
   "execution_count": 673,
   "metadata": {
    "collapsed": false
   },
   "outputs": [
    {
     "data": {
      "text/html": [
       "<div>\n",
       "<table border=\"1\" class=\"dataframe\">\n",
       "  <thead>\n",
       "    <tr style=\"text-align: right;\">\n",
       "      <th></th>\n",
       "      <th>gw_ddf_id</th>\n",
       "      <th>found_in_ddf</th>\n",
       "      <th>ddf_concept_id</th>\n",
       "      <th>Notes</th>\n",
       "    </tr>\n",
       "  </thead>\n",
       "  <tbody>\n",
       "    <tr>\n",
       "      <th>119</th>\n",
       "      <td>body_mass_index_bmi_men_kgperm2</td>\n",
       "      <td>ddf--imperial--metabolic</td>\n",
       "      <td>bmi_mean_kg_per_m2</td>\n",
       "      <td>filter sex=='male'</td>\n",
       "    </tr>\n",
       "    <tr>\n",
       "      <th>120</th>\n",
       "      <td>body_mass_index_bmi_women_kgperm2</td>\n",
       "      <td>ddf--imperial--metabolic</td>\n",
       "      <td>bmi_mean_kg_per_m2</td>\n",
       "      <td>filter sex=='female'</td>\n",
       "    </tr>\n",
       "    <tr>\n",
       "      <th>121</th>\n",
       "      <td>blood_pressure_sbp_men_mmhg</td>\n",
       "      <td>ddf--imperial--metabolic</td>\n",
       "      <td>sbp_mean_mm_hg</td>\n",
       "      <td>filter sex=='male'</td>\n",
       "    </tr>\n",
       "    <tr>\n",
       "      <th>122</th>\n",
       "      <td>blood_pressure_sbp_women_mmhg</td>\n",
       "      <td>ddf--imperial--metabolic</td>\n",
       "      <td>sbp_mean_mm_hg</td>\n",
       "      <td>filter sex=='female'</td>\n",
       "    </tr>\n",
       "    <tr>\n",
       "      <th>123</th>\n",
       "      <td>cholesterol_fat_in_blood_men_mmolperl</td>\n",
       "      <td>ddf--imperial--metabolic</td>\n",
       "      <td>tc_mean_mmol_per_l</td>\n",
       "      <td>filter sex=='male'</td>\n",
       "    </tr>\n",
       "    <tr>\n",
       "      <th>124</th>\n",
       "      <td>cholesterol_fat_in_blood_women_mmolperl</td>\n",
       "      <td>ddf--imperial--metabolic</td>\n",
       "      <td>tc_mean_mmol_per_l</td>\n",
       "      <td>filter sex=='female'</td>\n",
       "    </tr>\n",
       "  </tbody>\n",
       "</table>\n",
       "</div>"
      ],
      "text/plain": [
       "                                   gw_ddf_id              found_in_ddf  \\\n",
       "119          body_mass_index_bmi_men_kgperm2  ddf--imperial--metabolic   \n",
       "120        body_mass_index_bmi_women_kgperm2  ddf--imperial--metabolic   \n",
       "121              blood_pressure_sbp_men_mmhg  ddf--imperial--metabolic   \n",
       "122            blood_pressure_sbp_women_mmhg  ddf--imperial--metabolic   \n",
       "123    cholesterol_fat_in_blood_men_mmolperl  ddf--imperial--metabolic   \n",
       "124  cholesterol_fat_in_blood_women_mmolperl  ddf--imperial--metabolic   \n",
       "\n",
       "         ddf_concept_id                 Notes  \n",
       "119  bmi_mean_kg_per_m2    filter sex=='male'  \n",
       "120  bmi_mean_kg_per_m2  filter sex=='female'  \n",
       "121      sbp_mean_mm_hg    filter sex=='male'  \n",
       "122      sbp_mean_mm_hg  filter sex=='female'  \n",
       "123  tc_mean_mmol_per_l    filter sex=='male'  \n",
       "124  tc_mean_mmol_per_l  filter sex=='female'  "
      ]
     },
     "execution_count": 673,
     "metadata": {},
     "output_type": "execute_result"
    }
   ],
   "source": [
    "it = next(d)\n",
    "l2.ix[it[1]]"
   ]
  },
  {
   "cell_type": "code",
   "execution_count": 679,
   "metadata": {
    "collapsed": true
   },
   "outputs": [],
   "source": [
    "geo2 = ddf.ddf_entities(it[0])['country']\n",
    "geo_map = get_geo_map(geo2, 'country')"
   ]
  },
  {
   "cell_type": "code",
   "execution_count": 680,
   "metadata": {
    "collapsed": false
   },
   "outputs": [
    {
     "data": {
      "text/html": [
       "<div>\n",
       "<table border=\"1\" class=\"dataframe\">\n",
       "  <thead>\n",
       "    <tr style=\"text-align: right;\">\n",
       "      <th></th>\n",
       "      <th>name</th>\n",
       "    </tr>\n",
       "  </thead>\n",
       "  <tbody>\n",
       "    <tr>\n",
       "      <th>china_hong_kong_sar</th>\n",
       "      <td>China (Hong Kong SAR)</td>\n",
       "    </tr>\n",
       "    <tr>\n",
       "      <th>china_macao_sar</th>\n",
       "      <td>China (Macao SAR)</td>\n",
       "    </tr>\n",
       "    <tr>\n",
       "      <th>democratic_republic_of_the_congo</th>\n",
       "      <td>Democratic Republic of the Congo</td>\n",
       "    </tr>\n",
       "    <tr>\n",
       "      <th>iran_islamic_republic_of</th>\n",
       "      <td>Iran (Islamic Republic of)</td>\n",
       "    </tr>\n",
       "    <tr>\n",
       "      <th>lao_people_s_democratic_republic</th>\n",
       "      <td>Lao People's Democratic Republic</td>\n",
       "    </tr>\n",
       "    <tr>\n",
       "      <th>macedonia_former_yugoslav_republic_of</th>\n",
       "      <td>Macedonia (Former Yugoslav Republic of)</td>\n",
       "    </tr>\n",
       "    <tr>\n",
       "      <th>republic_of_korea</th>\n",
       "      <td>Republic of Korea</td>\n",
       "    </tr>\n",
       "    <tr>\n",
       "      <th>united_republic_of_tanzania</th>\n",
       "      <td>United Republic of Tanzania</td>\n",
       "    </tr>\n",
       "  </tbody>\n",
       "</table>\n",
       "</div>"
      ],
      "text/plain": [
       "                                                                          name\n",
       "china_hong_kong_sar                                      China (Hong Kong SAR)\n",
       "china_macao_sar                                              China (Macao SAR)\n",
       "democratic_republic_of_the_congo              Democratic Republic of the Congo\n",
       "iran_islamic_republic_of                            Iran (Islamic Republic of)\n",
       "lao_people_s_democratic_republic              Lao People's Democratic Republic\n",
       "macedonia_former_yugoslav_republic_of  Macedonia (Former Yugoslav Republic of)\n",
       "republic_of_korea                                            Republic of Korea\n",
       "united_republic_of_tanzania                        United Republic of Tanzania"
      ]
     },
     "execution_count": 680,
     "metadata": {},
     "output_type": "execute_result"
    }
   ],
   "source": [
    "a = pd.DataFrame(data=geo_map, index=['map']).T\n",
    "a = a[a['map'].isnull()]\n",
    "\n",
    "geo2.set_index('country').ix[a.index]"
   ]
  },
  {
   "cell_type": "code",
   "execution_count": 681,
   "metadata": {
    "collapsed": true
   },
   "outputs": [],
   "source": [
    "geo_map['china_hong_kong_sar'] = 'hkg'\n",
    "geo_map['china_macao_sar'] = 'mac'\n",
    "geo_map['democratic_republic_of_the_congo'] = 'cod'\n",
    "geo_map['iran_islamic_republic_of'] = 'irn'\n",
    "geo_map['lao_people_s_democratic_republic'] = 'lao'\n",
    "geo_map['macedonia_former_yugoslav_republic_of'] = 'mkd'\n",
    "geo_map['republic_of_korea'] = 'kor'\n",
    "geo_map['united_republic_of_tanzania'] = 'tza'"
   ]
  },
  {
   "cell_type": "code",
   "execution_count": null,
   "metadata": {
    "collapsed": true
   },
   "outputs": [],
   "source": []
  },
  {
   "cell_type": "code",
   "execution_count": 674,
   "metadata": {
    "collapsed": true
   },
   "outputs": [],
   "source": [
    "name = l2.ix[it[1]].iloc[1].gw_ddf_id\n",
    "name_2 = l2.ix[it[1]].iloc[1].ddf_concept_id"
   ]
  },
  {
   "cell_type": "code",
   "execution_count": 678,
   "metadata": {
    "collapsed": false
   },
   "outputs": [
    {
     "data": {
      "text/plain": [
       "'body_mass_index_bmi_women_kgperm2'"
      ]
     },
     "execution_count": 678,
     "metadata": {},
     "output_type": "execute_result"
    }
   ],
   "source": [
    "name"
   ]
  },
  {
   "cell_type": "code",
   "execution_count": 675,
   "metadata": {
    "collapsed": true
   },
   "outputs": [],
   "source": [
    "left = ddf.ddf_datapoint('ddf--gapminder--systema_globalis', name).set_index(['geo', 'time'])"
   ]
  },
  {
   "cell_type": "code",
   "execution_count": 676,
   "metadata": {
    "collapsed": true
   },
   "outputs": [],
   "source": [
    "right = ddf.ddf_datapoint(it[0], name_2)"
   ]
  },
  {
   "cell_type": "code",
   "execution_count": 682,
   "metadata": {
    "collapsed": false
   },
   "outputs": [],
   "source": [
    "right = right.query(\"sex == 'female'\")[['country', 'year', name_2]]"
   ]
  },
  {
   "cell_type": "code",
   "execution_count": 683,
   "metadata": {
    "collapsed": true
   },
   "outputs": [],
   "source": [
    "right.columns = ['geo', 'time', name]\n",
    "right.geo = right.geo.map(lambda x: geo_map[x])"
   ]
  },
  {
   "cell_type": "code",
   "execution_count": 686,
   "metadata": {
    "collapsed": false
   },
   "outputs": [],
   "source": [
    "right[[name, 'geo', 'time']].to_csv('../ddf--datapoints--'+name+'--by--geo--time.csv', float_format='%.2f', index=False)"
   ]
  },
  {
   "cell_type": "code",
   "execution_count": 687,
   "metadata": {
    "collapsed": true
   },
   "outputs": [],
   "source": [
    "for i, v in l2.ix[it[1]].iterrows():\n",
    "    name = v['gw_ddf_id']\n",
    "    name_2 = v['ddf_concept_id']\n",
    "    right = ddf.ddf_datapoint(it[0], name_2)\n",
    "    \n",
    "    if 'women' in name:\n",
    "        q = 'female'\n",
    "    elif 'men' in name:\n",
    "        q = 'male'\n",
    "        \n",
    "    right = right.query(\"sex == @q\")[['country', 'year', name_2]]\n",
    "    \n",
    "    right.columns = ['geo', 'time', name]\n",
    "    right.geo = right.geo.map(lambda x: geo_map[x])\n",
    "    \n",
    "    right[[name, 'geo', 'time']].to_csv('../ddf--datapoints--'+name+'--by--geo--time.csv', float_format='%.2f', index=False)\n",
    "    "
   ]
  },
  {
   "cell_type": "code",
   "execution_count": null,
   "metadata": {
    "collapsed": true
   },
   "outputs": [],
   "source": []
  },
  {
   "cell_type": "code",
   "execution_count": null,
   "metadata": {
    "collapsed": true
   },
   "outputs": [],
   "source": []
  },
  {
   "cell_type": "code",
   "execution_count": 688,
   "metadata": {
    "collapsed": false
   },
   "outputs": [
    {
     "data": {
      "text/html": [
       "<div>\n",
       "<table border=\"1\" class=\"dataframe\">\n",
       "  <thead>\n",
       "    <tr style=\"text-align: right;\">\n",
       "      <th></th>\n",
       "      <th>gw_ddf_id</th>\n",
       "      <th>found_in_ddf</th>\n",
       "      <th>ddf_concept_id</th>\n",
       "      <th>Notes</th>\n",
       "    </tr>\n",
       "  </thead>\n",
       "  <tbody>\n",
       "    <tr>\n",
       "      <th>7</th>\n",
       "      <td>co2_emissions_tonnes_per_person</td>\n",
       "      <td>ddf--cdiac-co2</td>\n",
       "      <td>per_capita_co2_emissions_metric_tons_of_carbon</td>\n",
       "      <td>Multiply by 3.667 to get the CO2 data</td>\n",
       "    </tr>\n",
       "    <tr>\n",
       "      <th>8</th>\n",
       "      <td>cumulative_co2_emissions_tonnes</td>\n",
       "      <td>ddf--cdiac-co2</td>\n",
       "      <td>total_co2_emissions_from_fossil_fuels_thousand...</td>\n",
       "      <td>the cumulative sum of yearly_co2_emissions_tonnes</td>\n",
       "    </tr>\n",
       "    <tr>\n",
       "      <th>9</th>\n",
       "      <td>yearly_co2_emissions_1000_tonnes</td>\n",
       "      <td>ddf--cdiac-co2</td>\n",
       "      <td>total_co2_emissions_from_fossil_fuels_thousand...</td>\n",
       "      <td>equals yearly_co2_emissions_tonnes / 1000</td>\n",
       "    </tr>\n",
       "    <tr>\n",
       "      <th>10</th>\n",
       "      <td>yearly_co2_emissions_tonnes</td>\n",
       "      <td>ddf--cdiac-co2</td>\n",
       "      <td>total_co2_emissions_from_fossil_fuels_thousand...</td>\n",
       "      <td>Multiply by 3.667 to get the CO2 data</td>\n",
       "    </tr>\n",
       "  </tbody>\n",
       "</table>\n",
       "</div>"
      ],
      "text/plain": [
       "                           gw_ddf_id    found_in_ddf  \\\n",
       "7    co2_emissions_tonnes_per_person  ddf--cdiac-co2   \n",
       "8    cumulative_co2_emissions_tonnes  ddf--cdiac-co2   \n",
       "9   yearly_co2_emissions_1000_tonnes  ddf--cdiac-co2   \n",
       "10       yearly_co2_emissions_tonnes  ddf--cdiac-co2   \n",
       "\n",
       "                                       ddf_concept_id  \\\n",
       "7      per_capita_co2_emissions_metric_tons_of_carbon   \n",
       "8   total_co2_emissions_from_fossil_fuels_thousand...   \n",
       "9   total_co2_emissions_from_fossil_fuels_thousand...   \n",
       "10  total_co2_emissions_from_fossil_fuels_thousand...   \n",
       "\n",
       "                                                Notes  \n",
       "7              Multiply by 3.667 to get the CO2 data   \n",
       "8   the cumulative sum of yearly_co2_emissions_tonnes  \n",
       "9           equals yearly_co2_emissions_tonnes / 1000  \n",
       "10             Multiply by 3.667 to get the CO2 data   "
      ]
     },
     "execution_count": 688,
     "metadata": {},
     "output_type": "execute_result"
    }
   ],
   "source": [
    "it = next(d)\n",
    "l2.ix[it[1]]  #TODO: skip this one for now"
   ]
  },
  {
   "cell_type": "code",
   "execution_count": 735,
   "metadata": {
    "collapsed": false
   },
   "outputs": [],
   "source": [
    "geo2 = right[['nation']].drop_duplicates()"
   ]
  },
  {
   "cell_type": "code",
   "execution_count": 736,
   "metadata": {
    "collapsed": false
   },
   "outputs": [],
   "source": [
    "from ddf_utils.str import to_concept_id\n",
    "\n",
    "geo2['name'] = geo2['nation'].str.title()\n",
    "geo2['nation'] = geo2['nation'].map(to_concept_id)"
   ]
  },
  {
   "cell_type": "code",
   "execution_count": 737,
   "metadata": {
    "collapsed": false
   },
   "outputs": [],
   "source": [
    "# geo2 = ddf.ddf_entities(it[0])['nation']\n",
    "geo_map = get_geo_map(geo2, 'nation')"
   ]
  },
  {
   "cell_type": "code",
   "execution_count": 738,
   "metadata": {
    "collapsed": false
   },
   "outputs": [],
   "source": [
    "a = pd.DataFrame(data=geo_map, index=['map']).T\n",
    "a = a[a['map'].isnull()]\n",
    "\n",
    "geo3 = geo2.set_index('nation').ix[a.index]"
   ]
  },
  {
   "cell_type": "code",
   "execution_count": 740,
   "metadata": {
    "collapsed": false,
    "scrolled": true
   },
   "outputs": [
    {
     "data": {
      "text/html": [
       "<div>\n",
       "<table border=\"1\" class=\"dataframe\">\n",
       "  <thead>\n",
       "    <tr style=\"text-align: right;\">\n",
       "      <th></th>\n",
       "      <th>name</th>\n",
       "    </tr>\n",
       "  </thead>\n",
       "  <tbody>\n",
       "    <tr>\n",
       "      <th>antarctic_fisheries</th>\n",
       "      <td>Antarctic Fisheries</td>\n",
       "    </tr>\n",
       "    <tr>\n",
       "      <th>east_west_pakistan</th>\n",
       "      <td>East &amp; West Pakistan</td>\n",
       "    </tr>\n",
       "    <tr>\n",
       "      <th>federal_republic_of_germany</th>\n",
       "      <td>Federal Republic Of Germany</td>\n",
       "    </tr>\n",
       "    <tr>\n",
       "      <th>federated_states_of_micronesia</th>\n",
       "      <td>Federated States Of Micronesia</td>\n",
       "    </tr>\n",
       "    <tr>\n",
       "      <th>federation_of_malaya_singapore</th>\n",
       "      <td>Federation Of Malaya-Singapore</td>\n",
       "    </tr>\n",
       "    <tr>\n",
       "      <th>former_democratic_yemen</th>\n",
       "      <td>Former Democratic Yemen</td>\n",
       "    </tr>\n",
       "    <tr>\n",
       "      <th>former_german_democratic_republic</th>\n",
       "      <td>Former German Democratic Republic</td>\n",
       "    </tr>\n",
       "    <tr>\n",
       "      <th>former_yemen</th>\n",
       "      <td>Former Yemen</td>\n",
       "    </tr>\n",
       "    <tr>\n",
       "      <th>french_equatorial_africa</th>\n",
       "      <td>French Equatorial Africa</td>\n",
       "    </tr>\n",
       "    <tr>\n",
       "      <th>french_indo_china</th>\n",
       "      <td>French Indo-China</td>\n",
       "    </tr>\n",
       "    <tr>\n",
       "      <th>french_west_africa</th>\n",
       "      <td>French West Africa</td>\n",
       "    </tr>\n",
       "    <tr>\n",
       "      <th>hong_kong_special_adminstrative_region_of_china</th>\n",
       "      <td>Hong Kong Special Adminstrative Region Of China</td>\n",
       "    </tr>\n",
       "    <tr>\n",
       "      <th>leeward_islands</th>\n",
       "      <td>Leeward Islands</td>\n",
       "    </tr>\n",
       "    <tr>\n",
       "      <th>macau_special_adminstrative_region_of_china</th>\n",
       "      <td>Macau Special Adminstrative Region Of China</td>\n",
       "    </tr>\n",
       "    <tr>\n",
       "      <th>myanmar_formerly_burma</th>\n",
       "      <td>Myanmar (Formerly Burma)</td>\n",
       "    </tr>\n",
       "    <tr>\n",
       "      <th>netherland_antilles_and_aruba</th>\n",
       "      <td>Netherland Antilles And Aruba</td>\n",
       "    </tr>\n",
       "    <tr>\n",
       "      <th>pacific_islands_palau</th>\n",
       "      <td>Pacific Islands (Palau)</td>\n",
       "    </tr>\n",
       "    <tr>\n",
       "      <th>peninsular_malaysia</th>\n",
       "      <td>Peninsular Malaysia</td>\n",
       "    </tr>\n",
       "    <tr>\n",
       "      <th>plurinational_state_of_bolivia</th>\n",
       "      <td>Plurinational State Of Bolivia</td>\n",
       "    </tr>\n",
       "    <tr>\n",
       "      <th>republic_of_moldova</th>\n",
       "      <td>Republic Of Moldova</td>\n",
       "    </tr>\n",
       "    <tr>\n",
       "      <th>rhodesia_nyasaland</th>\n",
       "      <td>Rhodesia-Nyasaland</td>\n",
       "    </tr>\n",
       "    <tr>\n",
       "      <th>rwanda_urundi</th>\n",
       "      <td>Rwanda-Urundi</td>\n",
       "    </tr>\n",
       "    <tr>\n",
       "      <th>sabah</th>\n",
       "      <td>Sabah</td>\n",
       "    </tr>\n",
       "    <tr>\n",
       "      <th>sarawak</th>\n",
       "      <td>Sarawak</td>\n",
       "    </tr>\n",
       "    <tr>\n",
       "      <th>st_kitts_nevis_anguilla</th>\n",
       "      <td>St. Kitts-Nevis-Anguilla</td>\n",
       "    </tr>\n",
       "    <tr>\n",
       "      <th>tanganyika</th>\n",
       "      <td>Tanganyika</td>\n",
       "    </tr>\n",
       "    <tr>\n",
       "      <th>turks_and_caicos_islands</th>\n",
       "      <td>Turks And Caicos Islands</td>\n",
       "    </tr>\n",
       "    <tr>\n",
       "      <th>ussr</th>\n",
       "      <td>Ussr</td>\n",
       "    </tr>\n",
       "    <tr>\n",
       "      <th>wallis_and_futuna_islands</th>\n",
       "      <td>Wallis And Futuna Islands</td>\n",
       "    </tr>\n",
       "    <tr>\n",
       "      <th>yugoslavia_former_socialist_federal_republic</th>\n",
       "      <td>Yugoslavia (Former Socialist Federal Republic)</td>\n",
       "    </tr>\n",
       "    <tr>\n",
       "      <th>yugoslavia_montenegro_serbia</th>\n",
       "      <td>Yugoslavia (Montenegro &amp; Serbia)</td>\n",
       "    </tr>\n",
       "    <tr>\n",
       "      <th>zanzibar</th>\n",
       "      <td>Zanzibar</td>\n",
       "    </tr>\n",
       "  </tbody>\n",
       "</table>\n",
       "</div>"
      ],
      "text/plain": [
       "                                                                                            name\n",
       "antarctic_fisheries                                                          Antarctic Fisheries\n",
       "east_west_pakistan                                                          East & West Pakistan\n",
       "federal_republic_of_germany                                          Federal Republic Of Germany\n",
       "federated_states_of_micronesia                                    Federated States Of Micronesia\n",
       "federation_of_malaya_singapore                                    Federation Of Malaya-Singapore\n",
       "former_democratic_yemen                                                  Former Democratic Yemen\n",
       "former_german_democratic_republic                              Former German Democratic Republic\n",
       "former_yemen                                                                        Former Yemen\n",
       "french_equatorial_africa                                                French Equatorial Africa\n",
       "french_indo_china                                                              French Indo-China\n",
       "french_west_africa                                                            French West Africa\n",
       "hong_kong_special_adminstrative_region_of_china  Hong Kong Special Adminstrative Region Of China\n",
       "leeward_islands                                                                  Leeward Islands\n",
       "macau_special_adminstrative_region_of_china          Macau Special Adminstrative Region Of China\n",
       "myanmar_formerly_burma                                                  Myanmar (Formerly Burma)\n",
       "netherland_antilles_and_aruba                                      Netherland Antilles And Aruba\n",
       "pacific_islands_palau                                                    Pacific Islands (Palau)\n",
       "peninsular_malaysia                                                          Peninsular Malaysia\n",
       "plurinational_state_of_bolivia                                    Plurinational State Of Bolivia\n",
       "republic_of_moldova                                                          Republic Of Moldova\n",
       "rhodesia_nyasaland                                                            Rhodesia-Nyasaland\n",
       "rwanda_urundi                                                                      Rwanda-Urundi\n",
       "sabah                                                                                      Sabah\n",
       "sarawak                                                                                  Sarawak\n",
       "st_kitts_nevis_anguilla                                                 St. Kitts-Nevis-Anguilla\n",
       "tanganyika                                                                            Tanganyika\n",
       "turks_and_caicos_islands                                                Turks And Caicos Islands\n",
       "ussr                                                                                        Ussr\n",
       "wallis_and_futuna_islands                                              Wallis And Futuna Islands\n",
       "yugoslavia_former_socialist_federal_republic      Yugoslavia (Former Socialist Federal Republic)\n",
       "yugoslavia_montenegro_serbia                                    Yugoslavia (Montenegro & Serbia)\n",
       "zanzibar                                                                                Zanzibar"
      ]
     },
     "execution_count": 740,
     "metadata": {},
     "output_type": "execute_result"
    }
   ],
   "source": [
    "geo3"
   ]
  },
  {
   "cell_type": "code",
   "execution_count": 698,
   "metadata": {
    "collapsed": true
   },
   "outputs": [],
   "source": [
    "name = l2.ix[it[1]].iloc[0].gw_ddf_id\n",
    "name_2 = l2.ix[it[1]].iloc[0].ddf_concept_id"
   ]
  },
  {
   "cell_type": "code",
   "execution_count": 699,
   "metadata": {
    "collapsed": true
   },
   "outputs": [],
   "source": [
    "left = ddf.ddf_datapoint('ddf--gapminder--systema_globalis', name).set_index(['geo', 'time'])"
   ]
  },
  {
   "cell_type": "code",
   "execution_count": 705,
   "metadata": {
    "collapsed": true
   },
   "outputs": [],
   "source": [
    "right = ddf.ddf_datapoint(it[0], name_2)"
   ]
  },
  {
   "cell_type": "code",
   "execution_count": 706,
   "metadata": {
    "collapsed": false
   },
   "outputs": [
    {
     "data": {
      "text/plain": [
       "array(['1751_2008', '1751_2009', '1751_2010', '1751_2011'], dtype=object)"
      ]
     },
     "execution_count": 706,
     "metadata": {},
     "output_type": "execute_result"
    }
   ],
   "source": [
    "right.version.unique()"
   ]
  },
  {
   "cell_type": "code",
   "execution_count": 709,
   "metadata": {
    "collapsed": false
   },
   "outputs": [],
   "source": [
    "right = right[right.version == '1751_2011']"
   ]
  },
  {
   "cell_type": "code",
   "execution_count": null,
   "metadata": {
    "collapsed": true
   },
   "outputs": [],
   "source": []
  },
  {
   "cell_type": "code",
   "execution_count": 741,
   "metadata": {
    "collapsed": false
   },
   "outputs": [
    {
     "data": {
      "text/html": [
       "<div>\n",
       "<table border=\"1\" class=\"dataframe\">\n",
       "  <thead>\n",
       "    <tr style=\"text-align: right;\">\n",
       "      <th></th>\n",
       "      <th>gw_ddf_id</th>\n",
       "      <th>found_in_ddf</th>\n",
       "      <th>ddf_concept_id</th>\n",
       "      <th>Notes</th>\n",
       "    </tr>\n",
       "  </thead>\n",
       "  <tbody>\n",
       "    <tr>\n",
       "      <th>57</th>\n",
       "      <td>age_at_1st_marriage_women</td>\n",
       "      <td>ddf--gapminder--hist_marriage_age</td>\n",
       "      <td>average_age_at_1st_marriage_girls</td>\n",
       "      <td>NaN</td>\n",
       "    </tr>\n",
       "  </tbody>\n",
       "</table>\n",
       "</div>"
      ],
      "text/plain": [
       "                    gw_ddf_id                       found_in_ddf  \\\n",
       "57  age_at_1st_marriage_women  ddf--gapminder--hist_marriage_age   \n",
       "\n",
       "                       ddf_concept_id Notes  \n",
       "57  average_age_at_1st_marriage_girls   NaN  "
      ]
     },
     "execution_count": 741,
     "metadata": {},
     "output_type": "execute_result"
    }
   ],
   "source": [
    "it = next(d)\n",
    "l2.ix[it[1]]"
   ]
  },
  {
   "cell_type": "code",
   "execution_count": 748,
   "metadata": {
    "collapsed": false
   },
   "outputs": [],
   "source": [
    "geo2 = ddf.ddf_entities(it[0])['country']\n",
    "geo_map = get_geo_map(geo2, 'country')"
   ]
  },
  {
   "cell_type": "code",
   "execution_count": 750,
   "metadata": {
    "collapsed": false
   },
   "outputs": [
    {
     "data": {
      "text/html": [
       "<div>\n",
       "<table border=\"1\" class=\"dataframe\">\n",
       "  <thead>\n",
       "    <tr style=\"text-align: right;\">\n",
       "      <th></th>\n",
       "      <th>name</th>\n",
       "    </tr>\n",
       "  </thead>\n",
       "  <tbody>\n",
       "    <tr>\n",
       "      <th>central_african_rep</th>\n",
       "      <td>Central African rep.</td>\n",
       "    </tr>\n",
       "    <tr>\n",
       "      <th>czech_rep</th>\n",
       "      <td>Czech rep.</td>\n",
       "    </tr>\n",
       "    <tr>\n",
       "      <th>dominican_rep</th>\n",
       "      <td>Dominican rep.</td>\n",
       "    </tr>\n",
       "    <tr>\n",
       "      <th>macao_china</th>\n",
       "      <td>macao, China</td>\n",
       "    </tr>\n",
       "    <tr>\n",
       "      <th>vietnam</th>\n",
       "      <td>VietNam</td>\n",
       "    </tr>\n",
       "  </tbody>\n",
       "</table>\n",
       "</div>"
      ],
      "text/plain": [
       "                                     name\n",
       "central_african_rep  Central African rep.\n",
       "czech_rep                      Czech rep.\n",
       "dominican_rep              Dominican rep.\n",
       "macao_china                  macao, China\n",
       "vietnam                           VietNam"
      ]
     },
     "execution_count": 750,
     "metadata": {},
     "output_type": "execute_result"
    }
   ],
   "source": [
    "a = pd.DataFrame(data=geo_map, index=['map']).T\n",
    "a = a[a['map'].isnull()]\n",
    "\n",
    "geo2.set_index('country').ix[a.index]"
   ]
  },
  {
   "cell_type": "code",
   "execution_count": 751,
   "metadata": {
    "collapsed": true
   },
   "outputs": [],
   "source": [
    "geo_map['vietnam'] = 'vnm'\n",
    "geo_map['macao_china'] = 'mac'\n",
    "geo_map['czech_rep'] = 'cze'\n",
    "geo_map['dominican_rep'] = 'dom'\n",
    "geo_map['central_african_rep'] = 'caf'"
   ]
  },
  {
   "cell_type": "code",
   "execution_count": null,
   "metadata": {
    "collapsed": true
   },
   "outputs": [],
   "source": []
  },
  {
   "cell_type": "code",
   "execution_count": null,
   "metadata": {
    "collapsed": true
   },
   "outputs": [],
   "source": []
  },
  {
   "cell_type": "code",
   "execution_count": 742,
   "metadata": {
    "collapsed": true
   },
   "outputs": [],
   "source": [
    "name = l2.ix[it[1]].iloc[0].gw_ddf_id\n",
    "name_2 = l2.ix[it[1]].iloc[0].ddf_concept_id"
   ]
  },
  {
   "cell_type": "code",
   "execution_count": 743,
   "metadata": {
    "collapsed": true
   },
   "outputs": [],
   "source": [
    "left = ddf.ddf_datapoint('ddf--gapminder--systema_globalis', name).set_index(['geo', 'time'])"
   ]
  },
  {
   "cell_type": "code",
   "execution_count": 744,
   "metadata": {
    "collapsed": true
   },
   "outputs": [],
   "source": [
    "right = ddf.ddf_datapoint(it[0], name_2)"
   ]
  },
  {
   "cell_type": "code",
   "execution_count": 752,
   "metadata": {
    "collapsed": false
   },
   "outputs": [],
   "source": [
    "right.columns = ['geo', 'time', name]\n",
    "\n",
    "right.geo = right.geo.map(lambda x: geo_map[x])"
   ]
  },
  {
   "cell_type": "code",
   "execution_count": 754,
   "metadata": {
    "collapsed": true
   },
   "outputs": [],
   "source": [
    "right[['geo', name, 'time']].to_csv('../ddf--datapoints--'+name+'--by--geo--time.csv', float_format='%.2f', index=False)"
   ]
  },
  {
   "cell_type": "code",
   "execution_count": null,
   "metadata": {
    "collapsed": true
   },
   "outputs": [],
   "source": []
  },
  {
   "cell_type": "code",
   "execution_count": null,
   "metadata": {
    "collapsed": true
   },
   "outputs": [],
   "source": []
  },
  {
   "cell_type": "code",
   "execution_count": 762,
   "metadata": {
    "collapsed": false
   },
   "outputs": [
    {
     "data": {
      "text/html": [
       "<div>\n",
       "<table border=\"1\" class=\"dataframe\">\n",
       "  <thead>\n",
       "    <tr style=\"text-align: right;\">\n",
       "      <th></th>\n",
       "      <th>gw_ddf_id</th>\n",
       "      <th>found_in_ddf</th>\n",
       "      <th>ddf_concept_id</th>\n",
       "      <th>Notes</th>\n",
       "    </tr>\n",
       "  </thead>\n",
       "  <tbody>\n",
       "    <tr>\n",
       "      <th>140</th>\n",
       "      <td>alternative_gdppercapita_ppp_inflation_adjuste...</td>\n",
       "      <td>ddf--pwt--penn_world_table</td>\n",
       "      <td>rgdpna / pop</td>\n",
       "      <td>data difference?</td>\n",
       "    </tr>\n",
       "    <tr>\n",
       "      <th>141</th>\n",
       "      <td>alternative_gdp_per_capita_ppp_pwt_7_1</td>\n",
       "      <td>ddf--pwt--penn_world_table</td>\n",
       "      <td>NaN</td>\n",
       "      <td>newest version is 9.0</td>\n",
       "    </tr>\n",
       "    <tr>\n",
       "      <th>142</th>\n",
       "      <td>alternative_gdp_per_capita_ppp_pwt_8_0</td>\n",
       "      <td>ddf--pwt--penn_world_table</td>\n",
       "      <td>NaN</td>\n",
       "      <td>newest version is 9.0</td>\n",
       "    </tr>\n",
       "    <tr>\n",
       "      <th>143</th>\n",
       "      <td>economic_growth_over_the_past_10_years</td>\n",
       "      <td>ddf--pwt--penn_world_table</td>\n",
       "      <td>rgdpna</td>\n",
       "      <td>data difference?</td>\n",
       "    </tr>\n",
       "  </tbody>\n",
       "</table>\n",
       "</div>"
      ],
      "text/plain": [
       "                                             gw_ddf_id  \\\n",
       "140  alternative_gdppercapita_ppp_inflation_adjuste...   \n",
       "141             alternative_gdp_per_capita_ppp_pwt_7_1   \n",
       "142             alternative_gdp_per_capita_ppp_pwt_8_0   \n",
       "143             economic_growth_over_the_past_10_years   \n",
       "\n",
       "                   found_in_ddf ddf_concept_id                  Notes  \n",
       "140  ddf--pwt--penn_world_table   rgdpna / pop       data difference?  \n",
       "141  ddf--pwt--penn_world_table            NaN  newest version is 9.0  \n",
       "142  ddf--pwt--penn_world_table            NaN  newest version is 9.0  \n",
       "143  ddf--pwt--penn_world_table         rgdpna       data difference?  "
      ]
     },
     "execution_count": 762,
     "metadata": {},
     "output_type": "execute_result"
    }
   ],
   "source": [
    "it = next(d)\n",
    "l2.ix[it[1]]"
   ]
  },
  {
   "cell_type": "code",
   "execution_count": null,
   "metadata": {
    "collapsed": true
   },
   "outputs": [],
   "source": []
  },
  {
   "cell_type": "code",
   "execution_count": 778,
   "metadata": {
    "collapsed": true
   },
   "outputs": [],
   "source": [
    "name = l2.ix[it[1]].iloc[3].gw_ddf_id\n",
    "name_2 = l2.ix[it[1]].iloc[3].ddf_concept_id"
   ]
  },
  {
   "cell_type": "code",
   "execution_count": null,
   "metadata": {
    "collapsed": true
   },
   "outputs": [],
   "source": []
  },
  {
   "cell_type": "code",
   "execution_count": 764,
   "metadata": {
    "collapsed": true
   },
   "outputs": [],
   "source": [
    "left = ddf.ddf_datapoint('ddf--gapminder--systema_globalis', name).set_index(['geo', 'time'])"
   ]
  },
  {
   "cell_type": "code",
   "execution_count": 779,
   "metadata": {
    "collapsed": false
   },
   "outputs": [],
   "source": [
    "right1 = ddf.ddf_datapoint(it[0], 'rgdpna').set_index(['country', 'year'])\n",
    "right2 = ddf.ddf_datapoint(it[0], 'pop').set_index(['country', 'year'])"
   ]
  },
  {
   "cell_type": "code",
   "execution_count": 789,
   "metadata": {
    "collapsed": false,
    "scrolled": true
   },
   "outputs": [],
   "source": [
    "right = pd.concat([right1, right2], axis=1)"
   ]
  },
  {
   "cell_type": "code",
   "execution_count": 792,
   "metadata": {
    "collapsed": true
   },
   "outputs": [],
   "source": [
    "right = right.reset_index()"
   ]
  },
  {
   "cell_type": "code",
   "execution_count": 802,
   "metadata": {
    "collapsed": false,
    "scrolled": true
   },
   "outputs": [],
   "source": [
    "to_concat = []\n",
    "\n",
    "for c, ids in right.groupby('country').groups.items():\n",
    "    df = right.ix[ids]\n",
    "    new_df = cal(df.set_index(['country', 'year']).sort_index())\n",
    "    to_concat.append(new_df['rgdpna'].reset_index())"
   ]
  },
  {
   "cell_type": "code",
   "execution_count": 804,
   "metadata": {
    "collapsed": false
   },
   "outputs": [],
   "source": [
    "r = pd.concat(to_concat)"
   ]
  },
  {
   "cell_type": "code",
   "execution_count": 799,
   "metadata": {
    "collapsed": true
   },
   "outputs": [],
   "source": [
    "def cal(x):\n",
    "    return (x - x.shift(10)) / x.shift(10) * 100"
   ]
  },
  {
   "cell_type": "code",
   "execution_count": 815,
   "metadata": {
    "collapsed": false,
    "scrolled": true
   },
   "outputs": [],
   "source": [
    "r = r.dropna(how='any').copy()"
   ]
  },
  {
   "cell_type": "code",
   "execution_count": 816,
   "metadata": {
    "collapsed": true
   },
   "outputs": [],
   "source": [
    "r.columns = ['geo', 'time', name]"
   ]
  },
  {
   "cell_type": "code",
   "execution_count": 817,
   "metadata": {
    "collapsed": false
   },
   "outputs": [],
   "source": [
    "r[name] = r[name] / 10"
   ]
  },
  {
   "cell_type": "code",
   "execution_count": 775,
   "metadata": {
    "collapsed": false
   },
   "outputs": [],
   "source": [
    "right = right[name]"
   ]
  },
  {
   "cell_type": "code",
   "execution_count": 776,
   "metadata": {
    "collapsed": true
   },
   "outputs": [],
   "source": [
    "right = right.reset_index()\n",
    "right.columns = ['geo', 'time', name]"
   ]
  },
  {
   "cell_type": "code",
   "execution_count": 777,
   "metadata": {
    "collapsed": true
   },
   "outputs": [],
   "source": [
    "right[['geo', name, 'time']].to_csv('../ddf--datapoints--'+name+'--by--geo--time.csv', float_format='%.2f', index=False)"
   ]
  },
  {
   "cell_type": "code",
   "execution_count": 819,
   "metadata": {
    "collapsed": false
   },
   "outputs": [],
   "source": [
    "r.sort_values(by=['geo', 'time'])[['geo', 'time', name]].to_csv('../ddf--datapoints--'+name+'--by--geo--time.csv', float_format='%.2f', index=False)"
   ]
  },
  {
   "cell_type": "code",
   "execution_count": null,
   "metadata": {
    "collapsed": true
   },
   "outputs": [],
   "source": []
  },
  {
   "cell_type": "code",
   "execution_count": null,
   "metadata": {
    "collapsed": true
   },
   "outputs": [],
   "source": []
  },
  {
   "cell_type": "code",
   "execution_count": null,
   "metadata": {
    "collapsed": true
   },
   "outputs": [],
   "source": []
  },
  {
   "cell_type": "code",
   "execution_count": 820,
   "metadata": {
    "collapsed": false
   },
   "outputs": [
    {
     "data": {
      "text/html": [
       "<div>\n",
       "<table border=\"1\" class=\"dataframe\">\n",
       "  <thead>\n",
       "    <tr style=\"text-align: right;\">\n",
       "      <th></th>\n",
       "      <th>gw_ddf_id</th>\n",
       "      <th>found_in_ddf</th>\n",
       "      <th>ddf_concept_id</th>\n",
       "      <th>Notes</th>\n",
       "    </tr>\n",
       "  </thead>\n",
       "  <tbody>\n",
       "    <tr>\n",
       "      <th>56</th>\n",
       "      <td>infant_mortality_rate_per_1000_births</td>\n",
       "      <td>ddf--gapminder--hist_imr</td>\n",
       "      <td>infant_mortality_rate</td>\n",
       "      <td>NaN</td>\n",
       "    </tr>\n",
       "  </tbody>\n",
       "</table>\n",
       "</div>"
      ],
      "text/plain": [
       "                                gw_ddf_id              found_in_ddf  \\\n",
       "56  infant_mortality_rate_per_1000_births  ddf--gapminder--hist_imr   \n",
       "\n",
       "           ddf_concept_id Notes  \n",
       "56  infant_mortality_rate   NaN  "
      ]
     },
     "execution_count": 820,
     "metadata": {},
     "output_type": "execute_result"
    }
   ],
   "source": [
    "it = next(d)\n",
    "l2.ix[it[1]]"
   ]
  },
  {
   "cell_type": "code",
   "execution_count": 827,
   "metadata": {
    "collapsed": false
   },
   "outputs": [],
   "source": [
    "geo2 = ddf.ddf_entities(it[0])['area']\n",
    "geo_map = get_geo_map(geo2, 'area')"
   ]
  },
  {
   "cell_type": "code",
   "execution_count": 829,
   "metadata": {
    "collapsed": false
   },
   "outputs": [
    {
     "data": {
      "text/html": [
       "<div>\n",
       "<table border=\"1\" class=\"dataframe\">\n",
       "  <thead>\n",
       "    <tr style=\"text-align: right;\">\n",
       "      <th></th>\n",
       "      <th>name</th>\n",
       "    </tr>\n",
       "  </thead>\n",
       "  <tbody>\n",
       "    <tr>\n",
       "      <th>hawaii</th>\n",
       "      <td>Hawaii</td>\n",
       "    </tr>\n",
       "    <tr>\n",
       "      <th>malaya</th>\n",
       "      <td>Malaya</td>\n",
       "    </tr>\n",
       "  </tbody>\n",
       "</table>\n",
       "</div>"
      ],
      "text/plain": [
       "          name\n",
       "hawaii  Hawaii\n",
       "malaya  Malaya"
      ]
     },
     "execution_count": 829,
     "metadata": {},
     "output_type": "execute_result"
    }
   ],
   "source": [
    "a = pd.DataFrame(data=geo_map, index=['map']).T\n",
    "a = a[a['map'].isnull()]\n",
    "\n",
    "geo2.set_index('area').ix[a.index]"
   ]
  },
  {
   "cell_type": "code",
   "execution_count": 822,
   "metadata": {
    "collapsed": false
   },
   "outputs": [],
   "source": [
    "name = l2.ix[it[1]].iloc[0].gw_ddf_id\n",
    "name_2 = l2.ix[it[1]].iloc[0].ddf_concept_id"
   ]
  },
  {
   "cell_type": "code",
   "execution_count": null,
   "metadata": {
    "collapsed": true
   },
   "outputs": [],
   "source": []
  },
  {
   "cell_type": "code",
   "execution_count": 823,
   "metadata": {
    "collapsed": true
   },
   "outputs": [],
   "source": [
    "left = ddf.ddf_datapoint('ddf--gapminder--systema_globalis', name).set_index(['geo', 'time'])"
   ]
  },
  {
   "cell_type": "code",
   "execution_count": 835,
   "metadata": {
    "collapsed": true
   },
   "outputs": [],
   "source": [
    "right = ddf.ddf_datapoint(it[0], name_2)"
   ]
  },
  {
   "cell_type": "code",
   "execution_count": 836,
   "metadata": {
    "collapsed": false,
    "scrolled": true
   },
   "outputs": [],
   "source": [
    "right = right.query(\"area not in @a.index\")\n",
    "right.columns = ['geo', 'time', name]\n",
    "\n",
    "right.geo = right.geo.map(lambda x: geo_map[x])"
   ]
  },
  {
   "cell_type": "code",
   "execution_count": 837,
   "metadata": {
    "collapsed": false
   },
   "outputs": [],
   "source": [
    "right[['geo', name, 'time']].to_csv('../ddf--datapoints--'+name+'--by--geo--time.csv', float_format='%.2f', index=False)"
   ]
  },
  {
   "cell_type": "code",
   "execution_count": null,
   "metadata": {
    "collapsed": true
   },
   "outputs": [],
   "source": []
  }
 ],
 "metadata": {
  "kernelspec": {
   "display_name": "Python 3",
   "language": "python",
   "name": "python3"
  },
  "language_info": {
   "codemirror_mode": {
    "name": "ipython",
    "version": 3
   },
   "file_extension": ".py",
   "mimetype": "text/x-python",
   "name": "python",
   "nbconvert_exporter": "python",
   "pygments_lexer": "ipython3",
   "version": "3.5.2"
  }
 },
 "nbformat": 4,
 "nbformat_minor": 0
}
