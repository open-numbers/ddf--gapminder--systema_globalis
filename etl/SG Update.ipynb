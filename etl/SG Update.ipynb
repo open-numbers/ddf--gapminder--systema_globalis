{
 "cells": [
  {
   "cell_type": "code",
   "execution_count": 1,
   "metadata": {
    "collapsed": true
   },
   "outputs": [],
   "source": [
    "import pandas as pd\n",
    "import numpy as np\n",
    "import os\n",
    "import ddf_utils.ddf_reader as ddf"
   ]
  },
  {
   "cell_type": "code",
   "execution_count": 2,
   "metadata": {
    "collapsed": true
   },
   "outputs": [],
   "source": [
    "ddf.SEARCH_PATH = \"/Users/semio/src/work/Gapminder/\""
   ]
  },
  {
   "cell_type": "code",
   "execution_count": 3,
   "metadata": {
    "collapsed": true
   },
   "outputs": [],
   "source": [
    "l = pd.read_csv('./GW_indicators_list.csv')"
   ]
  },
  {
   "cell_type": "code",
   "execution_count": 4,
   "metadata": {
    "collapsed": false
   },
   "outputs": [
    {
     "data": {
      "text/plain": [
       "Index(['gw_ddf_id', 'Name', 'settings_link', 'Scale', 'ddf_unit',\n",
       "       'found_in_ddf', 'ddf_concept_id', 'Notes', 'updated_in_SG'],\n",
       "      dtype='object')"
      ]
     },
     "execution_count": 4,
     "metadata": {},
     "output_type": "execute_result"
    }
   ],
   "source": [
    "l.columns"
   ]
  },
  {
   "cell_type": "code",
   "execution_count": 8,
   "metadata": {
    "collapsed": false
   },
   "outputs": [],
   "source": [
    "l2 = l[['gw_ddf_id', 'found_in_ddf', 'ddf_concept_id', 'Notes']]"
   ]
  },
  {
   "cell_type": "code",
   "execution_count": 9,
   "metadata": {
    "collapsed": true
   },
   "outputs": [],
   "source": [
    "l2 = l2[~l2['found_in_ddf'].isnull()]"
   ]
  },
  {
   "cell_type": "code",
   "execution_count": 10,
   "metadata": {
    "collapsed": false,
    "scrolled": true
   },
   "outputs": [
    {
     "data": {
      "text/html": [
       "<div>\n",
       "<table border=\"1\" class=\"dataframe\">\n",
       "  <thead>\n",
       "    <tr style=\"text-align: right;\">\n",
       "      <th></th>\n",
       "      <th>gw_ddf_id</th>\n",
       "      <th>found_in_ddf</th>\n",
       "      <th>ddf_concept_id</th>\n",
       "      <th>Notes</th>\n",
       "    </tr>\n",
       "  </thead>\n",
       "  <tbody>\n",
       "    <tr>\n",
       "      <th>0</th>\n",
       "      <td>coal_consumption_total</td>\n",
       "      <td>ddf--bp--energy</td>\n",
       "      <td>coal_consumption_mtoe</td>\n",
       "      <td>multiply coal_consumption_mtoe by 100000</td>\n",
       "    </tr>\n",
       "    <tr>\n",
       "      <th>1</th>\n",
       "      <td>electricity_generation_total</td>\n",
       "      <td>ddf--bp--energy</td>\n",
       "      <td>electricity_generation</td>\n",
       "      <td>multiply by 1000000000</td>\n",
       "    </tr>\n",
       "    <tr>\n",
       "      <th>2</th>\n",
       "      <td>natural_gas_production_total</td>\n",
       "      <td>ddf--bp--energy</td>\n",
       "      <td>gas_production_tonnes</td>\n",
       "      <td>multiply by 1000000</td>\n",
       "    </tr>\n",
       "    <tr>\n",
       "      <th>3</th>\n",
       "      <td>natural_gas_proved_reserves_total</td>\n",
       "      <td>ddf--bp--energy</td>\n",
       "      <td>gas_proved_reserves_history</td>\n",
       "      <td>multiply by 900000000, source unit: cubic metr...</td>\n",
       "    </tr>\n",
       "    <tr>\n",
       "      <th>4</th>\n",
       "      <td>oil_consumption_total</td>\n",
       "      <td>ddf--bp--energy</td>\n",
       "      <td>oil_consumption_tonnes</td>\n",
       "      <td>multiply by 1000000</td>\n",
       "    </tr>\n",
       "    <tr>\n",
       "      <th>5</th>\n",
       "      <td>oil_production_total</td>\n",
       "      <td>ddf--bp--energy</td>\n",
       "      <td>oil_production_tonnes</td>\n",
       "      <td>multiply by 1000000</td>\n",
       "    </tr>\n",
       "    <tr>\n",
       "      <th>6</th>\n",
       "      <td>oil_proved_reserves_total</td>\n",
       "      <td>ddf--bp--energy</td>\n",
       "      <td>oil_proved_reserves_history</td>\n",
       "      <td>multiply by 136400000, source unit: barrels</td>\n",
       "    </tr>\n",
       "    <tr>\n",
       "      <th>7</th>\n",
       "      <td>co2_emissions_tonnes_per_person</td>\n",
       "      <td>ddf--cdiac-co2</td>\n",
       "      <td>per_capita_co2_emissions_metric_tons_of_carbon</td>\n",
       "      <td>Multiply by 3.667 to get the CO2 data</td>\n",
       "    </tr>\n",
       "    <tr>\n",
       "      <th>8</th>\n",
       "      <td>cumulative_co2_emissions_tonnes</td>\n",
       "      <td>ddf--cdiac-co2</td>\n",
       "      <td>total_co2_emissions_from_fossil_fuels_thousand...</td>\n",
       "      <td>the cumulative sum of yearly_co2_emissions_tonnes</td>\n",
       "    </tr>\n",
       "    <tr>\n",
       "      <th>9</th>\n",
       "      <td>yearly_co2_emissions_1000_tonnes</td>\n",
       "      <td>ddf--cdiac-co2</td>\n",
       "      <td>total_co2_emissions_from_fossil_fuels_thousand...</td>\n",
       "      <td>equals yearly_co2_emissions_tonnes / 1000</td>\n",
       "    </tr>\n",
       "    <tr>\n",
       "      <th>10</th>\n",
       "      <td>yearly_co2_emissions_tonnes</td>\n",
       "      <td>ddf--cdiac-co2</td>\n",
       "      <td>total_co2_emissions_from_fossil_fuels_thousand...</td>\n",
       "      <td>Multiply by 3.667 to get the CO2 data</td>\n",
       "    </tr>\n",
       "    <tr>\n",
       "      <th>11</th>\n",
       "      <td>newborn_deaths</td>\n",
       "      <td>ddf--cme</td>\n",
       "      <td>neonatal_deaths_median</td>\n",
       "      <td>NaN</td>\n",
       "    </tr>\n",
       "    <tr>\n",
       "      <th>12</th>\n",
       "      <td>newborn_mortality_rate_per_1000</td>\n",
       "      <td>ddf--cme</td>\n",
       "      <td>newborn_mortality_rate_per_1000</td>\n",
       "      <td>NaN</td>\n",
       "    </tr>\n",
       "    <tr>\n",
       "      <th>13</th>\n",
       "      <td>under_five_mortality_from_cme_per_1000_born</td>\n",
       "      <td>ddf--cme</td>\n",
       "      <td>under_five_mortality_from_cme_per_1000_born</td>\n",
       "      <td>NaN</td>\n",
       "    </tr>\n",
       "    <tr>\n",
       "      <th>14</th>\n",
       "      <td>drought_affected_annual_number</td>\n",
       "      <td>ddf--cred--em_dat</td>\n",
       "      <td>affected</td>\n",
       "      <td>filter disaster == 'drought'</td>\n",
       "    </tr>\n",
       "    <tr>\n",
       "      <th>15</th>\n",
       "      <td>earthquake_affected_annual_number</td>\n",
       "      <td>ddf--cred--em_dat</td>\n",
       "      <td>affected</td>\n",
       "      <td>filter disaster == 'earthquake'</td>\n",
       "    </tr>\n",
       "    <tr>\n",
       "      <th>16</th>\n",
       "      <td>epidemic_affected_annual_number</td>\n",
       "      <td>ddf--cred--em_dat</td>\n",
       "      <td>affected</td>\n",
       "      <td>filter disaster == 'epidemic'</td>\n",
       "    </tr>\n",
       "    <tr>\n",
       "      <th>17</th>\n",
       "      <td>extreme_temperature_affected_annual_number</td>\n",
       "      <td>ddf--cred--em_dat</td>\n",
       "      <td>affected</td>\n",
       "      <td>filter disaster == 'extreme_temperature'</td>\n",
       "    </tr>\n",
       "    <tr>\n",
       "      <th>18</th>\n",
       "      <td>flood_affected_annual_number</td>\n",
       "      <td>ddf--cred--em_dat</td>\n",
       "      <td>affected</td>\n",
       "      <td>filter disaster == 'flood'</td>\n",
       "    </tr>\n",
       "    <tr>\n",
       "      <th>19</th>\n",
       "      <td>storm_affected_annual_number</td>\n",
       "      <td>ddf--cred--em_dat</td>\n",
       "      <td>affected</td>\n",
       "      <td>filter disaster == 'storm'</td>\n",
       "    </tr>\n",
       "    <tr>\n",
       "      <th>20</th>\n",
       "      <td>drought_deaths_annual_number</td>\n",
       "      <td>ddf--cred--em_dat</td>\n",
       "      <td>total_deaths</td>\n",
       "      <td>filter disaster == 'drought'</td>\n",
       "    </tr>\n",
       "    <tr>\n",
       "      <th>21</th>\n",
       "      <td>earthquake_deaths_annual_number</td>\n",
       "      <td>ddf--cred--em_dat</td>\n",
       "      <td>total_deaths</td>\n",
       "      <td>filter disaster == 'earthquake'</td>\n",
       "    </tr>\n",
       "    <tr>\n",
       "      <th>22</th>\n",
       "      <td>epidemic_deaths_annual_number</td>\n",
       "      <td>ddf--cred--em_dat</td>\n",
       "      <td>total_deaths</td>\n",
       "      <td>filter disaster == 'epidemic'</td>\n",
       "    </tr>\n",
       "    <tr>\n",
       "      <th>23</th>\n",
       "      <td>extreme_temperature_deaths_annual_number</td>\n",
       "      <td>ddf--cred--em_dat</td>\n",
       "      <td>total_deaths</td>\n",
       "      <td>filter disaster == 'extreme_temperature'</td>\n",
       "    </tr>\n",
       "    <tr>\n",
       "      <th>24</th>\n",
       "      <td>flood_deaths_annual_number</td>\n",
       "      <td>ddf--cred--em_dat</td>\n",
       "      <td>total_deaths</td>\n",
       "      <td>filter disaster == 'flood'</td>\n",
       "    </tr>\n",
       "    <tr>\n",
       "      <th>25</th>\n",
       "      <td>storm_deaths_annual_number</td>\n",
       "      <td>ddf--cred--em_dat</td>\n",
       "      <td>total_deaths</td>\n",
       "      <td>filter disaster == 'storm'</td>\n",
       "    </tr>\n",
       "    <tr>\n",
       "      <th>26</th>\n",
       "      <td>agricultural_water_withdrawal_percent_of_total</td>\n",
       "      <td>ddf--fao--aquastat</td>\n",
       "      <td>agricultural_water_withdrawal_as_of_total_wate...</td>\n",
       "      <td>NaN</td>\n",
       "    </tr>\n",
       "    <tr>\n",
       "      <th>27</th>\n",
       "      <td>desalinated_water_produced_billion_cu_meters</td>\n",
       "      <td>ddf--fao--aquastat</td>\n",
       "      <td>desalinated_water_produced</td>\n",
       "      <td>NaN</td>\n",
       "    </tr>\n",
       "    <tr>\n",
       "      <th>28</th>\n",
       "      <td>industrial_water_withdrawal_percent_of_total</td>\n",
       "      <td>ddf--fao--aquastat</td>\n",
       "      <td>industrial_water_withdrawal_as_of_total_water_...</td>\n",
       "      <td>NaN</td>\n",
       "    </tr>\n",
       "    <tr>\n",
       "      <th>29</th>\n",
       "      <td>municipal_water_withdrawal_percent_of_total</td>\n",
       "      <td>ddf--fao--aquastat</td>\n",
       "      <td>municipal_water_withdrawal_as_of_total_withdrawal</td>\n",
       "      <td>NaN</td>\n",
       "    </tr>\n",
       "    <tr>\n",
       "      <th>...</th>\n",
       "      <td>...</td>\n",
       "      <td>...</td>\n",
       "      <td>...</td>\n",
       "      <td>...</td>\n",
       "    </tr>\n",
       "    <tr>\n",
       "      <th>301</th>\n",
       "      <td>net_barter_terms_of_trade_2000_100</td>\n",
       "      <td>ddf--world_bank--world_development_indicators</td>\n",
       "      <td>tt_pri_mrch_xd_wd</td>\n",
       "      <td>NaN</td>\n",
       "    </tr>\n",
       "    <tr>\n",
       "      <th>302</th>\n",
       "      <td>exports_unit_value_index_2000100</td>\n",
       "      <td>ddf--world_bank--world_development_indicators</td>\n",
       "      <td>tx_val_mrch_xd_wd</td>\n",
       "      <td>NaN</td>\n",
       "    </tr>\n",
       "    <tr>\n",
       "      <th>303</th>\n",
       "      <td>high_technology_exports_percent_of_manufacture...</td>\n",
       "      <td>ddf--world_bank--world_development_indicators</td>\n",
       "      <td>tx_val_tech_mf_zs</td>\n",
       "      <td>NaN</td>\n",
       "    </tr>\n",
       "    <tr>\n",
       "      <th>304</th>\n",
       "      <td>improved_water_source_overall_access_percent</td>\n",
       "      <td>ddf--world_bank--world_development_indicators</td>\n",
       "      <td>sh_h2o_safe_ur_zs</td>\n",
       "      <td>NaN</td>\n",
       "    </tr>\n",
       "    <tr>\n",
       "      <th>305</th>\n",
       "      <td>improved_water_source_rural_access_percent</td>\n",
       "      <td>ddf--world_bank--world_development_indicators</td>\n",
       "      <td>sh_h2o_safe_ru_zs</td>\n",
       "      <td>NaN</td>\n",
       "    </tr>\n",
       "    <tr>\n",
       "      <th>306</th>\n",
       "      <td>improved_water_source_urban_access_percent</td>\n",
       "      <td>ddf--world_bank--world_development_indicators</td>\n",
       "      <td>sh_h2o_safe_zs</td>\n",
       "      <td>NaN</td>\n",
       "    </tr>\n",
       "    <tr>\n",
       "      <th>307</th>\n",
       "      <td>armed_forces_personnel_percent_of_labor_force</td>\n",
       "      <td>ddf--world_bank--world_development_indicators</td>\n",
       "      <td>ms_mil_totl_tf_zs</td>\n",
       "      <td>NaN</td>\n",
       "    </tr>\n",
       "    <tr>\n",
       "      <th>308</th>\n",
       "      <td>armed_forces_personnel_total</td>\n",
       "      <td>ddf--world_bank--world_development_indicators</td>\n",
       "      <td>ms_mil_totl_p1</td>\n",
       "      <td>NaN</td>\n",
       "    </tr>\n",
       "    <tr>\n",
       "      <th>309</th>\n",
       "      <td>forest_area_sq_km</td>\n",
       "      <td>ddf--world_bank--world_development_indicators</td>\n",
       "      <td>ag_lnd_frst_k2</td>\n",
       "      <td>NaN</td>\n",
       "    </tr>\n",
       "    <tr>\n",
       "      <th>310</th>\n",
       "      <td>surface_area_sq_km</td>\n",
       "      <td>ddf--world_bank--world_development_indicators</td>\n",
       "      <td>ag_srf_totl_k2</td>\n",
       "      <td>NaN</td>\n",
       "    </tr>\n",
       "    <tr>\n",
       "      <th>311</th>\n",
       "      <td>co2_intensity_of_economic_output_kg_co2_per_20...</td>\n",
       "      <td>ddf--world_bank--world_development_indicators</td>\n",
       "      <td>en_atm_co2e_pp_gd_kd</td>\n",
       "      <td>NaN</td>\n",
       "    </tr>\n",
       "    <tr>\n",
       "      <th>312</th>\n",
       "      <td>cell_phones_per_100_people</td>\n",
       "      <td>ddf--world_bank--world_development_indicators</td>\n",
       "      <td>it_cel_sets_p2</td>\n",
       "      <td>NaN</td>\n",
       "    </tr>\n",
       "    <tr>\n",
       "      <th>313</th>\n",
       "      <td>broadband_subscribers_per_100_people</td>\n",
       "      <td>ddf--world_bank--world_development_indicators</td>\n",
       "      <td>it_net_bbnd_p2</td>\n",
       "      <td>NaN</td>\n",
       "    </tr>\n",
       "    <tr>\n",
       "      <th>314</th>\n",
       "      <td>internet_users_per_100_people</td>\n",
       "      <td>ddf--world_bank--world_development_indicators</td>\n",
       "      <td>it_net_user_p2</td>\n",
       "      <td>NaN</td>\n",
       "    </tr>\n",
       "    <tr>\n",
       "      <th>315</th>\n",
       "      <td>ratio_of_young_literate_females_to_males_perce...</td>\n",
       "      <td>ddf--world_bank--world_development_indicators</td>\n",
       "      <td>se_ant_1524_lt_fm_zs</td>\n",
       "      <td>NaN</td>\n",
       "    </tr>\n",
       "    <tr>\n",
       "      <th>316</th>\n",
       "      <td>poverty_percent_people_below_2_a_day</td>\n",
       "      <td>ddf--world_bank--world_development_indicators</td>\n",
       "      <td>si_pov_2day</td>\n",
       "      <td>NaN</td>\n",
       "    </tr>\n",
       "    <tr>\n",
       "      <th>317</th>\n",
       "      <td>alternative_poverty_percent_below_nationally_d...</td>\n",
       "      <td>ddf--world_bank--world_development_indicators</td>\n",
       "      <td>si_pov_nagp or si_pov_nahc</td>\n",
       "      <td>NaN</td>\n",
       "    </tr>\n",
       "    <tr>\n",
       "      <th>318</th>\n",
       "      <td>income_share_of_2nd_poorest_20percent</td>\n",
       "      <td>ddf--world_bank--world_development_indicators</td>\n",
       "      <td>si_dst_02nd_20</td>\n",
       "      <td>NaN</td>\n",
       "    </tr>\n",
       "    <tr>\n",
       "      <th>319</th>\n",
       "      <td>income_share_of_2nd_richest_20percent</td>\n",
       "      <td>ddf--world_bank--world_development_indicators</td>\n",
       "      <td>si_dst_03rd_20</td>\n",
       "      <td>NaN</td>\n",
       "    </tr>\n",
       "    <tr>\n",
       "      <th>320</th>\n",
       "      <td>income_share_of_middle_20percent</td>\n",
       "      <td>ddf--world_bank--world_development_indicators</td>\n",
       "      <td>si_dst_04th_20</td>\n",
       "      <td>NaN</td>\n",
       "    </tr>\n",
       "    <tr>\n",
       "      <th>321</th>\n",
       "      <td>income_share_of_poorest_10percent</td>\n",
       "      <td>ddf--world_bank--world_development_indicators</td>\n",
       "      <td>si_dst_10th_10</td>\n",
       "      <td>NaN</td>\n",
       "    </tr>\n",
       "    <tr>\n",
       "      <th>322</th>\n",
       "      <td>income_share_of_poorest_20percent</td>\n",
       "      <td>ddf--world_bank--world_development_indicators</td>\n",
       "      <td>si_dst_05th_20</td>\n",
       "      <td>NaN</td>\n",
       "    </tr>\n",
       "    <tr>\n",
       "      <th>323</th>\n",
       "      <td>income_share_of_richest_10percent</td>\n",
       "      <td>ddf--world_bank--world_development_indicators</td>\n",
       "      <td>si_dst_frst_10</td>\n",
       "      <td>NaN</td>\n",
       "    </tr>\n",
       "    <tr>\n",
       "      <th>324</th>\n",
       "      <td>income_share_of_richest_20percent</td>\n",
       "      <td>ddf--world_bank--world_development_indicators</td>\n",
       "      <td>si_dst_frst_20</td>\n",
       "      <td>NaN</td>\n",
       "    </tr>\n",
       "    <tr>\n",
       "      <th>325</th>\n",
       "      <td>rural_poverty_percent_rural_people_below_natio...</td>\n",
       "      <td>ddf--world_bank--world_development_indicators</td>\n",
       "      <td>si_pov_rugp</td>\n",
       "      <td>NaN</td>\n",
       "    </tr>\n",
       "    <tr>\n",
       "      <th>326</th>\n",
       "      <td>urban_poverty_percent_urban_people_below_natio...</td>\n",
       "      <td>ddf--world_bank--world_development_indicators</td>\n",
       "      <td>si_pov_urgp</td>\n",
       "      <td>NaN</td>\n",
       "    </tr>\n",
       "    <tr>\n",
       "      <th>327</th>\n",
       "      <td>fixed_line_and_mobile_phone_subscribers_per_10...</td>\n",
       "      <td>ddf--world_bank--world_development_indicators</td>\n",
       "      <td>it_mlt_main_p2 + it_cel_sets_p2</td>\n",
       "      <td>NaN</td>\n",
       "    </tr>\n",
       "    <tr>\n",
       "      <th>328</th>\n",
       "      <td>pump_price_for_gasoline_us_per_liter</td>\n",
       "      <td>ddf--world_bank--world_development_indicators</td>\n",
       "      <td>ep_pmp_sgas_cd</td>\n",
       "      <td>NaN</td>\n",
       "    </tr>\n",
       "    <tr>\n",
       "      <th>329</th>\n",
       "      <td>energy_use_total</td>\n",
       "      <td>ddf--world_bank--world_development_indicators</td>\n",
       "      <td>eg_use_comm_gd_pd_kd</td>\n",
       "      <td>NaN</td>\n",
       "    </tr>\n",
       "    <tr>\n",
       "      <th>330</th>\n",
       "      <td>internet_users_total_number</td>\n",
       "      <td>ddf--world_bank--world_development_indicators</td>\n",
       "      <td>it_net_user_p2</td>\n",
       "      <td>NaN</td>\n",
       "    </tr>\n",
       "  </tbody>\n",
       "</table>\n",
       "<p>331 rows × 4 columns</p>\n",
       "</div>"
      ],
      "text/plain": [
       "                                             gw_ddf_id  \\\n",
       "0                               coal_consumption_total   \n",
       "1                         electricity_generation_total   \n",
       "2                         natural_gas_production_total   \n",
       "3                    natural_gas_proved_reserves_total   \n",
       "4                                oil_consumption_total   \n",
       "5                                 oil_production_total   \n",
       "6                            oil_proved_reserves_total   \n",
       "7                      co2_emissions_tonnes_per_person   \n",
       "8                      cumulative_co2_emissions_tonnes   \n",
       "9                     yearly_co2_emissions_1000_tonnes   \n",
       "10                         yearly_co2_emissions_tonnes   \n",
       "11                                      newborn_deaths   \n",
       "12                     newborn_mortality_rate_per_1000   \n",
       "13         under_five_mortality_from_cme_per_1000_born   \n",
       "14                      drought_affected_annual_number   \n",
       "15                   earthquake_affected_annual_number   \n",
       "16                     epidemic_affected_annual_number   \n",
       "17          extreme_temperature_affected_annual_number   \n",
       "18                        flood_affected_annual_number   \n",
       "19                        storm_affected_annual_number   \n",
       "20                        drought_deaths_annual_number   \n",
       "21                     earthquake_deaths_annual_number   \n",
       "22                       epidemic_deaths_annual_number   \n",
       "23            extreme_temperature_deaths_annual_number   \n",
       "24                          flood_deaths_annual_number   \n",
       "25                          storm_deaths_annual_number   \n",
       "26      agricultural_water_withdrawal_percent_of_total   \n",
       "27        desalinated_water_produced_billion_cu_meters   \n",
       "28        industrial_water_withdrawal_percent_of_total   \n",
       "29         municipal_water_withdrawal_percent_of_total   \n",
       "..                                                 ...   \n",
       "301                 net_barter_terms_of_trade_2000_100   \n",
       "302                   exports_unit_value_index_2000100   \n",
       "303  high_technology_exports_percent_of_manufacture...   \n",
       "304       improved_water_source_overall_access_percent   \n",
       "305         improved_water_source_rural_access_percent   \n",
       "306         improved_water_source_urban_access_percent   \n",
       "307      armed_forces_personnel_percent_of_labor_force   \n",
       "308                       armed_forces_personnel_total   \n",
       "309                                  forest_area_sq_km   \n",
       "310                                 surface_area_sq_km   \n",
       "311  co2_intensity_of_economic_output_kg_co2_per_20...   \n",
       "312                         cell_phones_per_100_people   \n",
       "313               broadband_subscribers_per_100_people   \n",
       "314                      internet_users_per_100_people   \n",
       "315  ratio_of_young_literate_females_to_males_perce...   \n",
       "316               poverty_percent_people_below_2_a_day   \n",
       "317  alternative_poverty_percent_below_nationally_d...   \n",
       "318              income_share_of_2nd_poorest_20percent   \n",
       "319              income_share_of_2nd_richest_20percent   \n",
       "320                   income_share_of_middle_20percent   \n",
       "321                  income_share_of_poorest_10percent   \n",
       "322                  income_share_of_poorest_20percent   \n",
       "323                  income_share_of_richest_10percent   \n",
       "324                  income_share_of_richest_20percent   \n",
       "325  rural_poverty_percent_rural_people_below_natio...   \n",
       "326  urban_poverty_percent_urban_people_below_natio...   \n",
       "327  fixed_line_and_mobile_phone_subscribers_per_10...   \n",
       "328               pump_price_for_gasoline_us_per_liter   \n",
       "329                                   energy_use_total   \n",
       "330                        internet_users_total_number   \n",
       "\n",
       "                                      found_in_ddf  \\\n",
       "0                                  ddf--bp--energy   \n",
       "1                                  ddf--bp--energy   \n",
       "2                                  ddf--bp--energy   \n",
       "3                                  ddf--bp--energy   \n",
       "4                                  ddf--bp--energy   \n",
       "5                                  ddf--bp--energy   \n",
       "6                                  ddf--bp--energy   \n",
       "7                                   ddf--cdiac-co2   \n",
       "8                                   ddf--cdiac-co2   \n",
       "9                                   ddf--cdiac-co2   \n",
       "10                                  ddf--cdiac-co2   \n",
       "11                                        ddf--cme   \n",
       "12                                        ddf--cme   \n",
       "13                                        ddf--cme   \n",
       "14                               ddf--cred--em_dat   \n",
       "15                               ddf--cred--em_dat   \n",
       "16                               ddf--cred--em_dat   \n",
       "17                               ddf--cred--em_dat   \n",
       "18                               ddf--cred--em_dat   \n",
       "19                               ddf--cred--em_dat   \n",
       "20                               ddf--cred--em_dat   \n",
       "21                               ddf--cred--em_dat   \n",
       "22                               ddf--cred--em_dat   \n",
       "23                               ddf--cred--em_dat   \n",
       "24                               ddf--cred--em_dat   \n",
       "25                               ddf--cred--em_dat   \n",
       "26                              ddf--fao--aquastat   \n",
       "27                              ddf--fao--aquastat   \n",
       "28                              ddf--fao--aquastat   \n",
       "29                              ddf--fao--aquastat   \n",
       "..                                             ...   \n",
       "301  ddf--world_bank--world_development_indicators   \n",
       "302  ddf--world_bank--world_development_indicators   \n",
       "303  ddf--world_bank--world_development_indicators   \n",
       "304  ddf--world_bank--world_development_indicators   \n",
       "305  ddf--world_bank--world_development_indicators   \n",
       "306  ddf--world_bank--world_development_indicators   \n",
       "307  ddf--world_bank--world_development_indicators   \n",
       "308  ddf--world_bank--world_development_indicators   \n",
       "309  ddf--world_bank--world_development_indicators   \n",
       "310  ddf--world_bank--world_development_indicators   \n",
       "311  ddf--world_bank--world_development_indicators   \n",
       "312  ddf--world_bank--world_development_indicators   \n",
       "313  ddf--world_bank--world_development_indicators   \n",
       "314  ddf--world_bank--world_development_indicators   \n",
       "315  ddf--world_bank--world_development_indicators   \n",
       "316  ddf--world_bank--world_development_indicators   \n",
       "317  ddf--world_bank--world_development_indicators   \n",
       "318  ddf--world_bank--world_development_indicators   \n",
       "319  ddf--world_bank--world_development_indicators   \n",
       "320  ddf--world_bank--world_development_indicators   \n",
       "321  ddf--world_bank--world_development_indicators   \n",
       "322  ddf--world_bank--world_development_indicators   \n",
       "323  ddf--world_bank--world_development_indicators   \n",
       "324  ddf--world_bank--world_development_indicators   \n",
       "325  ddf--world_bank--world_development_indicators   \n",
       "326  ddf--world_bank--world_development_indicators   \n",
       "327  ddf--world_bank--world_development_indicators   \n",
       "328  ddf--world_bank--world_development_indicators   \n",
       "329  ddf--world_bank--world_development_indicators   \n",
       "330  ddf--world_bank--world_development_indicators   \n",
       "\n",
       "                                        ddf_concept_id  \\\n",
       "0                                coal_consumption_mtoe   \n",
       "1                               electricity_generation   \n",
       "2                                gas_production_tonnes   \n",
       "3                          gas_proved_reserves_history   \n",
       "4                               oil_consumption_tonnes   \n",
       "5                                oil_production_tonnes   \n",
       "6                          oil_proved_reserves_history   \n",
       "7       per_capita_co2_emissions_metric_tons_of_carbon   \n",
       "8    total_co2_emissions_from_fossil_fuels_thousand...   \n",
       "9    total_co2_emissions_from_fossil_fuels_thousand...   \n",
       "10   total_co2_emissions_from_fossil_fuels_thousand...   \n",
       "11                              neonatal_deaths_median   \n",
       "12                     newborn_mortality_rate_per_1000   \n",
       "13         under_five_mortality_from_cme_per_1000_born   \n",
       "14                                            affected   \n",
       "15                                            affected   \n",
       "16                                            affected   \n",
       "17                                            affected   \n",
       "18                                            affected   \n",
       "19                                            affected   \n",
       "20                                        total_deaths   \n",
       "21                                        total_deaths   \n",
       "22                                        total_deaths   \n",
       "23                                        total_deaths   \n",
       "24                                        total_deaths   \n",
       "25                                        total_deaths   \n",
       "26   agricultural_water_withdrawal_as_of_total_wate...   \n",
       "27                          desalinated_water_produced   \n",
       "28   industrial_water_withdrawal_as_of_total_water_...   \n",
       "29   municipal_water_withdrawal_as_of_total_withdrawal   \n",
       "..                                                 ...   \n",
       "301                                  tt_pri_mrch_xd_wd   \n",
       "302                                  tx_val_mrch_xd_wd   \n",
       "303                                  tx_val_tech_mf_zs   \n",
       "304                                  sh_h2o_safe_ur_zs   \n",
       "305                                  sh_h2o_safe_ru_zs   \n",
       "306                                     sh_h2o_safe_zs   \n",
       "307                                  ms_mil_totl_tf_zs   \n",
       "308                                     ms_mil_totl_p1   \n",
       "309                                     ag_lnd_frst_k2   \n",
       "310                                     ag_srf_totl_k2   \n",
       "311                               en_atm_co2e_pp_gd_kd   \n",
       "312                                     it_cel_sets_p2   \n",
       "313                                     it_net_bbnd_p2   \n",
       "314                                     it_net_user_p2   \n",
       "315                               se_ant_1524_lt_fm_zs   \n",
       "316                                        si_pov_2day   \n",
       "317                         si_pov_nagp or si_pov_nahc   \n",
       "318                                     si_dst_02nd_20   \n",
       "319                                     si_dst_03rd_20   \n",
       "320                                     si_dst_04th_20   \n",
       "321                                     si_dst_10th_10   \n",
       "322                                     si_dst_05th_20   \n",
       "323                                     si_dst_frst_10   \n",
       "324                                     si_dst_frst_20   \n",
       "325                                        si_pov_rugp   \n",
       "326                                        si_pov_urgp   \n",
       "327                    it_mlt_main_p2 + it_cel_sets_p2   \n",
       "328                                     ep_pmp_sgas_cd   \n",
       "329                               eg_use_comm_gd_pd_kd   \n",
       "330                                     it_net_user_p2   \n",
       "\n",
       "                                                 Notes  \n",
       "0             multiply coal_consumption_mtoe by 100000  \n",
       "1                               multiply by 1000000000  \n",
       "2                                  multiply by 1000000  \n",
       "3    multiply by 900000000, source unit: cubic metr...  \n",
       "4                                  multiply by 1000000  \n",
       "5                                  multiply by 1000000  \n",
       "6          multiply by 136400000, source unit: barrels  \n",
       "7               Multiply by 3.667 to get the CO2 data   \n",
       "8    the cumulative sum of yearly_co2_emissions_tonnes  \n",
       "9            equals yearly_co2_emissions_tonnes / 1000  \n",
       "10              Multiply by 3.667 to get the CO2 data   \n",
       "11                                                 NaN  \n",
       "12                                                 NaN  \n",
       "13                                                 NaN  \n",
       "14                        filter disaster == 'drought'  \n",
       "15                     filter disaster == 'earthquake'  \n",
       "16                       filter disaster == 'epidemic'  \n",
       "17            filter disaster == 'extreme_temperature'  \n",
       "18                          filter disaster == 'flood'  \n",
       "19                          filter disaster == 'storm'  \n",
       "20                        filter disaster == 'drought'  \n",
       "21                     filter disaster == 'earthquake'  \n",
       "22                       filter disaster == 'epidemic'  \n",
       "23            filter disaster == 'extreme_temperature'  \n",
       "24                          filter disaster == 'flood'  \n",
       "25                          filter disaster == 'storm'  \n",
       "26                                                 NaN  \n",
       "27                                                 NaN  \n",
       "28                                                 NaN  \n",
       "29                                                 NaN  \n",
       "..                                                 ...  \n",
       "301                                                NaN  \n",
       "302                                                NaN  \n",
       "303                                                NaN  \n",
       "304                                                NaN  \n",
       "305                                                NaN  \n",
       "306                                                NaN  \n",
       "307                                                NaN  \n",
       "308                                                NaN  \n",
       "309                                                NaN  \n",
       "310                                                NaN  \n",
       "311                                                NaN  \n",
       "312                                                NaN  \n",
       "313                                                NaN  \n",
       "314                                                NaN  \n",
       "315                                                NaN  \n",
       "316                                                NaN  \n",
       "317                                                NaN  \n",
       "318                                                NaN  \n",
       "319                                                NaN  \n",
       "320                                                NaN  \n",
       "321                                                NaN  \n",
       "322                                                NaN  \n",
       "323                                                NaN  \n",
       "324                                                NaN  \n",
       "325                                                NaN  \n",
       "326                                                NaN  \n",
       "327                                                NaN  \n",
       "328                                                NaN  \n",
       "329                                                NaN  \n",
       "330                                                NaN  \n",
       "\n",
       "[331 rows x 4 columns]"
      ]
     },
     "execution_count": 10,
     "metadata": {},
     "output_type": "execute_result"
    }
   ],
   "source": [
    "l2"
   ]
  },
  {
   "cell_type": "code",
   "execution_count": 26,
   "metadata": {
    "collapsed": false
   },
   "outputs": [],
   "source": [
    "d = iter(l2.groupby('found_in_ddf').groups.items())"
   ]
  },
  {
   "cell_type": "code",
   "execution_count": 27,
   "metadata": {
    "collapsed": false
   },
   "outputs": [],
   "source": [
    "it = next(d)"
   ]
  },
  {
   "cell_type": "code",
   "execution_count": 28,
   "metadata": {
    "collapsed": false
   },
   "outputs": [
    {
     "data": {
      "text/plain": [
       "('ddf--ilo--kilm_lf', [90, 91, 92, 93, 94, 95, 96, 97, 98, 99, 100, 101])"
      ]
     },
     "execution_count": 28,
     "metadata": {},
     "output_type": "execute_result"
    }
   ],
   "source": [
    "it"
   ]
  },
  {
   "cell_type": "code",
   "execution_count": 29,
   "metadata": {
    "collapsed": false
   },
   "outputs": [
    {
     "data": {
      "text/html": [
       "<div>\n",
       "<table border=\"1\" class=\"dataframe\">\n",
       "  <thead>\n",
       "    <tr style=\"text-align: right;\">\n",
       "      <th></th>\n",
       "      <th>gw_ddf_id</th>\n",
       "      <th>found_in_ddf</th>\n",
       "      <th>ddf_concept_id</th>\n",
       "      <th>Notes</th>\n",
       "    </tr>\n",
       "  </thead>\n",
       "  <tbody>\n",
       "    <tr>\n",
       "      <th>90</th>\n",
       "      <td>aged_15_64_labour_force_participation_rate_per...</td>\n",
       "      <td>ddf--ilo--kilm_lf</td>\n",
       "      <td>labour_force_participation_rate_percentage</td>\n",
       "      <td>data different?</td>\n",
       "    </tr>\n",
       "    <tr>\n",
       "      <th>91</th>\n",
       "      <td>aged_15plus_labour_force_participation_rate_pe...</td>\n",
       "      <td>ddf--ilo--kilm_lf</td>\n",
       "      <td>labour_force_participation_rate_percentage</td>\n",
       "      <td>data different?</td>\n",
       "    </tr>\n",
       "    <tr>\n",
       "      <th>92</th>\n",
       "      <td>aged_25_54_labour_force_participation_rate_per...</td>\n",
       "      <td>ddf--ilo--kilm_lf</td>\n",
       "      <td>labour_force_participation_rate_percentage</td>\n",
       "      <td>data different?</td>\n",
       "    </tr>\n",
       "    <tr>\n",
       "      <th>93</th>\n",
       "      <td>aged_65plus_labour_force_participation_rate_pe...</td>\n",
       "      <td>ddf--ilo--kilm_lf</td>\n",
       "      <td>labour_force_participation_rate_percentage</td>\n",
       "      <td>data different?</td>\n",
       "    </tr>\n",
       "    <tr>\n",
       "      <th>94</th>\n",
       "      <td>males_aged_15_64_labour_force_participation_ra...</td>\n",
       "      <td>ddf--ilo--kilm_lf</td>\n",
       "      <td>labour_force_participation_rate_percentage</td>\n",
       "      <td>data different?</td>\n",
       "    </tr>\n",
       "    <tr>\n",
       "      <th>95</th>\n",
       "      <td>males_aged_15plus_labour_force_participation_r...</td>\n",
       "      <td>ddf--ilo--kilm_lf</td>\n",
       "      <td>labour_force_participation_rate_percentage</td>\n",
       "      <td>data different?</td>\n",
       "    </tr>\n",
       "    <tr>\n",
       "      <th>96</th>\n",
       "      <td>males_aged_25_54_labour_force_participation_ra...</td>\n",
       "      <td>ddf--ilo--kilm_lf</td>\n",
       "      <td>labour_force_participation_rate_percentage</td>\n",
       "      <td>data different?</td>\n",
       "    </tr>\n",
       "    <tr>\n",
       "      <th>97</th>\n",
       "      <td>males_aged_65plus_labour_force_participation_r...</td>\n",
       "      <td>ddf--ilo--kilm_lf</td>\n",
       "      <td>labour_force_participation_rate_percentage</td>\n",
       "      <td>data different?</td>\n",
       "    </tr>\n",
       "    <tr>\n",
       "      <th>98</th>\n",
       "      <td>females_aged_15_64_labour_force_participation_...</td>\n",
       "      <td>ddf--ilo--kilm_lf</td>\n",
       "      <td>labour_force_participation_rate_percentage</td>\n",
       "      <td>data different?</td>\n",
       "    </tr>\n",
       "    <tr>\n",
       "      <th>99</th>\n",
       "      <td>females_aged_15plus_labour_force_participation...</td>\n",
       "      <td>ddf--ilo--kilm_lf</td>\n",
       "      <td>labour_force_participation_rate_percentage</td>\n",
       "      <td>data different?</td>\n",
       "    </tr>\n",
       "    <tr>\n",
       "      <th>100</th>\n",
       "      <td>females_aged_25_54_labour_force_participation_...</td>\n",
       "      <td>ddf--ilo--kilm_lf</td>\n",
       "      <td>labour_force_participation_rate_percentage</td>\n",
       "      <td>data different?</td>\n",
       "    </tr>\n",
       "    <tr>\n",
       "      <th>101</th>\n",
       "      <td>females_aged_65plus_labour_force_participation...</td>\n",
       "      <td>ddf--ilo--kilm_lf</td>\n",
       "      <td>labour_force_participation_rate_percentage</td>\n",
       "      <td>data different?</td>\n",
       "    </tr>\n",
       "  </tbody>\n",
       "</table>\n",
       "</div>"
      ],
      "text/plain": [
       "                                             gw_ddf_id       found_in_ddf  \\\n",
       "90   aged_15_64_labour_force_participation_rate_per...  ddf--ilo--kilm_lf   \n",
       "91   aged_15plus_labour_force_participation_rate_pe...  ddf--ilo--kilm_lf   \n",
       "92   aged_25_54_labour_force_participation_rate_per...  ddf--ilo--kilm_lf   \n",
       "93   aged_65plus_labour_force_participation_rate_pe...  ddf--ilo--kilm_lf   \n",
       "94   males_aged_15_64_labour_force_participation_ra...  ddf--ilo--kilm_lf   \n",
       "95   males_aged_15plus_labour_force_participation_r...  ddf--ilo--kilm_lf   \n",
       "96   males_aged_25_54_labour_force_participation_ra...  ddf--ilo--kilm_lf   \n",
       "97   males_aged_65plus_labour_force_participation_r...  ddf--ilo--kilm_lf   \n",
       "98   females_aged_15_64_labour_force_participation_...  ddf--ilo--kilm_lf   \n",
       "99   females_aged_15plus_labour_force_participation...  ddf--ilo--kilm_lf   \n",
       "100  females_aged_25_54_labour_force_participation_...  ddf--ilo--kilm_lf   \n",
       "101  females_aged_65plus_labour_force_participation...  ddf--ilo--kilm_lf   \n",
       "\n",
       "                                 ddf_concept_id            Notes  \n",
       "90   labour_force_participation_rate_percentage  data different?  \n",
       "91   labour_force_participation_rate_percentage  data different?  \n",
       "92   labour_force_participation_rate_percentage  data different?  \n",
       "93   labour_force_participation_rate_percentage  data different?  \n",
       "94   labour_force_participation_rate_percentage  data different?  \n",
       "95   labour_force_participation_rate_percentage  data different?  \n",
       "96   labour_force_participation_rate_percentage  data different?  \n",
       "97   labour_force_participation_rate_percentage  data different?  \n",
       "98   labour_force_participation_rate_percentage  data different?  \n",
       "99   labour_force_participation_rate_percentage  data different?  \n",
       "100  labour_force_participation_rate_percentage  data different?  \n",
       "101  labour_force_participation_rate_percentage  data different?  "
      ]
     },
     "execution_count": 29,
     "metadata": {},
     "output_type": "execute_result"
    }
   ],
   "source": [
    "l2.ix[it[1]]"
   ]
  },
  {
   "cell_type": "code",
   "execution_count": 31,
   "metadata": {
    "collapsed": false
   },
   "outputs": [
    {
     "data": {
      "text/plain": [
       "array(['aged_15_64_labour_force_participation_rate_percent',\n",
       "       'aged_15plus_labour_force_participation_rate_percent',\n",
       "       'aged_25_54_labour_force_participation_rate_percent',\n",
       "       'aged_65plus_labour_force_participation_rate_percent',\n",
       "       'males_aged_15_64_labour_force_participation_rate_percent',\n",
       "       'males_aged_15plus_labour_force_participation_rate_percent',\n",
       "       'males_aged_25_54_labour_force_participation_rate_percent',\n",
       "       'males_aged_65plus_labour_force_participation_rate_percent',\n",
       "       'females_aged_15_64_labour_force_participation_rate_percent',\n",
       "       'females_aged_15plus_labour_force_participation_rate_percent',\n",
       "       'females_aged_25_54_labour_force_participation_rate_percent',\n",
       "       'females_aged_65plus_labour_force_participation_rate_percent'], dtype=object)"
      ]
     },
     "execution_count": 31,
     "metadata": {},
     "output_type": "execute_result"
    }
   ],
   "source": [
    "l2.ix[it[1]].gw_ddf_id.values"
   ]
  },
  {
   "cell_type": "code",
   "execution_count": 33,
   "metadata": {
    "collapsed": false
   },
   "outputs": [
    {
     "data": {
      "text/plain": [
       "['country', 'sex', 'age_group', 'year']"
      ]
     },
     "execution_count": 33,
     "metadata": {},
     "output_type": "execute_result"
    }
   ],
   "source": [
    "ddf.ddf_index_cols(it[0], 'labour_force_participation_rate_percentage')"
   ]
  },
  {
   "cell_type": "code",
   "execution_count": 102,
   "metadata": {
    "collapsed": false,
    "scrolled": true
   },
   "outputs": [],
   "source": [
    "left = ddf.ddf_datapoint('ddf--gapminder--systema_globalis', 'aged_15_64_labour_force_participation_rate_percent').set_index(\n",
    "['geo', 'time']\n",
    ")"
   ]
  },
  {
   "cell_type": "code",
   "execution_count": 55,
   "metadata": {
    "collapsed": false
   },
   "outputs": [
    {
     "data": {
      "text/html": [
       "<div>\n",
       "<table border=\"1\" class=\"dataframe\">\n",
       "  <thead>\n",
       "    <tr style=\"text-align: right;\">\n",
       "      <th></th>\n",
       "      <th></th>\n",
       "      <th>aged_15_64_labour_force_participation_rate_percent</th>\n",
       "    </tr>\n",
       "    <tr>\n",
       "      <th>geo</th>\n",
       "      <th>time</th>\n",
       "      <th></th>\n",
       "    </tr>\n",
       "  </thead>\n",
       "  <tbody>\n",
       "    <tr>\n",
       "      <th rowspan=\"5\" valign=\"top\">zwe</th>\n",
       "      <th>2003</th>\n",
       "      <td>71.8</td>\n",
       "    </tr>\n",
       "    <tr>\n",
       "      <th>2004</th>\n",
       "      <td>71.5</td>\n",
       "    </tr>\n",
       "    <tr>\n",
       "      <th>2005</th>\n",
       "      <td>71.3</td>\n",
       "    </tr>\n",
       "    <tr>\n",
       "      <th>2006</th>\n",
       "      <td>71.1</td>\n",
       "    </tr>\n",
       "    <tr>\n",
       "      <th>2007</th>\n",
       "      <td>71.1</td>\n",
       "    </tr>\n",
       "  </tbody>\n",
       "</table>\n",
       "</div>"
      ],
      "text/plain": [
       "          aged_15_64_labour_force_participation_rate_percent\n",
       "geo time                                                    \n",
       "zwe 2003                                               71.8 \n",
       "    2004                                               71.5 \n",
       "    2005                                               71.3 \n",
       "    2006                                               71.1 \n",
       "    2007                                               71.1 "
      ]
     },
     "execution_count": 55,
     "metadata": {},
     "output_type": "execute_result"
    }
   ],
   "source": [
    "left.tail()"
   ]
  },
  {
   "cell_type": "code",
   "execution_count": 103,
   "metadata": {
    "collapsed": false
   },
   "outputs": [],
   "source": [
    "right = ddf.ddf_datapoint(it[0], 'labour_force_participation_rate_percentage')"
   ]
  },
  {
   "cell_type": "code",
   "execution_count": 104,
   "metadata": {
    "collapsed": false
   },
   "outputs": [],
   "source": [
    "right = right.query(\"age_group in ['15_64'] & sex == 'mf'\")[['country', 'year', 'labour_force_participation_rate_percentage']]"
   ]
  },
  {
   "cell_type": "code",
   "execution_count": 105,
   "metadata": {
    "collapsed": true
   },
   "outputs": [],
   "source": [
    "right.columns = ['geo', 'time', 'aged_15_64_labour_force_participation_rate_percent']"
   ]
  },
  {
   "cell_type": "code",
   "execution_count": 106,
   "metadata": {
    "collapsed": false
   },
   "outputs": [
    {
     "data": {
      "text/html": [
       "<div>\n",
       "<table border=\"1\" class=\"dataframe\">\n",
       "  <thead>\n",
       "    <tr style=\"text-align: right;\">\n",
       "      <th></th>\n",
       "      <th>geo</th>\n",
       "      <th>time</th>\n",
       "      <th>aged_15_64_labour_force_participation_rate_percent</th>\n",
       "    </tr>\n",
       "  </thead>\n",
       "  <tbody>\n",
       "    <tr>\n",
       "      <th>138842</th>\n",
       "      <td>zwe</td>\n",
       "      <td>2015</td>\n",
       "      <td>83.271271</td>\n",
       "    </tr>\n",
       "    <tr>\n",
       "      <th>138866</th>\n",
       "      <td>zwe</td>\n",
       "      <td>2016</td>\n",
       "      <td>83.405693</td>\n",
       "    </tr>\n",
       "    <tr>\n",
       "      <th>138890</th>\n",
       "      <td>zwe</td>\n",
       "      <td>2017</td>\n",
       "      <td>83.522949</td>\n",
       "    </tr>\n",
       "    <tr>\n",
       "      <th>138914</th>\n",
       "      <td>zwe</td>\n",
       "      <td>2018</td>\n",
       "      <td>83.620003</td>\n",
       "    </tr>\n",
       "    <tr>\n",
       "      <th>138938</th>\n",
       "      <td>zwe</td>\n",
       "      <td>2019</td>\n",
       "      <td>83.692436</td>\n",
       "    </tr>\n",
       "  </tbody>\n",
       "</table>\n",
       "</div>"
      ],
      "text/plain": [
       "        geo  time  aged_15_64_labour_force_participation_rate_percent\n",
       "138842  zwe  2015                                          83.271271 \n",
       "138866  zwe  2016                                          83.405693 \n",
       "138890  zwe  2017                                          83.522949 \n",
       "138914  zwe  2018                                          83.620003 \n",
       "138938  zwe  2019                                          83.692436 "
      ]
     },
     "execution_count": 106,
     "metadata": {},
     "output_type": "execute_result"
    }
   ],
   "source": [
    "right.tail()"
   ]
  },
  {
   "cell_type": "code",
   "execution_count": 107,
   "metadata": {
    "collapsed": false
   },
   "outputs": [],
   "source": [
    "right = right.set_index(['geo', 'time'])"
   ]
  },
  {
   "cell_type": "code",
   "execution_count": 108,
   "metadata": {
    "collapsed": false
   },
   "outputs": [],
   "source": [
    "final = pd.merge(left, right, how='outer', left_index=True, right_index=True, on='aged_15_64_labour_force_participation_rate_percent')\n",
    "\n",
    "final = final.sort_index()"
   ]
  },
  {
   "cell_type": "code",
   "execution_count": 109,
   "metadata": {
    "collapsed": false
   },
   "outputs": [],
   "source": [
    "final = final.reset_index()\n",
    "final[['geo','aged_15_64_labour_force_participation_rate_percent',  'time']]\\\n",
    ".to_csv('../ddf--datapoints--aged_15_64_labour_force_participation_rate_percent--by--geo--time.csv', float_format='%.2f', index=False)"
   ]
  },
  {
   "cell_type": "code",
   "execution_count": 117,
   "metadata": {
    "collapsed": false
   },
   "outputs": [
    {
     "data": {
      "text/plain": [
       "array(['15_plus', '15_24', '15_64', '25_54', '25_34', '35_54', '55_64',\n",
       "       '65_plus'], dtype=object)"
      ]
     },
     "execution_count": 117,
     "metadata": {},
     "output_type": "execute_result"
    }
   ],
   "source": [
    "ddf.ddf_datapoint(it[0], 'labour_force_participation_rate_percentage').age_group.unique()"
   ]
  },
  {
   "cell_type": "code",
   "execution_count": 125,
   "metadata": {
    "collapsed": true
   },
   "outputs": [],
   "source": [
    "i = 0"
   ]
  },
  {
   "cell_type": "code",
   "execution_count": 151,
   "metadata": {
    "collapsed": false
   },
   "outputs": [
    {
     "name": "stdout",
     "output_type": "stream",
     "text": [
      "males_aged_25_54_labour_force_participation_rate_percent\n"
     ]
    }
   ],
   "source": [
    "i = i + 1\n",
    "name = l2.ix[it[1]].gw_ddf_id.values[i]\n",
    "\n",
    "print(name)"
   ]
  },
  {
   "cell_type": "code",
   "execution_count": 152,
   "metadata": {
    "collapsed": true
   },
   "outputs": [],
   "source": [
    "left = ddf.ddf_datapoint('ddf--gapminder--systema_globalis', name).set_index(['geo', 'time'])"
   ]
  },
  {
   "cell_type": "code",
   "execution_count": 153,
   "metadata": {
    "collapsed": false,
    "scrolled": true
   },
   "outputs": [],
   "source": [
    "right = ddf.ddf_datapoint(it[0], 'labour_force_participation_rate_percentage')\n",
    "right = right.query(\"age_group in ['25_54'] & sex == 'm'\")[['country', 'year', 'labour_force_participation_rate_percentage']]\n",
    "right.columns = ['geo', 'time', name]\n",
    "right = right.set_index(['geo', 'time'])\n",
    "\n",
    "final = pd.merge(left, right, how='outer', left_index=True, right_index=True, on=name)\n",
    "\n",
    "final = final.sort_index()"
   ]
  },
  {
   "cell_type": "code",
   "execution_count": null,
   "metadata": {
    "collapsed": true
   },
   "outputs": [],
   "source": []
  },
  {
   "cell_type": "code",
   "execution_count": 154,
   "metadata": {
    "collapsed": false
   },
   "outputs": [
    {
     "data": {
      "text/html": [
       "<div>\n",
       "<table border=\"1\" class=\"dataframe\">\n",
       "  <thead>\n",
       "    <tr style=\"text-align: right;\">\n",
       "      <th></th>\n",
       "      <th></th>\n",
       "      <th>males_aged_25_54_labour_force_participation_rate_percent</th>\n",
       "    </tr>\n",
       "    <tr>\n",
       "      <th>geo</th>\n",
       "      <th>time</th>\n",
       "      <th></th>\n",
       "    </tr>\n",
       "  </thead>\n",
       "  <tbody>\n",
       "    <tr>\n",
       "      <th rowspan=\"5\" valign=\"top\">afg</th>\n",
       "      <th>1980</th>\n",
       "      <td>97.3</td>\n",
       "    </tr>\n",
       "    <tr>\n",
       "      <th>1981</th>\n",
       "      <td>97.4</td>\n",
       "    </tr>\n",
       "    <tr>\n",
       "      <th>1982</th>\n",
       "      <td>97.4</td>\n",
       "    </tr>\n",
       "    <tr>\n",
       "      <th>1983</th>\n",
       "      <td>97.4</td>\n",
       "    </tr>\n",
       "    <tr>\n",
       "      <th>1984</th>\n",
       "      <td>97.4</td>\n",
       "    </tr>\n",
       "  </tbody>\n",
       "</table>\n",
       "</div>"
      ],
      "text/plain": [
       "          males_aged_25_54_labour_force_participation_rate_percent\n",
       "geo time                                                          \n",
       "afg 1980                                               97.3       \n",
       "    1981                                               97.4       \n",
       "    1982                                               97.4       \n",
       "    1983                                               97.4       \n",
       "    1984                                               97.4       "
      ]
     },
     "execution_count": 154,
     "metadata": {},
     "output_type": "execute_result"
    }
   ],
   "source": [
    "final.head()"
   ]
  },
  {
   "cell_type": "code",
   "execution_count": 155,
   "metadata": {
    "collapsed": true
   },
   "outputs": [],
   "source": [
    "final = final.reset_index()\n",
    "final[['geo', name,  'time']]\\\n",
    ".to_csv('../ddf--datapoints--'+name+'--by--geo--time.csv', float_format='%.2f', index=False)"
   ]
  },
  {
   "cell_type": "code",
   "execution_count": null,
   "metadata": {
    "collapsed": true
   },
   "outputs": [],
   "source": []
  },
  {
   "cell_type": "code",
   "execution_count": null,
   "metadata": {
    "collapsed": true
   },
   "outputs": [],
   "source": []
  },
  {
   "cell_type": "code",
   "execution_count": null,
   "metadata": {
    "collapsed": true
   },
   "outputs": [],
   "source": []
  },
  {
   "cell_type": "code",
   "execution_count": 25,
   "metadata": {
    "collapsed": false
   },
   "outputs": [
    {
     "data": {
      "text/plain": [
       "('ddf--g-hist_tfr', [45, 46, 47])"
      ]
     },
     "execution_count": 25,
     "metadata": {},
     "output_type": "execute_result"
    }
   ],
   "source": [
    "next(d)"
   ]
  },
  {
   "cell_type": "code",
   "execution_count": null,
   "metadata": {
    "collapsed": true
   },
   "outputs": [],
   "source": []
  }
 ],
 "metadata": {
  "kernelspec": {
   "display_name": "Python 3",
   "language": "python",
   "name": "python3"
  },
  "language_info": {
   "codemirror_mode": {
    "name": "ipython",
    "version": 3
   },
   "file_extension": ".py",
   "mimetype": "text/x-python",
   "name": "python",
   "nbconvert_exporter": "python",
   "pygments_lexer": "ipython3",
   "version": "3.5.2"
  }
 },
 "nbformat": 4,
 "nbformat_minor": 0
}
