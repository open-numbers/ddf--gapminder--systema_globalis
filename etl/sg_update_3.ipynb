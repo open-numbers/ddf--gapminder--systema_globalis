{
 "cells": [
  {
   "cell_type": "code",
   "execution_count": 1,
   "metadata": {
    "collapsed": true
   },
   "outputs": [],
   "source": [
    "import pandas as pd\n",
    "import numpy as np\n",
    "import os\n",
    "import ddf_utils.ddf_reader as ddf"
   ]
  },
  {
   "cell_type": "code",
   "execution_count": 2,
   "metadata": {
    "collapsed": true
   },
   "outputs": [],
   "source": [
    "ddf.SEARCH_PATH = \"/Users/semio/src/work/Gapminder/\""
   ]
  },
  {
   "cell_type": "code",
   "execution_count": 3,
   "metadata": {
    "collapsed": true
   },
   "outputs": [],
   "source": [
    "l = pd.read_csv('./GW_indicators_list.csv')"
   ]
  },
  {
   "cell_type": "code",
   "execution_count": 4,
   "metadata": {
    "collapsed": true
   },
   "outputs": [],
   "source": [
    "l2 = l[['gw_ddf_id', 'found_in_ddf', 'ddf_concept_id', 'Notes']]\n",
    "l2 = l2[~l2['found_in_ddf'].isnull()]"
   ]
  },
  {
   "cell_type": "code",
   "execution_count": 5,
   "metadata": {
    "collapsed": true
   },
   "outputs": [],
   "source": [
    "geo = ddf.ddf_entities('ddf--gapminder--geo_entity_domain')['country']"
   ]
  },
  {
   "cell_type": "code",
   "execution_count": 6,
   "metadata": {
    "collapsed": true
   },
   "outputs": [],
   "source": [
    "def get_geo_map(geo_2, column='area'):\n",
    "\n",
    "    geo_map = {} \n",
    "\n",
    "    cols = ['alternative_1', 'alternative_2', 'alternative_3', 'gapminder_list',\n",
    "           'alternative_4_cdiac', 'pandg', 'god_id', 'alt_5', 'upper_case_name',\n",
    "           'code', 'arb1', 'arb2', 'arb3', 'arb4', 'arb5', 'arb6', 'name']\n",
    "\n",
    "    for i, v in geo_2.iterrows():\n",
    "\n",
    "        geo_map[v[column]] = np.nan\n",
    "\n",
    "\n",
    "        for c in cols:\n",
    "            f = geo[geo[c] == v['name'].strip()]\n",
    "            if len(f) > 0:\n",
    "                geo_map[v[column]] = f['country'].values[0]\n",
    "            if len(f) > 1:\n",
    "                print(f)\n",
    "                \n",
    "    return geo_map"
   ]
  },
  {
   "cell_type": "code",
   "execution_count": null,
   "metadata": {
    "collapsed": true
   },
   "outputs": [],
   "source": []
  },
  {
   "cell_type": "code",
   "execution_count": null,
   "metadata": {
    "collapsed": true
   },
   "outputs": [],
   "source": []
  },
  {
   "cell_type": "code",
   "execution_count": null,
   "metadata": {
    "collapsed": true
   },
   "outputs": [],
   "source": []
  },
  {
   "cell_type": "code",
   "execution_count": 22,
   "metadata": {
    "collapsed": true
   },
   "outputs": [],
   "source": [
    "d = iter(l2.groupby('found_in_ddf').groups.items())"
   ]
  },
  {
   "cell_type": "code",
   "execution_count": null,
   "metadata": {
    "collapsed": true
   },
   "outputs": [],
   "source": []
  },
  {
   "cell_type": "code",
   "execution_count": null,
   "metadata": {
    "collapsed": true
   },
   "outputs": [],
   "source": []
  },
  {
   "cell_type": "code",
   "execution_count": 9,
   "metadata": {
    "collapsed": false
   },
   "outputs": [
    {
     "data": {
      "text/html": [
       "<div>\n",
       "<table border=\"1\" class=\"dataframe\">\n",
       "  <thead>\n",
       "    <tr style=\"text-align: right;\">\n",
       "      <th></th>\n",
       "      <th>gw_ddf_id</th>\n",
       "      <th>found_in_ddf</th>\n",
       "      <th>ddf_concept_id</th>\n",
       "      <th>Notes</th>\n",
       "    </tr>\n",
       "  </thead>\n",
       "  <tbody>\n",
       "    <tr>\n",
       "      <th>89</th>\n",
       "      <td>gdpperworking_hour_us_inflation_adjusted</td>\n",
       "      <td>ddf--ilo--kilm_labour_prod</td>\n",
       "      <td>gdp_per_hour_worked_constant_1990_us_at_ppp</td>\n",
       "      <td>data different?</td>\n",
       "    </tr>\n",
       "  </tbody>\n",
       "</table>\n",
       "</div>"
      ],
      "text/plain": [
       "                                   gw_ddf_id                found_in_ddf  \\\n",
       "89  gdpperworking_hour_us_inflation_adjusted  ddf--ilo--kilm_labour_prod   \n",
       "\n",
       "                                 ddf_concept_id            Notes  \n",
       "89  gdp_per_hour_worked_constant_1990_us_at_ppp  data different?  "
      ]
     },
     "execution_count": 9,
     "metadata": {},
     "output_type": "execute_result"
    }
   ],
   "source": [
    "it = next(d)\n",
    "l2.ix[it[1]]"
   ]
  },
  {
   "cell_type": "code",
   "execution_count": 10,
   "metadata": {
    "collapsed": true
   },
   "outputs": [],
   "source": [
    "name = l2.ix[it[1]].iloc[0].gw_ddf_id\n",
    "name_2 = l2.ix[it[1]].iloc[0].ddf_concept_id"
   ]
  },
  {
   "cell_type": "code",
   "execution_count": 12,
   "metadata": {
    "collapsed": true
   },
   "outputs": [],
   "source": [
    "left = ddf.ddf_datapoint('ddf--gapminder--systema_globalis', name).set_index(['geo', 'time'])"
   ]
  },
  {
   "cell_type": "code",
   "execution_count": 13,
   "metadata": {
    "collapsed": true
   },
   "outputs": [],
   "source": [
    "right = ddf.ddf_datapoint(it[0], name_2)"
   ]
  },
  {
   "cell_type": "code",
   "execution_count": 15,
   "metadata": {
    "collapsed": false
   },
   "outputs": [],
   "source": [
    "right.columns = ['geo', 'time', name]"
   ]
  },
  {
   "cell_type": "code",
   "execution_count": 16,
   "metadata": {
    "collapsed": true
   },
   "outputs": [],
   "source": [
    "right[['geo', name, 'time']].to_csv('../ddf--datapoints--'+name+'--by--geo--time.csv', float_format='%.2f', index=False)"
   ]
  },
  {
   "cell_type": "code",
   "execution_count": null,
   "metadata": {
    "collapsed": true
   },
   "outputs": [],
   "source": []
  },
  {
   "cell_type": "code",
   "execution_count": 31,
   "metadata": {
    "collapsed": false
   },
   "outputs": [
    {
     "data": {
      "text/html": [
       "<div>\n",
       "<table border=\"1\" class=\"dataframe\">\n",
       "  <thead>\n",
       "    <tr style=\"text-align: right;\">\n",
       "      <th></th>\n",
       "      <th>gw_ddf_id</th>\n",
       "      <th>found_in_ddf</th>\n",
       "      <th>ddf_concept_id</th>\n",
       "      <th>Notes</th>\n",
       "    </tr>\n",
       "  </thead>\n",
       "  <tbody>\n",
       "    <tr>\n",
       "      <th>34</th>\n",
       "      <td>food_supply_kilocalories_per_person_and_day</td>\n",
       "      <td>ddf--fao--food_supply</td>\n",
       "      <td>food_supply_kcal_capita_day</td>\n",
       "      <td>filter item == 2901</td>\n",
       "    </tr>\n",
       "  </tbody>\n",
       "</table>\n",
       "</div>"
      ],
      "text/plain": [
       "                                      gw_ddf_id           found_in_ddf  \\\n",
       "34  food_supply_kilocalories_per_person_and_day  ddf--fao--food_supply   \n",
       "\n",
       "                 ddf_concept_id                Notes  \n",
       "34  food_supply_kcal_capita_day  filter item == 2901  "
      ]
     },
     "execution_count": 31,
     "metadata": {},
     "output_type": "execute_result"
    }
   ],
   "source": [
    "it = next(d)\n",
    "l2.ix[it[1]]"
   ]
  },
  {
   "cell_type": "code",
   "execution_count": 41,
   "metadata": {
    "collapsed": true
   },
   "outputs": [],
   "source": [
    "geo2 = ddf.ddf_entities(it[0])['country']\n",
    "geo_map = get_geo_map(geo2, 'country')"
   ]
  },
  {
   "cell_type": "code",
   "execution_count": 42,
   "metadata": {
    "collapsed": false,
    "scrolled": true
   },
   "outputs": [
    {
     "data": {
      "text/html": [
       "<div>\n",
       "<table border=\"1\" class=\"dataframe\">\n",
       "  <thead>\n",
       "    <tr style=\"text-align: right;\">\n",
       "      <th></th>\n",
       "      <th>name</th>\n",
       "    </tr>\n",
       "  </thead>\n",
       "  <tbody>\n",
       "    <tr>\n",
       "      <th>15</th>\n",
       "      <td>Belgium-Luxembourg</td>\n",
       "    </tr>\n",
       "    <tr>\n",
       "      <th>41</th>\n",
       "      <td>China, mainland</td>\n",
       "    </tr>\n",
       "    <tr>\n",
       "      <th>62</th>\n",
       "      <td>Ethiopia PDR</td>\n",
       "    </tr>\n",
       "    <tr>\n",
       "      <th>102</th>\n",
       "      <td>Iran (Islamic Republic of)</td>\n",
       "    </tr>\n",
       "    <tr>\n",
       "      <th>117</th>\n",
       "      <td>Republic of Korea</td>\n",
       "    </tr>\n",
       "    <tr>\n",
       "      <th>120</th>\n",
       "      <td>Lao People's Democratic Republic</td>\n",
       "    </tr>\n",
       "    <tr>\n",
       "      <th>151</th>\n",
       "      <td>Netherlands Antilles (former)</td>\n",
       "    </tr>\n",
       "    <tr>\n",
       "      <th>206</th>\n",
       "      <td>Sudan (former)</td>\n",
       "    </tr>\n",
       "    <tr>\n",
       "      <th>214</th>\n",
       "      <td>China, Taiwan Province of</td>\n",
       "    </tr>\n",
       "    <tr>\n",
       "      <th>215</th>\n",
       "      <td>United Republic of Tanzania</td>\n",
       "    </tr>\n",
       "    <tr>\n",
       "      <th>248</th>\n",
       "      <td>Yugoslav SFR</td>\n",
       "    </tr>\n",
       "    <tr>\n",
       "      <th>5000</th>\n",
       "      <td>World</td>\n",
       "    </tr>\n",
       "    <tr>\n",
       "      <th>5100</th>\n",
       "      <td>Africa</td>\n",
       "    </tr>\n",
       "    <tr>\n",
       "      <th>5101</th>\n",
       "      <td>Eastern Africa</td>\n",
       "    </tr>\n",
       "    <tr>\n",
       "      <th>5102</th>\n",
       "      <td>Middle Africa</td>\n",
       "    </tr>\n",
       "    <tr>\n",
       "      <th>5103</th>\n",
       "      <td>Northern Africa</td>\n",
       "    </tr>\n",
       "    <tr>\n",
       "      <th>5104</th>\n",
       "      <td>Southern Africa</td>\n",
       "    </tr>\n",
       "    <tr>\n",
       "      <th>5105</th>\n",
       "      <td>Western Africa</td>\n",
       "    </tr>\n",
       "    <tr>\n",
       "      <th>5200</th>\n",
       "      <td>Americas</td>\n",
       "    </tr>\n",
       "    <tr>\n",
       "      <th>5203</th>\n",
       "      <td>Northern America</td>\n",
       "    </tr>\n",
       "    <tr>\n",
       "      <th>5204</th>\n",
       "      <td>Central America</td>\n",
       "    </tr>\n",
       "    <tr>\n",
       "      <th>5206</th>\n",
       "      <td>Caribbean</td>\n",
       "    </tr>\n",
       "    <tr>\n",
       "      <th>5207</th>\n",
       "      <td>South America</td>\n",
       "    </tr>\n",
       "    <tr>\n",
       "      <th>5300</th>\n",
       "      <td>Asia</td>\n",
       "    </tr>\n",
       "    <tr>\n",
       "      <th>5301</th>\n",
       "      <td>Central Asia</td>\n",
       "    </tr>\n",
       "    <tr>\n",
       "      <th>5302</th>\n",
       "      <td>Eastern Asia</td>\n",
       "    </tr>\n",
       "    <tr>\n",
       "      <th>5303</th>\n",
       "      <td>Southern Asia</td>\n",
       "    </tr>\n",
       "    <tr>\n",
       "      <th>5304</th>\n",
       "      <td>South-Eastern Asia</td>\n",
       "    </tr>\n",
       "    <tr>\n",
       "      <th>5305</th>\n",
       "      <td>Western Asia</td>\n",
       "    </tr>\n",
       "    <tr>\n",
       "      <th>5400</th>\n",
       "      <td>Europe</td>\n",
       "    </tr>\n",
       "    <tr>\n",
       "      <th>5401</th>\n",
       "      <td>Eastern Europe</td>\n",
       "    </tr>\n",
       "    <tr>\n",
       "      <th>5402</th>\n",
       "      <td>Northern Europe</td>\n",
       "    </tr>\n",
       "    <tr>\n",
       "      <th>5403</th>\n",
       "      <td>Southern Europe</td>\n",
       "    </tr>\n",
       "    <tr>\n",
       "      <th>5404</th>\n",
       "      <td>Western Europe</td>\n",
       "    </tr>\n",
       "    <tr>\n",
       "      <th>5500</th>\n",
       "      <td>Oceania</td>\n",
       "    </tr>\n",
       "    <tr>\n",
       "      <th>5501</th>\n",
       "      <td>Australia &amp; New Zealand</td>\n",
       "    </tr>\n",
       "    <tr>\n",
       "      <th>5502</th>\n",
       "      <td>Melanesia</td>\n",
       "    </tr>\n",
       "    <tr>\n",
       "      <th>5504</th>\n",
       "      <td>Polynesia</td>\n",
       "    </tr>\n",
       "    <tr>\n",
       "      <th>5706</th>\n",
       "      <td>European Union</td>\n",
       "    </tr>\n",
       "    <tr>\n",
       "      <th>5801</th>\n",
       "      <td>Least Developed Countries</td>\n",
       "    </tr>\n",
       "    <tr>\n",
       "      <th>5802</th>\n",
       "      <td>Land Locked Developing Countries</td>\n",
       "    </tr>\n",
       "    <tr>\n",
       "      <th>5803</th>\n",
       "      <td>Small Island Developing States</td>\n",
       "    </tr>\n",
       "    <tr>\n",
       "      <th>5815</th>\n",
       "      <td>Low Income Food Deficit Countries</td>\n",
       "    </tr>\n",
       "    <tr>\n",
       "      <th>5817</th>\n",
       "      <td>Net Food Importing Developing Countries</td>\n",
       "    </tr>\n",
       "  </tbody>\n",
       "</table>\n",
       "</div>"
      ],
      "text/plain": [
       "                                         name\n",
       "15                         Belgium-Luxembourg\n",
       "41                            China, mainland\n",
       "62                               Ethiopia PDR\n",
       "102                Iran (Islamic Republic of)\n",
       "117                         Republic of Korea\n",
       "120          Lao People's Democratic Republic\n",
       "151             Netherlands Antilles (former)\n",
       "206                            Sudan (former)\n",
       "214                 China, Taiwan Province of\n",
       "215               United Republic of Tanzania\n",
       "248                              Yugoslav SFR\n",
       "5000                                    World\n",
       "5100                                   Africa\n",
       "5101                           Eastern Africa\n",
       "5102                            Middle Africa\n",
       "5103                          Northern Africa\n",
       "5104                          Southern Africa\n",
       "5105                           Western Africa\n",
       "5200                                 Americas\n",
       "5203                         Northern America\n",
       "5204                          Central America\n",
       "5206                                Caribbean\n",
       "5207                            South America\n",
       "5300                                     Asia\n",
       "5301                             Central Asia\n",
       "5302                             Eastern Asia\n",
       "5303                            Southern Asia\n",
       "5304                       South-Eastern Asia\n",
       "5305                             Western Asia\n",
       "5400                                   Europe\n",
       "5401                           Eastern Europe\n",
       "5402                          Northern Europe\n",
       "5403                          Southern Europe\n",
       "5404                           Western Europe\n",
       "5500                                  Oceania\n",
       "5501                  Australia & New Zealand\n",
       "5502                                Melanesia\n",
       "5504                                Polynesia\n",
       "5706                           European Union\n",
       "5801                Least Developed Countries\n",
       "5802         Land Locked Developing Countries\n",
       "5803           Small Island Developing States\n",
       "5815        Low Income Food Deficit Countries\n",
       "5817  Net Food Importing Developing Countries"
      ]
     },
     "execution_count": 42,
     "metadata": {},
     "output_type": "execute_result"
    }
   ],
   "source": [
    "a = pd.DataFrame(data=geo_map, index=['map']).T\n",
    "a = a[a['map'].isnull()]\n",
    "\n",
    "geo2.set_index('country').ix[a.index]"
   ]
  },
  {
   "cell_type": "code",
   "execution_count": 45,
   "metadata": {
    "collapsed": true
   },
   "outputs": [],
   "source": [
    "geo_map[102] = 'irn'\n",
    "geo_map[117] = 'kor'\n",
    "geo_map[120] = 'lao'\n",
    "geo_map[151] = 'ant'\n",
    "geo_map[206] = 'sdn'\n",
    "geo_map[214] = 'twn'\n",
    "geo_map[248] = 'yug'\n",
    "\n",
    "a = a.drop([102, 117, 120, 151, 206, 214, 248])"
   ]
  },
  {
   "cell_type": "code",
   "execution_count": 35,
   "metadata": {
    "collapsed": true
   },
   "outputs": [],
   "source": [
    "name = l2.ix[it[1]].iloc[0].gw_ddf_id\n",
    "name_2 = l2.ix[it[1]].iloc[0].ddf_concept_id"
   ]
  },
  {
   "cell_type": "code",
   "execution_count": 36,
   "metadata": {
    "collapsed": true
   },
   "outputs": [],
   "source": [
    "left = ddf.ddf_datapoint('ddf--gapminder--systema_globalis', name).set_index(['geo', 'time'])"
   ]
  },
  {
   "cell_type": "code",
   "execution_count": 48,
   "metadata": {
    "collapsed": false
   },
   "outputs": [],
   "source": [
    "right = ddf.ddf_datapoint(it[0], name_2)"
   ]
  },
  {
   "cell_type": "code",
   "execution_count": 49,
   "metadata": {
    "collapsed": false
   },
   "outputs": [],
   "source": [
    "right = right.query(\"item == 2901\")[['country', 'year', name_2]].copy()"
   ]
  },
  {
   "cell_type": "code",
   "execution_count": 50,
   "metadata": {
    "collapsed": false
   },
   "outputs": [],
   "source": [
    "right.columns = ['geo', 'time', name]\n",
    "\n",
    "right = right.query(\"geo not in @a.index\")\n",
    "\n",
    "right.geo = right.geo.map(lambda x: geo_map[x])"
   ]
  },
  {
   "cell_type": "code",
   "execution_count": 54,
   "metadata": {
    "collapsed": false
   },
   "outputs": [],
   "source": [
    "right.sort_values(by=['geo', 'time'])[[name, 'geo', 'time']].to_csv('../ddf--datapoints--'+name+'--by--geo--time.csv', float_format='%.0f', index=False)"
   ]
  },
  {
   "cell_type": "code",
   "execution_count": null,
   "metadata": {
    "collapsed": true
   },
   "outputs": [],
   "source": []
  },
  {
   "cell_type": "code",
   "execution_count": null,
   "metadata": {
    "collapsed": true
   },
   "outputs": [],
   "source": []
  },
  {
   "cell_type": "code",
   "execution_count": 63,
   "metadata": {
    "collapsed": false,
    "scrolled": true
   },
   "outputs": [
    {
     "data": {
      "text/html": [
       "<div>\n",
       "<table border=\"1\" class=\"dataframe\">\n",
       "  <thead>\n",
       "    <tr style=\"text-align: right;\">\n",
       "      <th></th>\n",
       "      <th>gw_ddf_id</th>\n",
       "      <th>found_in_ddf</th>\n",
       "      <th>ddf_concept_id</th>\n",
       "      <th>Notes</th>\n",
       "    </tr>\n",
       "  </thead>\n",
       "  <tbody>\n",
       "    <tr>\n",
       "      <th>155</th>\n",
       "      <td>female_population_with_projections</td>\n",
       "      <td>ddf--unpop--wpp_pop</td>\n",
       "      <td>population</td>\n",
       "      <td>sum of country_code == 4 &amp; gender == \"female\",...</td>\n",
       "    </tr>\n",
       "    <tr>\n",
       "      <th>156</th>\n",
       "      <td>male_population_with_projections</td>\n",
       "      <td>ddf--unpop--wpp_pop</td>\n",
       "      <td>population</td>\n",
       "      <td>sum of country_code == 4 &amp; gender == \"male\", m...</td>\n",
       "    </tr>\n",
       "    <tr>\n",
       "      <th>157</th>\n",
       "      <td>sex_ratio_0_14_years</td>\n",
       "      <td>ddf--unpop--wpp_pop</td>\n",
       "      <td>population</td>\n",
       "      <td>data difference?</td>\n",
       "    </tr>\n",
       "    <tr>\n",
       "      <th>158</th>\n",
       "      <td>sex_ratio_15_24_years</td>\n",
       "      <td>ddf--unpop--wpp_pop</td>\n",
       "      <td>population</td>\n",
       "      <td>data difference?</td>\n",
       "    </tr>\n",
       "    <tr>\n",
       "      <th>159</th>\n",
       "      <td>sex_ratio_15_49_years</td>\n",
       "      <td>ddf--unpop--wpp_pop</td>\n",
       "      <td>population</td>\n",
       "      <td>data difference?</td>\n",
       "    </tr>\n",
       "    <tr>\n",
       "      <th>160</th>\n",
       "      <td>sex_ratio_above_50_years</td>\n",
       "      <td>ddf--unpop--wpp_pop</td>\n",
       "      <td>population</td>\n",
       "      <td>data difference?</td>\n",
       "    </tr>\n",
       "    <tr>\n",
       "      <th>161</th>\n",
       "      <td>sex_ratio_all_age_groups</td>\n",
       "      <td>ddf--unpop--wpp_pop</td>\n",
       "      <td>population</td>\n",
       "      <td>data difference?</td>\n",
       "    </tr>\n",
       "    <tr>\n",
       "      <th>162</th>\n",
       "      <td>population_aged_0_4_years_both_sexes_percent</td>\n",
       "      <td>ddf--unpop--wpp_pop</td>\n",
       "      <td>population</td>\n",
       "      <td>data difference?</td>\n",
       "    </tr>\n",
       "    <tr>\n",
       "      <th>163</th>\n",
       "      <td>population_aged_0_4_years_female_percent</td>\n",
       "      <td>ddf--unpop--wpp_pop</td>\n",
       "      <td>population</td>\n",
       "      <td>data difference?</td>\n",
       "    </tr>\n",
       "    <tr>\n",
       "      <th>164</th>\n",
       "      <td>population_aged_0_4_years_male_percent</td>\n",
       "      <td>ddf--unpop--wpp_pop</td>\n",
       "      <td>population</td>\n",
       "      <td>data difference?</td>\n",
       "    </tr>\n",
       "    <tr>\n",
       "      <th>165</th>\n",
       "      <td>population_aged_0_4_years_total_number</td>\n",
       "      <td>ddf--unpop--wpp_pop</td>\n",
       "      <td>population</td>\n",
       "      <td>data difference?</td>\n",
       "    </tr>\n",
       "    <tr>\n",
       "      <th>166</th>\n",
       "      <td>population_aged_10_14_years_both_sexes_percent</td>\n",
       "      <td>ddf--unpop--wpp_pop</td>\n",
       "      <td>population</td>\n",
       "      <td>data difference?</td>\n",
       "    </tr>\n",
       "    <tr>\n",
       "      <th>167</th>\n",
       "      <td>population_aged_10_14_years_female_percent</td>\n",
       "      <td>ddf--unpop--wpp_pop</td>\n",
       "      <td>population</td>\n",
       "      <td>data difference?</td>\n",
       "    </tr>\n",
       "    <tr>\n",
       "      <th>168</th>\n",
       "      <td>population_aged_10_14_years_male_percent</td>\n",
       "      <td>ddf--unpop--wpp_pop</td>\n",
       "      <td>population</td>\n",
       "      <td>data difference?</td>\n",
       "    </tr>\n",
       "    <tr>\n",
       "      <th>169</th>\n",
       "      <td>population_aged_10_14_years_total_number</td>\n",
       "      <td>ddf--unpop--wpp_pop</td>\n",
       "      <td>population</td>\n",
       "      <td>data difference?</td>\n",
       "    </tr>\n",
       "    <tr>\n",
       "      <th>170</th>\n",
       "      <td>population_aged_15_19_years_both_sexes_percent</td>\n",
       "      <td>ddf--unpop--wpp_pop</td>\n",
       "      <td>population</td>\n",
       "      <td>data difference?</td>\n",
       "    </tr>\n",
       "    <tr>\n",
       "      <th>171</th>\n",
       "      <td>population_aged_15_19_years_female_percent</td>\n",
       "      <td>ddf--unpop--wpp_pop</td>\n",
       "      <td>population</td>\n",
       "      <td>data difference?</td>\n",
       "    </tr>\n",
       "    <tr>\n",
       "      <th>172</th>\n",
       "      <td>population_aged_15_19_years_male_percent</td>\n",
       "      <td>ddf--unpop--wpp_pop</td>\n",
       "      <td>population</td>\n",
       "      <td>data difference?</td>\n",
       "    </tr>\n",
       "    <tr>\n",
       "      <th>173</th>\n",
       "      <td>population_aged_15_19_years_total_number</td>\n",
       "      <td>ddf--unpop--wpp_pop</td>\n",
       "      <td>population</td>\n",
       "      <td>data difference?</td>\n",
       "    </tr>\n",
       "    <tr>\n",
       "      <th>174</th>\n",
       "      <td>population_aged_20_39_years_both_sexes_percent</td>\n",
       "      <td>ddf--unpop--wpp_pop</td>\n",
       "      <td>population</td>\n",
       "      <td>data difference?</td>\n",
       "    </tr>\n",
       "    <tr>\n",
       "      <th>175</th>\n",
       "      <td>population_aged_20_39_years_female_percent</td>\n",
       "      <td>ddf--unpop--wpp_pop</td>\n",
       "      <td>population</td>\n",
       "      <td>data difference?</td>\n",
       "    </tr>\n",
       "    <tr>\n",
       "      <th>176</th>\n",
       "      <td>population_aged_20_39_years_male_percent</td>\n",
       "      <td>ddf--unpop--wpp_pop</td>\n",
       "      <td>population</td>\n",
       "      <td>data difference?</td>\n",
       "    </tr>\n",
       "    <tr>\n",
       "      <th>177</th>\n",
       "      <td>population_aged_20_39_years_total_number</td>\n",
       "      <td>ddf--unpop--wpp_pop</td>\n",
       "      <td>population</td>\n",
       "      <td>data difference?</td>\n",
       "    </tr>\n",
       "    <tr>\n",
       "      <th>178</th>\n",
       "      <td>population_aged_40_59_years_both_sexes_percent</td>\n",
       "      <td>ddf--unpop--wpp_pop</td>\n",
       "      <td>population</td>\n",
       "      <td>data difference?</td>\n",
       "    </tr>\n",
       "    <tr>\n",
       "      <th>179</th>\n",
       "      <td>population_aged_40_59_years_female_percent</td>\n",
       "      <td>ddf--unpop--wpp_pop</td>\n",
       "      <td>population</td>\n",
       "      <td>data difference?</td>\n",
       "    </tr>\n",
       "    <tr>\n",
       "      <th>180</th>\n",
       "      <td>population_aged_40_59_years_male_percent</td>\n",
       "      <td>ddf--unpop--wpp_pop</td>\n",
       "      <td>population</td>\n",
       "      <td>data difference?</td>\n",
       "    </tr>\n",
       "    <tr>\n",
       "      <th>181</th>\n",
       "      <td>population_aged_40_59_years_total_number</td>\n",
       "      <td>ddf--unpop--wpp_pop</td>\n",
       "      <td>population</td>\n",
       "      <td>data difference?</td>\n",
       "    </tr>\n",
       "    <tr>\n",
       "      <th>182</th>\n",
       "      <td>population_aged_5_9_years_both_sexes_percent</td>\n",
       "      <td>ddf--unpop--wpp_pop</td>\n",
       "      <td>population</td>\n",
       "      <td>data difference?</td>\n",
       "    </tr>\n",
       "    <tr>\n",
       "      <th>183</th>\n",
       "      <td>population_aged_5_9_years_female_percent</td>\n",
       "      <td>ddf--unpop--wpp_pop</td>\n",
       "      <td>population</td>\n",
       "      <td>data difference?</td>\n",
       "    </tr>\n",
       "    <tr>\n",
       "      <th>184</th>\n",
       "      <td>population_aged_5_9_years_male_percent</td>\n",
       "      <td>ddf--unpop--wpp_pop</td>\n",
       "      <td>population</td>\n",
       "      <td>data difference?</td>\n",
       "    </tr>\n",
       "    <tr>\n",
       "      <th>185</th>\n",
       "      <td>population_aged_5_9_years_total_number</td>\n",
       "      <td>ddf--unpop--wpp_pop</td>\n",
       "      <td>population</td>\n",
       "      <td>data difference?</td>\n",
       "    </tr>\n",
       "    <tr>\n",
       "      <th>186</th>\n",
       "      <td>population_aged_60plus_years_both_sexes_percent</td>\n",
       "      <td>ddf--unpop--wpp_pop</td>\n",
       "      <td>population</td>\n",
       "      <td>data difference?</td>\n",
       "    </tr>\n",
       "    <tr>\n",
       "      <th>187</th>\n",
       "      <td>population_aged_60plus_years_female_percent</td>\n",
       "      <td>ddf--unpop--wpp_pop</td>\n",
       "      <td>population</td>\n",
       "      <td>data difference?</td>\n",
       "    </tr>\n",
       "    <tr>\n",
       "      <th>188</th>\n",
       "      <td>population_aged_60plus_years_male_percent</td>\n",
       "      <td>ddf--unpop--wpp_pop</td>\n",
       "      <td>population</td>\n",
       "      <td>data difference?</td>\n",
       "    </tr>\n",
       "    <tr>\n",
       "      <th>189</th>\n",
       "      <td>population_aged_60plus_years_total_number</td>\n",
       "      <td>ddf--unpop--wpp_pop</td>\n",
       "      <td>population</td>\n",
       "      <td>data difference?</td>\n",
       "    </tr>\n",
       "  </tbody>\n",
       "</table>\n",
       "</div>"
      ],
      "text/plain": [
       "                                           gw_ddf_id         found_in_ddf  \\\n",
       "155               female_population_with_projections  ddf--unpop--wpp_pop   \n",
       "156                 male_population_with_projections  ddf--unpop--wpp_pop   \n",
       "157                             sex_ratio_0_14_years  ddf--unpop--wpp_pop   \n",
       "158                            sex_ratio_15_24_years  ddf--unpop--wpp_pop   \n",
       "159                            sex_ratio_15_49_years  ddf--unpop--wpp_pop   \n",
       "160                         sex_ratio_above_50_years  ddf--unpop--wpp_pop   \n",
       "161                         sex_ratio_all_age_groups  ddf--unpop--wpp_pop   \n",
       "162     population_aged_0_4_years_both_sexes_percent  ddf--unpop--wpp_pop   \n",
       "163         population_aged_0_4_years_female_percent  ddf--unpop--wpp_pop   \n",
       "164           population_aged_0_4_years_male_percent  ddf--unpop--wpp_pop   \n",
       "165           population_aged_0_4_years_total_number  ddf--unpop--wpp_pop   \n",
       "166   population_aged_10_14_years_both_sexes_percent  ddf--unpop--wpp_pop   \n",
       "167       population_aged_10_14_years_female_percent  ddf--unpop--wpp_pop   \n",
       "168         population_aged_10_14_years_male_percent  ddf--unpop--wpp_pop   \n",
       "169         population_aged_10_14_years_total_number  ddf--unpop--wpp_pop   \n",
       "170   population_aged_15_19_years_both_sexes_percent  ddf--unpop--wpp_pop   \n",
       "171       population_aged_15_19_years_female_percent  ddf--unpop--wpp_pop   \n",
       "172         population_aged_15_19_years_male_percent  ddf--unpop--wpp_pop   \n",
       "173         population_aged_15_19_years_total_number  ddf--unpop--wpp_pop   \n",
       "174   population_aged_20_39_years_both_sexes_percent  ddf--unpop--wpp_pop   \n",
       "175       population_aged_20_39_years_female_percent  ddf--unpop--wpp_pop   \n",
       "176         population_aged_20_39_years_male_percent  ddf--unpop--wpp_pop   \n",
       "177         population_aged_20_39_years_total_number  ddf--unpop--wpp_pop   \n",
       "178   population_aged_40_59_years_both_sexes_percent  ddf--unpop--wpp_pop   \n",
       "179       population_aged_40_59_years_female_percent  ddf--unpop--wpp_pop   \n",
       "180         population_aged_40_59_years_male_percent  ddf--unpop--wpp_pop   \n",
       "181         population_aged_40_59_years_total_number  ddf--unpop--wpp_pop   \n",
       "182     population_aged_5_9_years_both_sexes_percent  ddf--unpop--wpp_pop   \n",
       "183         population_aged_5_9_years_female_percent  ddf--unpop--wpp_pop   \n",
       "184           population_aged_5_9_years_male_percent  ddf--unpop--wpp_pop   \n",
       "185           population_aged_5_9_years_total_number  ddf--unpop--wpp_pop   \n",
       "186  population_aged_60plus_years_both_sexes_percent  ddf--unpop--wpp_pop   \n",
       "187      population_aged_60plus_years_female_percent  ddf--unpop--wpp_pop   \n",
       "188        population_aged_60plus_years_male_percent  ddf--unpop--wpp_pop   \n",
       "189        population_aged_60plus_years_total_number  ddf--unpop--wpp_pop   \n",
       "\n",
       "    ddf_concept_id                                              Notes  \n",
       "155     population  sum of country_code == 4 & gender == \"female\",...  \n",
       "156     population  sum of country_code == 4 & gender == \"male\", m...  \n",
       "157     population                                   data difference?  \n",
       "158     population                                   data difference?  \n",
       "159     population                                   data difference?  \n",
       "160     population                                   data difference?  \n",
       "161     population                                   data difference?  \n",
       "162     population                                   data difference?  \n",
       "163     population                                   data difference?  \n",
       "164     population                                   data difference?  \n",
       "165     population                                   data difference?  \n",
       "166     population                                   data difference?  \n",
       "167     population                                   data difference?  \n",
       "168     population                                   data difference?  \n",
       "169     population                                   data difference?  \n",
       "170     population                                   data difference?  \n",
       "171     population                                   data difference?  \n",
       "172     population                                   data difference?  \n",
       "173     population                                   data difference?  \n",
       "174     population                                   data difference?  \n",
       "175     population                                   data difference?  \n",
       "176     population                                   data difference?  \n",
       "177     population                                   data difference?  \n",
       "178     population                                   data difference?  \n",
       "179     population                                   data difference?  \n",
       "180     population                                   data difference?  \n",
       "181     population                                   data difference?  \n",
       "182     population                                   data difference?  \n",
       "183     population                                   data difference?  \n",
       "184     population                                   data difference?  \n",
       "185     population                                   data difference?  \n",
       "186     population                                   data difference?  \n",
       "187     population                                   data difference?  \n",
       "188     population                                   data difference?  \n",
       "189     population                                   data difference?  "
      ]
     },
     "execution_count": 63,
     "metadata": {},
     "output_type": "execute_result"
    }
   ],
   "source": [
    "it = next(d)\n",
    "l2.ix[it[1]]"
   ]
  },
  {
   "cell_type": "code",
   "execution_count": 71,
   "metadata": {
    "collapsed": true
   },
   "outputs": [],
   "source": [
    "geo2 = ddf.ddf_entities(it[0])['country_code']\n",
    "geo_map = get_geo_map(geo2, 'country_code')"
   ]
  },
  {
   "cell_type": "code",
   "execution_count": 72,
   "metadata": {
    "collapsed": false,
    "scrolled": true
   },
   "outputs": [
    {
     "data": {
      "text/html": [
       "<div>\n",
       "<table border=\"1\" class=\"dataframe\">\n",
       "  <thead>\n",
       "    <tr style=\"text-align: right;\">\n",
       "      <th></th>\n",
       "      <th>name</th>\n",
       "    </tr>\n",
       "  </thead>\n",
       "  <tbody>\n",
       "    <tr>\n",
       "      <th>158</th>\n",
       "      <td>Other non-specified areas</td>\n",
       "    </tr>\n",
       "    <tr>\n",
       "      <th>180</th>\n",
       "      <td>Democratic Republic of the Congo</td>\n",
       "    </tr>\n",
       "    <tr>\n",
       "      <th>364</th>\n",
       "      <td>Iran (Islamic Republic of)</td>\n",
       "    </tr>\n",
       "    <tr>\n",
       "      <th>410</th>\n",
       "      <td>Republic of Korea</td>\n",
       "    </tr>\n",
       "    <tr>\n",
       "      <th>418</th>\n",
       "      <td>Lao People's Democratic Republic</td>\n",
       "    </tr>\n",
       "    <tr>\n",
       "      <th>834</th>\n",
       "      <td>United Republic of Tanzania</td>\n",
       "    </tr>\n",
       "    <tr>\n",
       "      <th>900</th>\n",
       "      <td>WORLD</td>\n",
       "    </tr>\n",
       "    <tr>\n",
       "      <th>901</th>\n",
       "      <td>More developed regions</td>\n",
       "    </tr>\n",
       "    <tr>\n",
       "      <th>902</th>\n",
       "      <td>Less developed regions</td>\n",
       "    </tr>\n",
       "    <tr>\n",
       "      <th>903</th>\n",
       "      <td>AFRICA</td>\n",
       "    </tr>\n",
       "    <tr>\n",
       "      <th>904</th>\n",
       "      <td>LATIN AMERICA AND THE CARIBBEAN</td>\n",
       "    </tr>\n",
       "    <tr>\n",
       "      <th>905</th>\n",
       "      <td>NORTHERN AMERICA</td>\n",
       "    </tr>\n",
       "    <tr>\n",
       "      <th>906</th>\n",
       "      <td>Eastern Asia</td>\n",
       "    </tr>\n",
       "    <tr>\n",
       "      <th>908</th>\n",
       "      <td>EUROPE</td>\n",
       "    </tr>\n",
       "    <tr>\n",
       "      <th>909</th>\n",
       "      <td>OCEANIA</td>\n",
       "    </tr>\n",
       "    <tr>\n",
       "      <th>910</th>\n",
       "      <td>Eastern Africa</td>\n",
       "    </tr>\n",
       "    <tr>\n",
       "      <th>911</th>\n",
       "      <td>Middle Africa</td>\n",
       "    </tr>\n",
       "    <tr>\n",
       "      <th>912</th>\n",
       "      <td>Northern Africa</td>\n",
       "    </tr>\n",
       "    <tr>\n",
       "      <th>913</th>\n",
       "      <td>Southern Africa</td>\n",
       "    </tr>\n",
       "    <tr>\n",
       "      <th>914</th>\n",
       "      <td>Western Africa</td>\n",
       "    </tr>\n",
       "    <tr>\n",
       "      <th>915</th>\n",
       "      <td>Caribbean</td>\n",
       "    </tr>\n",
       "    <tr>\n",
       "      <th>916</th>\n",
       "      <td>Central America</td>\n",
       "    </tr>\n",
       "    <tr>\n",
       "      <th>920</th>\n",
       "      <td>South-Eastern Asia</td>\n",
       "    </tr>\n",
       "    <tr>\n",
       "      <th>921</th>\n",
       "      <td>South-Central Asia</td>\n",
       "    </tr>\n",
       "    <tr>\n",
       "      <th>922</th>\n",
       "      <td>Western Asia</td>\n",
       "    </tr>\n",
       "    <tr>\n",
       "      <th>923</th>\n",
       "      <td>Eastern Europe</td>\n",
       "    </tr>\n",
       "    <tr>\n",
       "      <th>924</th>\n",
       "      <td>Northern Europe</td>\n",
       "    </tr>\n",
       "    <tr>\n",
       "      <th>925</th>\n",
       "      <td>Southern Europe</td>\n",
       "    </tr>\n",
       "    <tr>\n",
       "      <th>926</th>\n",
       "      <td>Western Europe</td>\n",
       "    </tr>\n",
       "    <tr>\n",
       "      <th>927</th>\n",
       "      <td>Australia/New Zealand</td>\n",
       "    </tr>\n",
       "    <tr>\n",
       "      <th>928</th>\n",
       "      <td>Melanesia</td>\n",
       "    </tr>\n",
       "    <tr>\n",
       "      <th>931</th>\n",
       "      <td>South America</td>\n",
       "    </tr>\n",
       "    <tr>\n",
       "      <th>934</th>\n",
       "      <td>Less developed regions, excluding least develo...</td>\n",
       "    </tr>\n",
       "    <tr>\n",
       "      <th>935</th>\n",
       "      <td>ASIA</td>\n",
       "    </tr>\n",
       "    <tr>\n",
       "      <th>941</th>\n",
       "      <td>Least developed countries</td>\n",
       "    </tr>\n",
       "    <tr>\n",
       "      <th>947</th>\n",
       "      <td>Sub-Saharan Africa</td>\n",
       "    </tr>\n",
       "    <tr>\n",
       "      <th>948</th>\n",
       "      <td>Less developed regions, excluding China</td>\n",
       "    </tr>\n",
       "    <tr>\n",
       "      <th>957</th>\n",
       "      <td>Polynesia</td>\n",
       "    </tr>\n",
       "    <tr>\n",
       "      <th>1500</th>\n",
       "      <td>Low-income countries</td>\n",
       "    </tr>\n",
       "    <tr>\n",
       "      <th>1501</th>\n",
       "      <td>Lower-middle-income countries</td>\n",
       "    </tr>\n",
       "    <tr>\n",
       "      <th>1502</th>\n",
       "      <td>Upper-middle-income countries</td>\n",
       "    </tr>\n",
       "    <tr>\n",
       "      <th>1503</th>\n",
       "      <td>High-income countries</td>\n",
       "    </tr>\n",
       "    <tr>\n",
       "      <th>1517</th>\n",
       "      <td>Middle-income countries</td>\n",
       "    </tr>\n",
       "    <tr>\n",
       "      <th>5500</th>\n",
       "      <td>Central Asia</td>\n",
       "    </tr>\n",
       "    <tr>\n",
       "      <th>5501</th>\n",
       "      <td>Southern Asia</td>\n",
       "    </tr>\n",
       "  </tbody>\n",
       "</table>\n",
       "</div>"
      ],
      "text/plain": [
       "                                                   name\n",
       "158                           Other non-specified areas\n",
       "180                    Democratic Republic of the Congo\n",
       "364                          Iran (Islamic Republic of)\n",
       "410                                   Republic of Korea\n",
       "418                    Lao People's Democratic Republic\n",
       "834                         United Republic of Tanzania\n",
       "900                                               WORLD\n",
       "901                              More developed regions\n",
       "902                              Less developed regions\n",
       "903                                              AFRICA\n",
       "904                     LATIN AMERICA AND THE CARIBBEAN\n",
       "905                                    NORTHERN AMERICA\n",
       "906                                        Eastern Asia\n",
       "908                                              EUROPE\n",
       "909                                             OCEANIA\n",
       "910                                      Eastern Africa\n",
       "911                                       Middle Africa\n",
       "912                                     Northern Africa\n",
       "913                                     Southern Africa\n",
       "914                                      Western Africa\n",
       "915                                           Caribbean\n",
       "916                                     Central America\n",
       "920                                  South-Eastern Asia\n",
       "921                                  South-Central Asia\n",
       "922                                        Western Asia\n",
       "923                                      Eastern Europe\n",
       "924                                     Northern Europe\n",
       "925                                     Southern Europe\n",
       "926                                      Western Europe\n",
       "927                               Australia/New Zealand\n",
       "928                                           Melanesia\n",
       "931                                       South America\n",
       "934   Less developed regions, excluding least develo...\n",
       "935                                                ASIA\n",
       "941                           Least developed countries\n",
       "947                                  Sub-Saharan Africa\n",
       "948             Less developed regions, excluding China\n",
       "957                                           Polynesia\n",
       "1500                               Low-income countries\n",
       "1501                      Lower-middle-income countries\n",
       "1502                      Upper-middle-income countries\n",
       "1503                              High-income countries\n",
       "1517                            Middle-income countries\n",
       "5500                                       Central Asia\n",
       "5501                                      Southern Asia"
      ]
     },
     "execution_count": 72,
     "metadata": {},
     "output_type": "execute_result"
    }
   ],
   "source": [
    "a = pd.DataFrame(data=geo_map, index=['map']).T\n",
    "a = a[a['map'].isnull()]\n",
    "\n",
    "geo2.set_index('country_code').ix[a.index]"
   ]
  },
  {
   "cell_type": "code",
   "execution_count": 73,
   "metadata": {
    "collapsed": true
   },
   "outputs": [],
   "source": [
    "geo_map[180] = 'cod'\n",
    "geo_map[364] = 'irn'\n",
    "geo_map[410] = 'kor'\n",
    "geo_map[834] = 'tza'\n",
    "geo_map[957] = 'pyf'\n",
    "\n",
    "a = a.drop([180, 364, 410, 834, 957])"
   ]
  },
  {
   "cell_type": "code",
   "execution_count": 191,
   "metadata": {
    "collapsed": true
   },
   "outputs": [],
   "source": [
    "name = l2.ix[it[1]].iloc[7].gw_ddf_id\n",
    "name_2 = 'population'"
   ]
  },
  {
   "cell_type": "code",
   "execution_count": 192,
   "metadata": {
    "collapsed": false
   },
   "outputs": [
    {
     "data": {
      "text/plain": [
       "'population_aged_0_4_years_both_sexes_percent'"
      ]
     },
     "execution_count": 192,
     "metadata": {},
     "output_type": "execute_result"
    }
   ],
   "source": [
    "name"
   ]
  },
  {
   "cell_type": "code",
   "execution_count": 193,
   "metadata": {
    "collapsed": true
   },
   "outputs": [],
   "source": [
    "left = ddf.ddf_datapoint('ddf--gapminder--systema_globalis', name).set_index(['geo', 'time'])"
   ]
  },
  {
   "cell_type": "code",
   "execution_count": 69,
   "metadata": {
    "collapsed": false
   },
   "outputs": [],
   "source": [
    "right0 = pd.read_csv('../../ddf--unpop--wpp_pop/ddf--datapoints--population--by--country_code--year--age.csv')\n",
    "right1 = pd.read_csv('../../ddf--unpop--wpp_pop/ddf--datapoints--population--by--country_code--year--gender--age.csv')"
   ]
  },
  {
   "cell_type": "code",
   "execution_count": 74,
   "metadata": {
    "collapsed": false
   },
   "outputs": [],
   "source": [
    "right0 = right0.query(\"country_code not in @a.index\")"
   ]
  },
  {
   "cell_type": "code",
   "execution_count": 75,
   "metadata": {
    "collapsed": true
   },
   "outputs": [],
   "source": [
    "right1 = right1.query(\"country_code not in @a.index\")"
   ]
  },
  {
   "cell_type": "code",
   "execution_count": 105,
   "metadata": {
    "collapsed": false
   },
   "outputs": [],
   "source": [
    "ages = ddf.ddf_entities(it[0])['age']"
   ]
  },
  {
   "cell_type": "code",
   "execution_count": 195,
   "metadata": {
    "collapsed": false
   },
   "outputs": [],
   "source": [
    "af1 = ages[0:5].age.values"
   ]
  },
  {
   "cell_type": "code",
   "execution_count": 196,
   "metadata": {
    "collapsed": false
   },
   "outputs": [
    {
     "data": {
      "text/plain": [
       "array(['0', '1', '2', '3', '4'], dtype=object)"
      ]
     },
     "execution_count": 196,
     "metadata": {},
     "output_type": "execute_result"
    }
   ],
   "source": [
    "af1"
   ]
  },
  {
   "cell_type": "code",
   "execution_count": 111,
   "metadata": {
    "collapsed": false
   },
   "outputs": [],
   "source": [
    "# right = right1.query('gender == \"male\" & age in @af1')[['country_code', 'year', name_2]].copy()\n",
    "right_t = None"
   ]
  },
  {
   "cell_type": "code",
   "execution_count": 197,
   "metadata": {
    "collapsed": true
   },
   "outputs": [],
   "source": [
    "right_m = right1.query('gender == \"male\" & age in @af1')[['country_code', 'year', name_2]].copy()\n",
    "right_f = right1.query('gender == \"female\" & age in @af1')[['country_code', 'year', name_2]].copy()"
   ]
  },
  {
   "cell_type": "code",
   "execution_count": 198,
   "metadata": {
    "collapsed": true
   },
   "outputs": [],
   "source": [
    "right_m.columns = ['geo', 'time', name]\n",
    "right_m.geo = right_m.geo.map(lambda x: geo_map[x])\n",
    "right_m = right_m.groupby(['geo', 'time']).sum()\n",
    "# right_m = right_m.set_index(['geo', 'time'])\n",
    "\n",
    "right_f.columns = ['geo', 'time', name]\n",
    "right_f.geo = right_f.geo.map(lambda x: geo_map[x])\n",
    "right_f = right_f.groupby(['geo', 'time']).sum()\n",
    "# right_f = right_f.set_index(['geo', 'time'])"
   ]
  },
  {
   "cell_type": "code",
   "execution_count": 189,
   "metadata": {
    "collapsed": true
   },
   "outputs": [],
   "source": [
    "# right = right_m / right_f * 100  # sex ratio\n"
   ]
  },
  {
   "cell_type": "code",
   "execution_count": 171,
   "metadata": {
    "collapsed": false,
    "scrolled": true
   },
   "outputs": [
    {
     "data": {
      "text/html": [
       "<div>\n",
       "<table border=\"1\" class=\"dataframe\">\n",
       "  <thead>\n",
       "    <tr style=\"text-align: right;\">\n",
       "      <th></th>\n",
       "      <th></th>\n",
       "      <th>sex_ratio_15_49_years</th>\n",
       "    </tr>\n",
       "    <tr>\n",
       "      <th>geo</th>\n",
       "      <th>time</th>\n",
       "      <th></th>\n",
       "    </tr>\n",
       "  </thead>\n",
       "  <tbody>\n",
       "    <tr>\n",
       "      <th rowspan=\"61\" valign=\"top\">afg</th>\n",
       "      <th>1950</th>\n",
       "      <td>117.789286</td>\n",
       "    </tr>\n",
       "    <tr>\n",
       "      <th>1951</th>\n",
       "      <td>117.162665</td>\n",
       "    </tr>\n",
       "    <tr>\n",
       "      <th>1952</th>\n",
       "      <td>116.115214</td>\n",
       "    </tr>\n",
       "    <tr>\n",
       "      <th>1953</th>\n",
       "      <td>115.199762</td>\n",
       "    </tr>\n",
       "    <tr>\n",
       "      <th>1954</th>\n",
       "      <td>114.575063</td>\n",
       "    </tr>\n",
       "    <tr>\n",
       "      <th>1955</th>\n",
       "      <td>114.162812</td>\n",
       "    </tr>\n",
       "    <tr>\n",
       "      <th>1956</th>\n",
       "      <td>113.321068</td>\n",
       "    </tr>\n",
       "    <tr>\n",
       "      <th>1957</th>\n",
       "      <td>112.884428</td>\n",
       "    </tr>\n",
       "    <tr>\n",
       "      <th>1958</th>\n",
       "      <td>112.558944</td>\n",
       "    </tr>\n",
       "    <tr>\n",
       "      <th>1959</th>\n",
       "      <td>112.069579</td>\n",
       "    </tr>\n",
       "    <tr>\n",
       "      <th>1960</th>\n",
       "      <td>111.325360</td>\n",
       "    </tr>\n",
       "    <tr>\n",
       "      <th>1961</th>\n",
       "      <td>110.577320</td>\n",
       "    </tr>\n",
       "    <tr>\n",
       "      <th>1962</th>\n",
       "      <td>109.546526</td>\n",
       "    </tr>\n",
       "    <tr>\n",
       "      <th>1963</th>\n",
       "      <td>108.411676</td>\n",
       "    </tr>\n",
       "    <tr>\n",
       "      <th>1964</th>\n",
       "      <td>107.429158</td>\n",
       "    </tr>\n",
       "    <tr>\n",
       "      <th>1965</th>\n",
       "      <td>106.710711</td>\n",
       "    </tr>\n",
       "    <tr>\n",
       "      <th>1966</th>\n",
       "      <td>106.067319</td>\n",
       "    </tr>\n",
       "    <tr>\n",
       "      <th>1967</th>\n",
       "      <td>105.621694</td>\n",
       "    </tr>\n",
       "    <tr>\n",
       "      <th>1968</th>\n",
       "      <td>105.318135</td>\n",
       "    </tr>\n",
       "    <tr>\n",
       "      <th>1969</th>\n",
       "      <td>105.052617</td>\n",
       "    </tr>\n",
       "    <tr>\n",
       "      <th>1970</th>\n",
       "      <td>104.772774</td>\n",
       "    </tr>\n",
       "    <tr>\n",
       "      <th>1971</th>\n",
       "      <td>104.436235</td>\n",
       "    </tr>\n",
       "    <tr>\n",
       "      <th>1972</th>\n",
       "      <td>104.113663</td>\n",
       "    </tr>\n",
       "    <tr>\n",
       "      <th>1973</th>\n",
       "      <td>103.818776</td>\n",
       "    </tr>\n",
       "    <tr>\n",
       "      <th>1974</th>\n",
       "      <td>103.573472</td>\n",
       "    </tr>\n",
       "    <tr>\n",
       "      <th>1975</th>\n",
       "      <td>103.388310</td>\n",
       "    </tr>\n",
       "    <tr>\n",
       "      <th>1976</th>\n",
       "      <td>103.224487</td>\n",
       "    </tr>\n",
       "    <tr>\n",
       "      <th>1977</th>\n",
       "      <td>103.110019</td>\n",
       "    </tr>\n",
       "    <tr>\n",
       "      <th>1978</th>\n",
       "      <td>103.051890</td>\n",
       "    </tr>\n",
       "    <tr>\n",
       "      <th>1979</th>\n",
       "      <td>103.060162</td>\n",
       "    </tr>\n",
       "    <tr>\n",
       "      <th>...</th>\n",
       "      <td>...</td>\n",
       "    </tr>\n",
       "    <tr>\n",
       "      <th>2071</th>\n",
       "      <td>104.733146</td>\n",
       "    </tr>\n",
       "    <tr>\n",
       "      <th>2072</th>\n",
       "      <td>104.721595</td>\n",
       "    </tr>\n",
       "    <tr>\n",
       "      <th>2073</th>\n",
       "      <td>104.717619</td>\n",
       "    </tr>\n",
       "    <tr>\n",
       "      <th>2074</th>\n",
       "      <td>104.721452</td>\n",
       "    </tr>\n",
       "    <tr>\n",
       "      <th>2075</th>\n",
       "      <td>104.731996</td>\n",
       "    </tr>\n",
       "    <tr>\n",
       "      <th>2076</th>\n",
       "      <td>104.709409</td>\n",
       "    </tr>\n",
       "    <tr>\n",
       "      <th>2077</th>\n",
       "      <td>104.698121</td>\n",
       "    </tr>\n",
       "    <tr>\n",
       "      <th>2078</th>\n",
       "      <td>104.697685</td>\n",
       "    </tr>\n",
       "    <tr>\n",
       "      <th>2079</th>\n",
       "      <td>104.707596</td>\n",
       "    </tr>\n",
       "    <tr>\n",
       "      <th>2080</th>\n",
       "      <td>104.726429</td>\n",
       "    </tr>\n",
       "    <tr>\n",
       "      <th>2081</th>\n",
       "      <td>104.708022</td>\n",
       "    </tr>\n",
       "    <tr>\n",
       "      <th>2082</th>\n",
       "      <td>104.703026</td>\n",
       "    </tr>\n",
       "    <tr>\n",
       "      <th>2083</th>\n",
       "      <td>104.709824</td>\n",
       "    </tr>\n",
       "    <tr>\n",
       "      <th>2084</th>\n",
       "      <td>104.726427</td>\n",
       "    </tr>\n",
       "    <tr>\n",
       "      <th>2085</th>\n",
       "      <td>104.750169</td>\n",
       "    </tr>\n",
       "    <tr>\n",
       "      <th>2086</th>\n",
       "      <td>104.739666</td>\n",
       "    </tr>\n",
       "    <tr>\n",
       "      <th>2087</th>\n",
       "      <td>104.741038</td>\n",
       "    </tr>\n",
       "    <tr>\n",
       "      <th>2088</th>\n",
       "      <td>104.753458</td>\n",
       "    </tr>\n",
       "    <tr>\n",
       "      <th>2089</th>\n",
       "      <td>104.775724</td>\n",
       "    </tr>\n",
       "    <tr>\n",
       "      <th>2090</th>\n",
       "      <td>104.805760</td>\n",
       "    </tr>\n",
       "    <tr>\n",
       "      <th>2091</th>\n",
       "      <td>104.797048</td>\n",
       "    </tr>\n",
       "    <tr>\n",
       "      <th>2092</th>\n",
       "      <td>104.802189</td>\n",
       "    </tr>\n",
       "    <tr>\n",
       "      <th>2093</th>\n",
       "      <td>104.819896</td>\n",
       "    </tr>\n",
       "    <tr>\n",
       "      <th>2094</th>\n",
       "      <td>104.848595</td>\n",
       "    </tr>\n",
       "    <tr>\n",
       "      <th>2095</th>\n",
       "      <td>104.886186</td>\n",
       "    </tr>\n",
       "    <tr>\n",
       "      <th>2096</th>\n",
       "      <td>104.876492</td>\n",
       "    </tr>\n",
       "    <tr>\n",
       "      <th>2097</th>\n",
       "      <td>104.883219</td>\n",
       "    </tr>\n",
       "    <tr>\n",
       "      <th>2098</th>\n",
       "      <td>104.905405</td>\n",
       "    </tr>\n",
       "    <tr>\n",
       "      <th>2099</th>\n",
       "      <td>104.941386</td>\n",
       "    </tr>\n",
       "    <tr>\n",
       "      <th>2100</th>\n",
       "      <td>104.988902</td>\n",
       "    </tr>\n",
       "  </tbody>\n",
       "</table>\n",
       "<p>151 rows × 1 columns</p>\n",
       "</div>"
      ],
      "text/plain": [
       "          sex_ratio_15_49_years\n",
       "geo time                       \n",
       "afg 1950             117.789286\n",
       "    1951             117.162665\n",
       "    1952             116.115214\n",
       "    1953             115.199762\n",
       "    1954             114.575063\n",
       "    1955             114.162812\n",
       "    1956             113.321068\n",
       "    1957             112.884428\n",
       "    1958             112.558944\n",
       "    1959             112.069579\n",
       "    1960             111.325360\n",
       "    1961             110.577320\n",
       "    1962             109.546526\n",
       "    1963             108.411676\n",
       "    1964             107.429158\n",
       "    1965             106.710711\n",
       "    1966             106.067319\n",
       "    1967             105.621694\n",
       "    1968             105.318135\n",
       "    1969             105.052617\n",
       "    1970             104.772774\n",
       "    1971             104.436235\n",
       "    1972             104.113663\n",
       "    1973             103.818776\n",
       "    1974             103.573472\n",
       "    1975             103.388310\n",
       "    1976             103.224487\n",
       "    1977             103.110019\n",
       "    1978             103.051890\n",
       "    1979             103.060162\n",
       "...                         ...\n",
       "    2071             104.733146\n",
       "    2072             104.721595\n",
       "    2073             104.717619\n",
       "    2074             104.721452\n",
       "    2075             104.731996\n",
       "    2076             104.709409\n",
       "    2077             104.698121\n",
       "    2078             104.697685\n",
       "    2079             104.707596\n",
       "    2080             104.726429\n",
       "    2081             104.708022\n",
       "    2082             104.703026\n",
       "    2083             104.709824\n",
       "    2084             104.726427\n",
       "    2085             104.750169\n",
       "    2086             104.739666\n",
       "    2087             104.741038\n",
       "    2088             104.753458\n",
       "    2089             104.775724\n",
       "    2090             104.805760\n",
       "    2091             104.797048\n",
       "    2092             104.802189\n",
       "    2093             104.819896\n",
       "    2094             104.848595\n",
       "    2095             104.886186\n",
       "    2096             104.876492\n",
       "    2097             104.883219\n",
       "    2098             104.905405\n",
       "    2099             104.941386\n",
       "    2100             104.988902\n",
       "\n",
       "[151 rows x 1 columns]"
      ]
     },
     "execution_count": 171,
     "metadata": {},
     "output_type": "execute_result"
    }
   ],
   "source": [
    "right.query(\"geo == 'afg'\")"
   ]
  },
  {
   "cell_type": "code",
   "execution_count": 99,
   "metadata": {
    "collapsed": false
   },
   "outputs": [],
   "source": [
    "right.columns = ['geo', 'time', name]\n",
    "\n",
    "right.geo = right.geo.map(lambda x: geo_map[x])"
   ]
  },
  {
   "cell_type": "code",
   "execution_count": 100,
   "metadata": {
    "collapsed": false,
    "scrolled": true
   },
   "outputs": [],
   "source": [
    "right = right.groupby(['geo', 'time']).sum() * 1000"
   ]
  },
  {
   "cell_type": "code",
   "execution_count": 190,
   "metadata": {
    "collapsed": false
   },
   "outputs": [],
   "source": [
    "right.reset_index().sort_values(by=['geo', 'time'])\\\n",
    "[['geo', name, 'time']].to_csv('../ddf--datapoints--'+name+'--by--geo--time.csv', float_format='%.2f', index=False)"
   ]
  },
  {
   "cell_type": "code",
   "execution_count": null,
   "metadata": {
    "collapsed": true
   },
   "outputs": [],
   "source": []
  },
  {
   "cell_type": "code",
   "execution_count": 205,
   "metadata": {
    "collapsed": true
   },
   "outputs": [],
   "source": [
    "total_pop = right0[['country_code', 'year', name_2]].copy()\n",
    "\n",
    "total_pop.columns = ['geo', 'time', name_2]\n",
    "\n",
    "total_pop.geo = total_pop.geo.map(lambda x: geo_map[x])\n",
    "\n",
    "total_pop = total_pop.groupby(['geo', 'time']).sum()"
   ]
  },
  {
   "cell_type": "code",
   "execution_count": 212,
   "metadata": {
    "collapsed": false,
    "scrolled": true
   },
   "outputs": [
    {
     "name": "stdout",
     "output_type": "stream",
     "text": [
      "population_aged_0_4_years_both_sexes_percent\n",
      "population_aged_0_4_years_female_percent\n",
      "population_aged_0_4_years_male_percent\n",
      "population_aged_0_4_years_total_number\n",
      "population_aged_10_14_years_both_sexes_percent\n",
      "population_aged_10_14_years_female_percent\n",
      "population_aged_10_14_years_male_percent\n",
      "population_aged_10_14_years_total_number\n",
      "population_aged_15_19_years_both_sexes_percent\n",
      "population_aged_15_19_years_female_percent\n",
      "population_aged_15_19_years_male_percent\n",
      "population_aged_15_19_years_total_number\n",
      "population_aged_20_39_years_both_sexes_percent\n",
      "population_aged_20_39_years_female_percent\n",
      "population_aged_20_39_years_male_percent\n",
      "population_aged_20_39_years_total_number\n",
      "population_aged_40_59_years_both_sexes_percent\n",
      "population_aged_40_59_years_female_percent\n",
      "population_aged_40_59_years_male_percent\n",
      "population_aged_40_59_years_total_number\n",
      "population_aged_5_9_years_both_sexes_percent\n",
      "population_aged_5_9_years_female_percent\n",
      "population_aged_5_9_years_male_percent\n",
      "population_aged_5_9_years_total_number\n",
      "population_aged_60plus_years_both_sexes_percent\n",
      "population_aged_60plus_years_female_percent\n",
      "population_aged_60plus_years_male_percent\n",
      "population_aged_60plus_years_total_number\n"
     ]
    }
   ],
   "source": [
    "for i, v in l2.ix[it[1]].iloc[7:].iterrows():\n",
    "    name = v['gw_ddf_id']\n",
    "    print(name)\n",
    "    \n",
    "    if '0_4' in name:\n",
    "        af = ages[0:5].age.values\n",
    "    elif '10_14' in name:\n",
    "        af = ages[10:15].age.values\n",
    "    elif '15_19' in name:\n",
    "        af = ages[15:20].age.values\n",
    "    elif '20_39' in name:\n",
    "        af = ages[20:40].age.values\n",
    "    elif '40_59' in name:\n",
    "        af = ages[40:60].age.values\n",
    "    elif '5_9' in name:\n",
    "        af = ages[5:10].age.values\n",
    "    elif '60plus' in name:\n",
    "        af = ages[60:].age.values\n",
    "    \n",
    "    right_m = right1.query('gender == \"male\" & age in @af')[['country_code', 'year', name_2]].copy()\n",
    "    right_m.columns = ['geo', 'time', name]\n",
    "    right_m.geo = right_m.geo.map(lambda x: geo_map[x])\n",
    "    right_m = right_m.groupby(['geo', 'time']).sum()\n",
    "\n",
    "    right_f = right1.query('gender == \"female\" & age in @af')[['country_code', 'year', name_2]].copy()\n",
    "    right_f.columns = ['geo', 'time', name]\n",
    "    right_f.geo = right_f.geo.map(lambda x: geo_map[x])\n",
    "    right_f = right_f.groupby(['geo', 'time']).sum()\n",
    "    \n",
    "    total_pop.columns = [name]\n",
    "    \n",
    "    if 'male' in name:\n",
    "        right = right_m / total_pop * 100\n",
    "    \n",
    "    elif 'female' in name:\n",
    "        right = right_f / total_pop * 100\n",
    "        \n",
    "    elif 'both' in name:\n",
    "        right = (right_m + right_f) / total_pop * 100\n",
    "\n",
    "    elif 'total' in name:\n",
    "        right = right_m + right_f\n",
    "        \n",
    "    right = right.reset_index()\n",
    "#     print(right.columns)\n",
    "    right.columns = ['geo', 'time', name]\n",
    "    \n",
    "    if 'total' in name:\n",
    "        right[name] = right[name] * 1000\n",
    "        right.sort_values(by=['geo', 'time'])\\\n",
    "        [['geo', name, 'time']].to_csv('../ddf--datapoints--'+name+'--by--geo--time.csv', float_format='%.0f', index=False)\n",
    "        \n",
    "    else:\n",
    "        right.sort_values(by=['geo', 'time'])\\\n",
    "        [['geo', name, 'time']].to_csv('../ddf--datapoints--'+name+'--by--geo--time.csv', float_format='%.2f', index=False)\n",
    "     "
   ]
  },
  {
   "cell_type": "code",
   "execution_count": null,
   "metadata": {
    "collapsed": true
   },
   "outputs": [],
   "source": []
  },
  {
   "cell_type": "code",
   "execution_count": 213,
   "metadata": {
    "collapsed": false
   },
   "outputs": [
    {
     "data": {
      "text/html": [
       "<div>\n",
       "<table border=\"1\" class=\"dataframe\">\n",
       "  <thead>\n",
       "    <tr style=\"text-align: right;\">\n",
       "      <th></th>\n",
       "      <th>gw_ddf_id</th>\n",
       "      <th>found_in_ddf</th>\n",
       "      <th>ddf_concept_id</th>\n",
       "      <th>Notes</th>\n",
       "    </tr>\n",
       "  </thead>\n",
       "  <tbody>\n",
       "    <tr>\n",
       "      <th>7</th>\n",
       "      <td>co2_emissions_tonnes_per_person</td>\n",
       "      <td>ddf--cdiac-co2</td>\n",
       "      <td>per_capita_co2_emissions_metric_tons_of_carbon</td>\n",
       "      <td>Multiply by 3.667 to get the CO2 data</td>\n",
       "    </tr>\n",
       "    <tr>\n",
       "      <th>8</th>\n",
       "      <td>cumulative_co2_emissions_tonnes</td>\n",
       "      <td>ddf--cdiac-co2</td>\n",
       "      <td>total_co2_emissions_from_fossil_fuels_thousand...</td>\n",
       "      <td>the cumulative sum of yearly_co2_emissions_tonnes</td>\n",
       "    </tr>\n",
       "    <tr>\n",
       "      <th>9</th>\n",
       "      <td>yearly_co2_emissions_1000_tonnes</td>\n",
       "      <td>ddf--cdiac-co2</td>\n",
       "      <td>total_co2_emissions_from_fossil_fuels_thousand...</td>\n",
       "      <td>equals yearly_co2_emissions_tonnes / 1000</td>\n",
       "    </tr>\n",
       "    <tr>\n",
       "      <th>10</th>\n",
       "      <td>yearly_co2_emissions_tonnes</td>\n",
       "      <td>ddf--cdiac-co2</td>\n",
       "      <td>total_co2_emissions_from_fossil_fuels_thousand...</td>\n",
       "      <td>Multiply by 3.667 to get the CO2 data</td>\n",
       "    </tr>\n",
       "  </tbody>\n",
       "</table>\n",
       "</div>"
      ],
      "text/plain": [
       "                           gw_ddf_id    found_in_ddf  \\\n",
       "7    co2_emissions_tonnes_per_person  ddf--cdiac-co2   \n",
       "8    cumulative_co2_emissions_tonnes  ddf--cdiac-co2   \n",
       "9   yearly_co2_emissions_1000_tonnes  ddf--cdiac-co2   \n",
       "10       yearly_co2_emissions_tonnes  ddf--cdiac-co2   \n",
       "\n",
       "                                       ddf_concept_id  \\\n",
       "7      per_capita_co2_emissions_metric_tons_of_carbon   \n",
       "8   total_co2_emissions_from_fossil_fuels_thousand...   \n",
       "9   total_co2_emissions_from_fossil_fuels_thousand...   \n",
       "10  total_co2_emissions_from_fossil_fuels_thousand...   \n",
       "\n",
       "                                                Notes  \n",
       "7              Multiply by 3.667 to get the CO2 data   \n",
       "8   the cumulative sum of yearly_co2_emissions_tonnes  \n",
       "9           equals yearly_co2_emissions_tonnes / 1000  \n",
       "10             Multiply by 3.667 to get the CO2 data   "
      ]
     },
     "execution_count": 213,
     "metadata": {},
     "output_type": "execute_result"
    }
   ],
   "source": [
    "it = next(d)\n",
    "l2.ix[it[1]]  # TODO"
   ]
  },
  {
   "cell_type": "code",
   "execution_count": 489,
   "metadata": {
    "collapsed": false
   },
   "outputs": [],
   "source": [
    "name = l2.ix[[7, 8, 9, 10]].iloc[2].gw_ddf_id\n",
    "name_2 = l2.ix[[7, 8, 9, 10]].iloc[2].ddf_concept_id"
   ]
  },
  {
   "cell_type": "code",
   "execution_count": 354,
   "metadata": {
    "collapsed": true
   },
   "outputs": [],
   "source": [
    "ddf_id = 'ddf--cdiac-co2'"
   ]
  },
  {
   "cell_type": "code",
   "execution_count": 481,
   "metadata": {
    "collapsed": false
   },
   "outputs": [
    {
     "data": {
      "text/plain": [
       "'yearly_co2_emissions_1000_tonnes'"
      ]
     },
     "execution_count": 481,
     "metadata": {},
     "output_type": "execute_result"
    }
   ],
   "source": [
    "name"
   ]
  },
  {
   "cell_type": "code",
   "execution_count": 467,
   "metadata": {
    "collapsed": false
   },
   "outputs": [],
   "source": [
    "geo2 = right[['nation']].drop_duplicates()"
   ]
  },
  {
   "cell_type": "code",
   "execution_count": 468,
   "metadata": {
    "collapsed": false
   },
   "outputs": [],
   "source": [
    "from ddf_utils.str import to_concept_id\n",
    "\n",
    "geo2.columns = ['name']\n",
    "geo2['nation'] = geo2['name'].map(to_concept_id)\n",
    "\n",
    "geo2['name'] = geo2['name'].str.title()"
   ]
  },
  {
   "cell_type": "code",
   "execution_count": 469,
   "metadata": {
    "collapsed": false
   },
   "outputs": [],
   "source": [
    "geo_map = get_geo_map(geo2, 'nation')"
   ]
  },
  {
   "cell_type": "code",
   "execution_count": 472,
   "metadata": {
    "collapsed": false,
    "scrolled": true
   },
   "outputs": [
    {
     "data": {
      "text/html": [
       "<div>\n",
       "<table border=\"1\" class=\"dataframe\">\n",
       "  <thead>\n",
       "    <tr style=\"text-align: right;\">\n",
       "      <th></th>\n",
       "      <th>name</th>\n",
       "    </tr>\n",
       "  </thead>\n",
       "  <tbody>\n",
       "    <tr>\n",
       "      <th>antigua_barbuda</th>\n",
       "      <td>Antigua_Barbuda</td>\n",
       "    </tr>\n",
       "    <tr>\n",
       "      <th>bosnia_herzegovina</th>\n",
       "      <td>Bosnia_Herzegovina</td>\n",
       "    </tr>\n",
       "    <tr>\n",
       "      <th>british_virgin_islands</th>\n",
       "      <td>British_Virgin_Islands</td>\n",
       "    </tr>\n",
       "    <tr>\n",
       "      <th>brunei_darussalam</th>\n",
       "      <td>Brunei_Darussalam</td>\n",
       "    </tr>\n",
       "    <tr>\n",
       "      <th>cape_verde</th>\n",
       "      <td>Cape_Verde</td>\n",
       "    </tr>\n",
       "    <tr>\n",
       "      <th>cayman_islands</th>\n",
       "      <td>Cayman_Islands</td>\n",
       "    </tr>\n",
       "    <tr>\n",
       "      <th>central_african_republic</th>\n",
       "      <td>Central_African_Republic</td>\n",
       "    </tr>\n",
       "    <tr>\n",
       "      <th>china_mainland</th>\n",
       "      <td>China_Mainland</td>\n",
       "    </tr>\n",
       "    <tr>\n",
       "      <th>christmas_island</th>\n",
       "      <td>Christmas_Island</td>\n",
       "    </tr>\n",
       "    <tr>\n",
       "      <th>cook_islands</th>\n",
       "      <td>Cook_Islands</td>\n",
       "    </tr>\n",
       "    <tr>\n",
       "      <th>costa_rica</th>\n",
       "      <td>Costa_Rica</td>\n",
       "    </tr>\n",
       "    <tr>\n",
       "      <th>cote_d_ivoire</th>\n",
       "      <td>Cote_D_Ivoire</td>\n",
       "    </tr>\n",
       "    <tr>\n",
       "      <th>czech_republic</th>\n",
       "      <td>Czech_Republic</td>\n",
       "    </tr>\n",
       "    <tr>\n",
       "      <th>democratic_people_s_republic_of_korea</th>\n",
       "      <td>Democratic_People_S_Republic_Of_Korea</td>\n",
       "    </tr>\n",
       "    <tr>\n",
       "      <th>democratic_republic_of_the_congo_formerly_zaire</th>\n",
       "      <td>Democratic_Republic_Of_The_Congo_Formerly_Zaire</td>\n",
       "    </tr>\n",
       "    <tr>\n",
       "      <th>democratic_republic_of_vietnam</th>\n",
       "      <td>Democratic_Republic_Of_Vietnam</td>\n",
       "    </tr>\n",
       "    <tr>\n",
       "      <th>el_salvador</th>\n",
       "      <td>El_Salvador</td>\n",
       "    </tr>\n",
       "    <tr>\n",
       "      <th>equatorial_guinea</th>\n",
       "      <td>Equatorial_Guinea</td>\n",
       "    </tr>\n",
       "    <tr>\n",
       "      <th>faeroe_islands</th>\n",
       "      <td>Faeroe_Islands</td>\n",
       "    </tr>\n",
       "    <tr>\n",
       "      <th>falkland_islands_malvinas</th>\n",
       "      <td>Falkland_Islands_Malvinas</td>\n",
       "    </tr>\n",
       "    <tr>\n",
       "      <th>former_panama_canal_zone</th>\n",
       "      <td>Former_Panama_Canal_Zone</td>\n",
       "    </tr>\n",
       "    <tr>\n",
       "      <th>france_including_monaco</th>\n",
       "      <td>France_Including_Monaco</td>\n",
       "    </tr>\n",
       "    <tr>\n",
       "      <th>french_guiana</th>\n",
       "      <td>French_Guiana</td>\n",
       "    </tr>\n",
       "    <tr>\n",
       "      <th>french_polynesia</th>\n",
       "      <td>French_Polynesia</td>\n",
       "    </tr>\n",
       "    <tr>\n",
       "      <th>guinea_bissau</th>\n",
       "      <td>Guinea_Bissau</td>\n",
       "    </tr>\n",
       "    <tr>\n",
       "      <th>islamic_republic_of_iran</th>\n",
       "      <td>Islamic_Republic_Of_Iran</td>\n",
       "    </tr>\n",
       "    <tr>\n",
       "      <th>italy_including_san_marino</th>\n",
       "      <td>Italy_Including_San_Marino</td>\n",
       "    </tr>\n",
       "    <tr>\n",
       "      <th>japan_excluding_the_ruyuku_islands</th>\n",
       "      <td>Japan_Excluding_The_Ruyuku_Islands</td>\n",
       "    </tr>\n",
       "    <tr>\n",
       "      <th>kuwaiti_oil_fires</th>\n",
       "      <td>Kuwaiti_Oil_Fires</td>\n",
       "    </tr>\n",
       "    <tr>\n",
       "      <th>lao_people_s_democratic_republic</th>\n",
       "      <td>Lao_People_S_Democratic_Republic</td>\n",
       "    </tr>\n",
       "    <tr>\n",
       "      <th>...</th>\n",
       "      <td>...</td>\n",
       "    </tr>\n",
       "    <tr>\n",
       "      <th>marshall_islands</th>\n",
       "      <td>Marshall_Islands</td>\n",
       "    </tr>\n",
       "    <tr>\n",
       "      <th>netherland_antilles</th>\n",
       "      <td>Netherland_Antilles</td>\n",
       "    </tr>\n",
       "    <tr>\n",
       "      <th>new_caledonia</th>\n",
       "      <td>New_Caledonia</td>\n",
       "    </tr>\n",
       "    <tr>\n",
       "      <th>new_zealand</th>\n",
       "      <td>New_Zealand</td>\n",
       "    </tr>\n",
       "    <tr>\n",
       "      <th>occupied_palestinian_territory</th>\n",
       "      <td>Occupied_Palestinian_Territory</td>\n",
       "    </tr>\n",
       "    <tr>\n",
       "      <th>papua_new_guinea</th>\n",
       "      <td>Papua_New_Guinea</td>\n",
       "    </tr>\n",
       "    <tr>\n",
       "      <th>puerto_rico</th>\n",
       "      <td>Puerto_Rico</td>\n",
       "    </tr>\n",
       "    <tr>\n",
       "      <th>republic_of_cameroon</th>\n",
       "      <td>Republic_Of_Cameroon</td>\n",
       "    </tr>\n",
       "    <tr>\n",
       "      <th>republic_of_korea</th>\n",
       "      <td>Republic_Of_Korea</td>\n",
       "    </tr>\n",
       "    <tr>\n",
       "      <th>republic_of_south_vietnam</th>\n",
       "      <td>Republic_Of_South_Vietnam</td>\n",
       "    </tr>\n",
       "    <tr>\n",
       "      <th>russian_federation</th>\n",
       "      <td>Russian_Federation</td>\n",
       "    </tr>\n",
       "    <tr>\n",
       "      <th>ryukyu_islands</th>\n",
       "      <td>Ryukyu_Islands</td>\n",
       "    </tr>\n",
       "    <tr>\n",
       "      <th>saint_helena</th>\n",
       "      <td>Saint_Helena</td>\n",
       "    </tr>\n",
       "    <tr>\n",
       "      <th>saint_lucia</th>\n",
       "      <td>Saint_Lucia</td>\n",
       "    </tr>\n",
       "    <tr>\n",
       "      <th>sao_tome_principe</th>\n",
       "      <td>Sao_Tome_Principe</td>\n",
       "    </tr>\n",
       "    <tr>\n",
       "      <th>saudi_arabia</th>\n",
       "      <td>Saudi_Arabia</td>\n",
       "    </tr>\n",
       "    <tr>\n",
       "      <th>solomon_islands</th>\n",
       "      <td>Solomon_Islands</td>\n",
       "    </tr>\n",
       "    <tr>\n",
       "      <th>sri_lanka</th>\n",
       "      <td>Sri_Lanka</td>\n",
       "    </tr>\n",
       "    <tr>\n",
       "      <th>st_kitts_nevis</th>\n",
       "      <td>St_Kitts_Nevis</td>\n",
       "    </tr>\n",
       "    <tr>\n",
       "      <th>st_pierre_miquelon</th>\n",
       "      <td>St_Pierre_Miquelon</td>\n",
       "    </tr>\n",
       "    <tr>\n",
       "      <th>st_vincent_the_grenadines</th>\n",
       "      <td>St_Vincent_The_Grenadines</td>\n",
       "    </tr>\n",
       "    <tr>\n",
       "      <th>syrian_arab_republic</th>\n",
       "      <td>Syrian_Arab_Republic</td>\n",
       "    </tr>\n",
       "    <tr>\n",
       "      <th>timor_leste_formerly_east_timor</th>\n",
       "      <td>Timor_Leste_Formerly_East_Timor</td>\n",
       "    </tr>\n",
       "    <tr>\n",
       "      <th>trinidad_and_tobago</th>\n",
       "      <td>Trinidad_And_Tobago</td>\n",
       "    </tr>\n",
       "    <tr>\n",
       "      <th>united_arab_emirates</th>\n",
       "      <td>United_Arab_Emirates</td>\n",
       "    </tr>\n",
       "    <tr>\n",
       "      <th>united_kingdom</th>\n",
       "      <td>United_Kingdom</td>\n",
       "    </tr>\n",
       "    <tr>\n",
       "      <th>united_republic_of_tanzania</th>\n",
       "      <td>United_Republic_Of_Tanzania</td>\n",
       "    </tr>\n",
       "    <tr>\n",
       "      <th>united_states_of_america</th>\n",
       "      <td>United_States_Of_America</td>\n",
       "    </tr>\n",
       "    <tr>\n",
       "      <th>viet_nam</th>\n",
       "      <td>Viet_Nam</td>\n",
       "    </tr>\n",
       "    <tr>\n",
       "      <th>western_sahara</th>\n",
       "      <td>Western_Sahara</td>\n",
       "    </tr>\n",
       "  </tbody>\n",
       "</table>\n",
       "<p>61 rows × 1 columns</p>\n",
       "</div>"
      ],
      "text/plain": [
       "                                                                                            name\n",
       "antigua_barbuda                                                                  Antigua_Barbuda\n",
       "bosnia_herzegovina                                                            Bosnia_Herzegovina\n",
       "british_virgin_islands                                                    British_Virgin_Islands\n",
       "brunei_darussalam                                                              Brunei_Darussalam\n",
       "cape_verde                                                                            Cape_Verde\n",
       "cayman_islands                                                                    Cayman_Islands\n",
       "central_african_republic                                                Central_African_Republic\n",
       "china_mainland                                                                    China_Mainland\n",
       "christmas_island                                                                Christmas_Island\n",
       "cook_islands                                                                        Cook_Islands\n",
       "costa_rica                                                                            Costa_Rica\n",
       "cote_d_ivoire                                                                      Cote_D_Ivoire\n",
       "czech_republic                                                                    Czech_Republic\n",
       "democratic_people_s_republic_of_korea                      Democratic_People_S_Republic_Of_Korea\n",
       "democratic_republic_of_the_congo_formerly_zaire  Democratic_Republic_Of_The_Congo_Formerly_Zaire\n",
       "democratic_republic_of_vietnam                                    Democratic_Republic_Of_Vietnam\n",
       "el_salvador                                                                          El_Salvador\n",
       "equatorial_guinea                                                              Equatorial_Guinea\n",
       "faeroe_islands                                                                    Faeroe_Islands\n",
       "falkland_islands_malvinas                                              Falkland_Islands_Malvinas\n",
       "former_panama_canal_zone                                                Former_Panama_Canal_Zone\n",
       "france_including_monaco                                                  France_Including_Monaco\n",
       "french_guiana                                                                      French_Guiana\n",
       "french_polynesia                                                                French_Polynesia\n",
       "guinea_bissau                                                                      Guinea_Bissau\n",
       "islamic_republic_of_iran                                                Islamic_Republic_Of_Iran\n",
       "italy_including_san_marino                                            Italy_Including_San_Marino\n",
       "japan_excluding_the_ruyuku_islands                            Japan_Excluding_The_Ruyuku_Islands\n",
       "kuwaiti_oil_fires                                                              Kuwaiti_Oil_Fires\n",
       "lao_people_s_democratic_republic                                Lao_People_S_Democratic_Republic\n",
       "...                                                                                          ...\n",
       "marshall_islands                                                                Marshall_Islands\n",
       "netherland_antilles                                                          Netherland_Antilles\n",
       "new_caledonia                                                                      New_Caledonia\n",
       "new_zealand                                                                          New_Zealand\n",
       "occupied_palestinian_territory                                    Occupied_Palestinian_Territory\n",
       "papua_new_guinea                                                                Papua_New_Guinea\n",
       "puerto_rico                                                                          Puerto_Rico\n",
       "republic_of_cameroon                                                        Republic_Of_Cameroon\n",
       "republic_of_korea                                                              Republic_Of_Korea\n",
       "republic_of_south_vietnam                                              Republic_Of_South_Vietnam\n",
       "russian_federation                                                            Russian_Federation\n",
       "ryukyu_islands                                                                    Ryukyu_Islands\n",
       "saint_helena                                                                        Saint_Helena\n",
       "saint_lucia                                                                          Saint_Lucia\n",
       "sao_tome_principe                                                              Sao_Tome_Principe\n",
       "saudi_arabia                                                                        Saudi_Arabia\n",
       "solomon_islands                                                                  Solomon_Islands\n",
       "sri_lanka                                                                              Sri_Lanka\n",
       "st_kitts_nevis                                                                    St_Kitts_Nevis\n",
       "st_pierre_miquelon                                                            St_Pierre_Miquelon\n",
       "st_vincent_the_grenadines                                              St_Vincent_The_Grenadines\n",
       "syrian_arab_republic                                                        Syrian_Arab_Republic\n",
       "timor_leste_formerly_east_timor                                  Timor_Leste_Formerly_East_Timor\n",
       "trinidad_and_tobago                                                          Trinidad_And_Tobago\n",
       "united_arab_emirates                                                        United_Arab_Emirates\n",
       "united_kingdom                                                                    United_Kingdom\n",
       "united_republic_of_tanzania                                          United_Republic_Of_Tanzania\n",
       "united_states_of_america                                                United_States_Of_America\n",
       "viet_nam                                                                                Viet_Nam\n",
       "western_sahara                                                                    Western_Sahara\n",
       "\n",
       "[61 rows x 1 columns]"
      ]
     },
     "execution_count": 472,
     "metadata": {},
     "output_type": "execute_result"
    }
   ],
   "source": [
    "a = pd.DataFrame(data=geo_map, index=['map']).T\n",
    "a = a[a['map'].isnull()]\n",
    "\n",
    "geo2.set_index('nation').ix[a.index]"
   ]
  },
  {
   "cell_type": "code",
   "execution_count": 471,
   "metadata": {
    "collapsed": true
   },
   "outputs": [],
   "source": [
    "geo_map['federal_republic_of_germany'] = 'deu_west'\n",
    "geo_map['federated_states_of_micronesia'] = 'fsm'\n",
    "geo_map['former_democratic_yemen'] = 'yem_south'\n",
    "geo_map['former_german_democratic_republic'] = 'deu_east'\n",
    "\n",
    "geo_map['former_yemen'] = 'yem'\n",
    "geo_map['hong_kong_special_adminstrative_region_of_china'] = 'hkg'\n",
    "geo_map['macau_special_adminstrative_region_of_china'] = 'mac'\n",
    "geo_map['netherland_antilles_and_aruba'] = 'ant'\n",
    "\n",
    "geo_map['pacific_islands_palau'] = 'plw'\n",
    "geo_map['republic_of_moldova'] = 'mda'\n",
    "geo_map['turks_and_caicos_islands'] = 'tca'\n",
    "geo_map['ussr'] = 'ussr'\n",
    "geo_map['wallis_and_futuna_islands'] = 'wlf'\n",
    "\n",
    "\n",
    "geo_map['yugoslavia_former_socialist_federal_republic'] = 'mkd'\n",
    "geo_map['yugoslavia_montenegro_serbia'] = 'yug'"
   ]
  },
  {
   "cell_type": "code",
   "execution_count": 473,
   "metadata": {
    "collapsed": false,
    "scrolled": true
   },
   "outputs": [
    {
     "data": {
      "text/html": [
       "<div>\n",
       "<table border=\"1\" class=\"dataframe\">\n",
       "  <thead>\n",
       "    <tr style=\"text-align: right;\">\n",
       "      <th></th>\n",
       "      <th>map</th>\n",
       "    </tr>\n",
       "  </thead>\n",
       "  <tbody>\n",
       "    <tr>\n",
       "      <th>antigua_barbuda</th>\n",
       "      <td>NaN</td>\n",
       "    </tr>\n",
       "    <tr>\n",
       "      <th>bosnia_herzegovina</th>\n",
       "      <td>NaN</td>\n",
       "    </tr>\n",
       "    <tr>\n",
       "      <th>british_virgin_islands</th>\n",
       "      <td>NaN</td>\n",
       "    </tr>\n",
       "    <tr>\n",
       "      <th>brunei_darussalam</th>\n",
       "      <td>NaN</td>\n",
       "    </tr>\n",
       "    <tr>\n",
       "      <th>cape_verde</th>\n",
       "      <td>NaN</td>\n",
       "    </tr>\n",
       "    <tr>\n",
       "      <th>cayman_islands</th>\n",
       "      <td>NaN</td>\n",
       "    </tr>\n",
       "    <tr>\n",
       "      <th>central_african_republic</th>\n",
       "      <td>NaN</td>\n",
       "    </tr>\n",
       "    <tr>\n",
       "      <th>china_mainland</th>\n",
       "      <td>NaN</td>\n",
       "    </tr>\n",
       "    <tr>\n",
       "      <th>christmas_island</th>\n",
       "      <td>NaN</td>\n",
       "    </tr>\n",
       "    <tr>\n",
       "      <th>cook_islands</th>\n",
       "      <td>NaN</td>\n",
       "    </tr>\n",
       "    <tr>\n",
       "      <th>costa_rica</th>\n",
       "      <td>NaN</td>\n",
       "    </tr>\n",
       "    <tr>\n",
       "      <th>cote_d_ivoire</th>\n",
       "      <td>NaN</td>\n",
       "    </tr>\n",
       "    <tr>\n",
       "      <th>czech_republic</th>\n",
       "      <td>NaN</td>\n",
       "    </tr>\n",
       "    <tr>\n",
       "      <th>democratic_people_s_republic_of_korea</th>\n",
       "      <td>NaN</td>\n",
       "    </tr>\n",
       "    <tr>\n",
       "      <th>democratic_republic_of_the_congo_formerly_zaire</th>\n",
       "      <td>NaN</td>\n",
       "    </tr>\n",
       "    <tr>\n",
       "      <th>democratic_republic_of_vietnam</th>\n",
       "      <td>NaN</td>\n",
       "    </tr>\n",
       "    <tr>\n",
       "      <th>el_salvador</th>\n",
       "      <td>NaN</td>\n",
       "    </tr>\n",
       "    <tr>\n",
       "      <th>equatorial_guinea</th>\n",
       "      <td>NaN</td>\n",
       "    </tr>\n",
       "    <tr>\n",
       "      <th>faeroe_islands</th>\n",
       "      <td>NaN</td>\n",
       "    </tr>\n",
       "    <tr>\n",
       "      <th>falkland_islands_malvinas</th>\n",
       "      <td>NaN</td>\n",
       "    </tr>\n",
       "    <tr>\n",
       "      <th>former_panama_canal_zone</th>\n",
       "      <td>NaN</td>\n",
       "    </tr>\n",
       "    <tr>\n",
       "      <th>france_including_monaco</th>\n",
       "      <td>NaN</td>\n",
       "    </tr>\n",
       "    <tr>\n",
       "      <th>french_guiana</th>\n",
       "      <td>NaN</td>\n",
       "    </tr>\n",
       "    <tr>\n",
       "      <th>french_polynesia</th>\n",
       "      <td>NaN</td>\n",
       "    </tr>\n",
       "    <tr>\n",
       "      <th>guinea_bissau</th>\n",
       "      <td>NaN</td>\n",
       "    </tr>\n",
       "    <tr>\n",
       "      <th>islamic_republic_of_iran</th>\n",
       "      <td>NaN</td>\n",
       "    </tr>\n",
       "    <tr>\n",
       "      <th>italy_including_san_marino</th>\n",
       "      <td>NaN</td>\n",
       "    </tr>\n",
       "    <tr>\n",
       "      <th>japan_excluding_the_ruyuku_islands</th>\n",
       "      <td>NaN</td>\n",
       "    </tr>\n",
       "    <tr>\n",
       "      <th>kuwaiti_oil_fires</th>\n",
       "      <td>NaN</td>\n",
       "    </tr>\n",
       "    <tr>\n",
       "      <th>lao_people_s_democratic_republic</th>\n",
       "      <td>NaN</td>\n",
       "    </tr>\n",
       "    <tr>\n",
       "      <th>...</th>\n",
       "      <td>...</td>\n",
       "    </tr>\n",
       "    <tr>\n",
       "      <th>marshall_islands</th>\n",
       "      <td>NaN</td>\n",
       "    </tr>\n",
       "    <tr>\n",
       "      <th>netherland_antilles</th>\n",
       "      <td>NaN</td>\n",
       "    </tr>\n",
       "    <tr>\n",
       "      <th>new_caledonia</th>\n",
       "      <td>NaN</td>\n",
       "    </tr>\n",
       "    <tr>\n",
       "      <th>new_zealand</th>\n",
       "      <td>NaN</td>\n",
       "    </tr>\n",
       "    <tr>\n",
       "      <th>occupied_palestinian_territory</th>\n",
       "      <td>NaN</td>\n",
       "    </tr>\n",
       "    <tr>\n",
       "      <th>papua_new_guinea</th>\n",
       "      <td>NaN</td>\n",
       "    </tr>\n",
       "    <tr>\n",
       "      <th>puerto_rico</th>\n",
       "      <td>NaN</td>\n",
       "    </tr>\n",
       "    <tr>\n",
       "      <th>republic_of_cameroon</th>\n",
       "      <td>NaN</td>\n",
       "    </tr>\n",
       "    <tr>\n",
       "      <th>republic_of_korea</th>\n",
       "      <td>NaN</td>\n",
       "    </tr>\n",
       "    <tr>\n",
       "      <th>republic_of_south_vietnam</th>\n",
       "      <td>NaN</td>\n",
       "    </tr>\n",
       "    <tr>\n",
       "      <th>russian_federation</th>\n",
       "      <td>NaN</td>\n",
       "    </tr>\n",
       "    <tr>\n",
       "      <th>ryukyu_islands</th>\n",
       "      <td>NaN</td>\n",
       "    </tr>\n",
       "    <tr>\n",
       "      <th>saint_helena</th>\n",
       "      <td>NaN</td>\n",
       "    </tr>\n",
       "    <tr>\n",
       "      <th>saint_lucia</th>\n",
       "      <td>NaN</td>\n",
       "    </tr>\n",
       "    <tr>\n",
       "      <th>sao_tome_principe</th>\n",
       "      <td>NaN</td>\n",
       "    </tr>\n",
       "    <tr>\n",
       "      <th>saudi_arabia</th>\n",
       "      <td>NaN</td>\n",
       "    </tr>\n",
       "    <tr>\n",
       "      <th>solomon_islands</th>\n",
       "      <td>NaN</td>\n",
       "    </tr>\n",
       "    <tr>\n",
       "      <th>sri_lanka</th>\n",
       "      <td>NaN</td>\n",
       "    </tr>\n",
       "    <tr>\n",
       "      <th>st_kitts_nevis</th>\n",
       "      <td>NaN</td>\n",
       "    </tr>\n",
       "    <tr>\n",
       "      <th>st_pierre_miquelon</th>\n",
       "      <td>NaN</td>\n",
       "    </tr>\n",
       "    <tr>\n",
       "      <th>st_vincent_the_grenadines</th>\n",
       "      <td>NaN</td>\n",
       "    </tr>\n",
       "    <tr>\n",
       "      <th>syrian_arab_republic</th>\n",
       "      <td>NaN</td>\n",
       "    </tr>\n",
       "    <tr>\n",
       "      <th>timor_leste_formerly_east_timor</th>\n",
       "      <td>NaN</td>\n",
       "    </tr>\n",
       "    <tr>\n",
       "      <th>trinidad_and_tobago</th>\n",
       "      <td>NaN</td>\n",
       "    </tr>\n",
       "    <tr>\n",
       "      <th>united_arab_emirates</th>\n",
       "      <td>NaN</td>\n",
       "    </tr>\n",
       "    <tr>\n",
       "      <th>united_kingdom</th>\n",
       "      <td>NaN</td>\n",
       "    </tr>\n",
       "    <tr>\n",
       "      <th>united_republic_of_tanzania</th>\n",
       "      <td>NaN</td>\n",
       "    </tr>\n",
       "    <tr>\n",
       "      <th>united_states_of_america</th>\n",
       "      <td>NaN</td>\n",
       "    </tr>\n",
       "    <tr>\n",
       "      <th>viet_nam</th>\n",
       "      <td>NaN</td>\n",
       "    </tr>\n",
       "    <tr>\n",
       "      <th>western_sahara</th>\n",
       "      <td>NaN</td>\n",
       "    </tr>\n",
       "  </tbody>\n",
       "</table>\n",
       "<p>61 rows × 1 columns</p>\n",
       "</div>"
      ],
      "text/plain": [
       "                                                 map\n",
       "antigua_barbuda                                  NaN\n",
       "bosnia_herzegovina                               NaN\n",
       "british_virgin_islands                           NaN\n",
       "brunei_darussalam                                NaN\n",
       "cape_verde                                       NaN\n",
       "cayman_islands                                   NaN\n",
       "central_african_republic                         NaN\n",
       "china_mainland                                   NaN\n",
       "christmas_island                                 NaN\n",
       "cook_islands                                     NaN\n",
       "costa_rica                                       NaN\n",
       "cote_d_ivoire                                    NaN\n",
       "czech_republic                                   NaN\n",
       "democratic_people_s_republic_of_korea            NaN\n",
       "democratic_republic_of_the_congo_formerly_zaire  NaN\n",
       "democratic_republic_of_vietnam                   NaN\n",
       "el_salvador                                      NaN\n",
       "equatorial_guinea                                NaN\n",
       "faeroe_islands                                   NaN\n",
       "falkland_islands_malvinas                        NaN\n",
       "former_panama_canal_zone                         NaN\n",
       "france_including_monaco                          NaN\n",
       "french_guiana                                    NaN\n",
       "french_polynesia                                 NaN\n",
       "guinea_bissau                                    NaN\n",
       "islamic_republic_of_iran                         NaN\n",
       "italy_including_san_marino                       NaN\n",
       "japan_excluding_the_ruyuku_islands               NaN\n",
       "kuwaiti_oil_fires                                NaN\n",
       "lao_people_s_democratic_republic                 NaN\n",
       "...                                              ...\n",
       "marshall_islands                                 NaN\n",
       "netherland_antilles                              NaN\n",
       "new_caledonia                                    NaN\n",
       "new_zealand                                      NaN\n",
       "occupied_palestinian_territory                   NaN\n",
       "papua_new_guinea                                 NaN\n",
       "puerto_rico                                      NaN\n",
       "republic_of_cameroon                             NaN\n",
       "republic_of_korea                                NaN\n",
       "republic_of_south_vietnam                        NaN\n",
       "russian_federation                               NaN\n",
       "ryukyu_islands                                   NaN\n",
       "saint_helena                                     NaN\n",
       "saint_lucia                                      NaN\n",
       "sao_tome_principe                                NaN\n",
       "saudi_arabia                                     NaN\n",
       "solomon_islands                                  NaN\n",
       "sri_lanka                                        NaN\n",
       "st_kitts_nevis                                   NaN\n",
       "st_pierre_miquelon                               NaN\n",
       "st_vincent_the_grenadines                        NaN\n",
       "syrian_arab_republic                             NaN\n",
       "timor_leste_formerly_east_timor                  NaN\n",
       "trinidad_and_tobago                              NaN\n",
       "united_arab_emirates                             NaN\n",
       "united_kingdom                                   NaN\n",
       "united_republic_of_tanzania                      NaN\n",
       "united_states_of_america                         NaN\n",
       "viet_nam                                         NaN\n",
       "western_sahara                                   NaN\n",
       "\n",
       "[61 rows x 1 columns]"
      ]
     },
     "execution_count": 473,
     "metadata": {},
     "output_type": "execute_result"
    }
   ],
   "source": [
    "a"
   ]
  },
  {
   "cell_type": "code",
   "execution_count": null,
   "metadata": {
    "collapsed": true
   },
   "outputs": [],
   "source": []
  },
  {
   "cell_type": "code",
   "execution_count": 483,
   "metadata": {
    "collapsed": true
   },
   "outputs": [],
   "source": [
    "left = ddf.ddf_datapoint('ddf--gapminder--systema_globalis', name).set_index(['geo', 'time'])"
   ]
  },
  {
   "cell_type": "code",
   "execution_count": 440,
   "metadata": {
    "collapsed": false
   },
   "outputs": [],
   "source": [
    "right = ddf.ddf_datapoint(ddf_id, name_2)"
   ]
  },
  {
   "cell_type": "code",
   "execution_count": 357,
   "metadata": {
    "collapsed": true
   },
   "outputs": [],
   "source": [
    "versions = right.version.unique()"
   ]
  },
  {
   "cell_type": "code",
   "execution_count": 358,
   "metadata": {
    "collapsed": false
   },
   "outputs": [
    {
     "data": {
      "text/plain": [
       "array(['1751_2008', '1751_2009', '1751_2010', '1751_2011'], dtype=object)"
      ]
     },
     "execution_count": 358,
     "metadata": {},
     "output_type": "execute_result"
    }
   ],
   "source": [
    "versions"
   ]
  },
  {
   "cell_type": "code",
   "execution_count": 441,
   "metadata": {
    "collapsed": false
   },
   "outputs": [],
   "source": [
    "for v in versions[::-1]:\n",
    "    if v in right.version.unique():\n",
    "        right = right[right.version == v][['nation', 'year', name_2]].copy()\n",
    "        break"
   ]
  },
  {
   "cell_type": "code",
   "execution_count": 442,
   "metadata": {
    "collapsed": false
   },
   "outputs": [],
   "source": [
    "right.nation = right.nation.map(to_concept_id)"
   ]
  },
  {
   "cell_type": "code",
   "execution_count": 474,
   "metadata": {
    "collapsed": true
   },
   "outputs": [],
   "source": [
    "right = right.query(\"nation not in @a.index\")"
   ]
  },
  {
   "cell_type": "code",
   "execution_count": 475,
   "metadata": {
    "collapsed": false
   },
   "outputs": [],
   "source": [
    "right.nation = right.nation.map(lambda x: geo_map[x])"
   ]
  },
  {
   "cell_type": "code",
   "execution_count": 476,
   "metadata": {
    "collapsed": false
   },
   "outputs": [],
   "source": [
    "right.columns = ['geo', 'time', name]"
   ]
  },
  {
   "cell_type": "code",
   "execution_count": null,
   "metadata": {
    "collapsed": true
   },
   "outputs": [],
   "source": []
  },
  {
   "cell_type": "code",
   "execution_count": 477,
   "metadata": {
    "collapsed": true
   },
   "outputs": [],
   "source": [
    "right = right.set_index(['geo', 'time'])"
   ]
  },
  {
   "cell_type": "code",
   "execution_count": 478,
   "metadata": {
    "collapsed": true
   },
   "outputs": [],
   "source": [
    "rigth = right * 3.667"
   ]
  },
  {
   "cell_type": "code",
   "execution_count": 494,
   "metadata": {
    "collapsed": false
   },
   "outputs": [],
   "source": [
    "right.sort_index().reset_index()\\\n",
    "[[name, 'geo', 'time']].to_csv('../ddf--datapoints--'+name+'--by--geo--time.csv', float_format='%.2f', index=False)"
   ]
  },
  {
   "cell_type": "code",
   "execution_count": 526,
   "metadata": {
    "collapsed": false
   },
   "outputs": [],
   "source": [
    "right = right.reset_index()"
   ]
  },
  {
   "cell_type": "code",
   "execution_count": 530,
   "metadata": {
    "collapsed": false,
    "scrolled": true
   },
   "outputs": [],
   "source": [
    "to_concat = []\n",
    "\n",
    "for c, ids in right.groupby(['geo']).groups.items():\n",
    "    df = right.ix[ids].copy()\n",
    "    df[name] = df[name].cumsum()\n",
    "    \n",
    "    to_concat.append(df)"
   ]
  },
  {
   "cell_type": "code",
   "execution_count": 540,
   "metadata": {
    "collapsed": false
   },
   "outputs": [],
   "source": [
    "right = pd.concat(to_concat)"
   ]
  },
  {
   "cell_type": "code",
   "execution_count": null,
   "metadata": {
    "collapsed": true
   },
   "outputs": [],
   "source": []
  },
  {
   "cell_type": "code",
   "execution_count": 541,
   "metadata": {
    "collapsed": false
   },
   "outputs": [],
   "source": [
    "name = 'cumulative_co2_emissions_tonnes'\n",
    "\n",
    "right.columns = ['geo', 'time', name]\n",
    "\n",
    "right[name] = right[name] * 1000\n",
    "\n"
   ]
  },
  {
   "cell_type": "code",
   "execution_count": 542,
   "metadata": {
    "collapsed": true
   },
   "outputs": [],
   "source": [
    "right.sort_values(by=['geo', 'time'])\\\n",
    "[['geo', name, 'time']].to_csv('../ddf--datapoints--'+name+'--by--geo--time.csv', float_format='%.0f', index=False)"
   ]
  },
  {
   "cell_type": "code",
   "execution_count": null,
   "metadata": {
    "collapsed": true
   },
   "outputs": [],
   "source": []
  },
  {
   "cell_type": "code",
   "execution_count": 218,
   "metadata": {
    "collapsed": false
   },
   "outputs": [
    {
     "data": {
      "text/html": [
       "<div>\n",
       "<table border=\"1\" class=\"dataframe\">\n",
       "  <thead>\n",
       "    <tr style=\"text-align: right;\">\n",
       "      <th></th>\n",
       "      <th>gw_ddf_id</th>\n",
       "      <th>found_in_ddf</th>\n",
       "      <th>ddf_concept_id</th>\n",
       "      <th>Notes</th>\n",
       "    </tr>\n",
       "  </thead>\n",
       "  <tbody>\n",
       "    <tr>\n",
       "      <th>14</th>\n",
       "      <td>drought_affected_annual_number</td>\n",
       "      <td>ddf--cred--em_dat</td>\n",
       "      <td>affected</td>\n",
       "      <td>filter disaster == 'drought'</td>\n",
       "    </tr>\n",
       "    <tr>\n",
       "      <th>15</th>\n",
       "      <td>earthquake_affected_annual_number</td>\n",
       "      <td>ddf--cred--em_dat</td>\n",
       "      <td>affected</td>\n",
       "      <td>filter disaster == 'earthquake'</td>\n",
       "    </tr>\n",
       "    <tr>\n",
       "      <th>16</th>\n",
       "      <td>epidemic_affected_annual_number</td>\n",
       "      <td>ddf--cred--em_dat</td>\n",
       "      <td>affected</td>\n",
       "      <td>filter disaster == 'epidemic'</td>\n",
       "    </tr>\n",
       "    <tr>\n",
       "      <th>17</th>\n",
       "      <td>extreme_temperature_affected_annual_number</td>\n",
       "      <td>ddf--cred--em_dat</td>\n",
       "      <td>affected</td>\n",
       "      <td>filter disaster == 'extreme_temperature'</td>\n",
       "    </tr>\n",
       "    <tr>\n",
       "      <th>18</th>\n",
       "      <td>flood_affected_annual_number</td>\n",
       "      <td>ddf--cred--em_dat</td>\n",
       "      <td>affected</td>\n",
       "      <td>filter disaster == 'flood'</td>\n",
       "    </tr>\n",
       "    <tr>\n",
       "      <th>19</th>\n",
       "      <td>storm_affected_annual_number</td>\n",
       "      <td>ddf--cred--em_dat</td>\n",
       "      <td>affected</td>\n",
       "      <td>filter disaster == 'storm'</td>\n",
       "    </tr>\n",
       "    <tr>\n",
       "      <th>20</th>\n",
       "      <td>drought_deaths_annual_number</td>\n",
       "      <td>ddf--cred--em_dat</td>\n",
       "      <td>total_deaths</td>\n",
       "      <td>filter disaster == 'drought'</td>\n",
       "    </tr>\n",
       "    <tr>\n",
       "      <th>21</th>\n",
       "      <td>earthquake_deaths_annual_number</td>\n",
       "      <td>ddf--cred--em_dat</td>\n",
       "      <td>total_deaths</td>\n",
       "      <td>filter disaster == 'earthquake'</td>\n",
       "    </tr>\n",
       "    <tr>\n",
       "      <th>22</th>\n",
       "      <td>epidemic_deaths_annual_number</td>\n",
       "      <td>ddf--cred--em_dat</td>\n",
       "      <td>total_deaths</td>\n",
       "      <td>filter disaster == 'epidemic'</td>\n",
       "    </tr>\n",
       "    <tr>\n",
       "      <th>23</th>\n",
       "      <td>extreme_temperature_deaths_annual_number</td>\n",
       "      <td>ddf--cred--em_dat</td>\n",
       "      <td>total_deaths</td>\n",
       "      <td>filter disaster == 'extreme_temperature'</td>\n",
       "    </tr>\n",
       "    <tr>\n",
       "      <th>24</th>\n",
       "      <td>flood_deaths_annual_number</td>\n",
       "      <td>ddf--cred--em_dat</td>\n",
       "      <td>total_deaths</td>\n",
       "      <td>filter disaster == 'flood'</td>\n",
       "    </tr>\n",
       "    <tr>\n",
       "      <th>25</th>\n",
       "      <td>storm_deaths_annual_number</td>\n",
       "      <td>ddf--cred--em_dat</td>\n",
       "      <td>total_deaths</td>\n",
       "      <td>filter disaster == 'storm'</td>\n",
       "    </tr>\n",
       "  </tbody>\n",
       "</table>\n",
       "</div>"
      ],
      "text/plain": [
       "                                     gw_ddf_id       found_in_ddf  \\\n",
       "14              drought_affected_annual_number  ddf--cred--em_dat   \n",
       "15           earthquake_affected_annual_number  ddf--cred--em_dat   \n",
       "16             epidemic_affected_annual_number  ddf--cred--em_dat   \n",
       "17  extreme_temperature_affected_annual_number  ddf--cred--em_dat   \n",
       "18                flood_affected_annual_number  ddf--cred--em_dat   \n",
       "19                storm_affected_annual_number  ddf--cred--em_dat   \n",
       "20                drought_deaths_annual_number  ddf--cred--em_dat   \n",
       "21             earthquake_deaths_annual_number  ddf--cred--em_dat   \n",
       "22               epidemic_deaths_annual_number  ddf--cred--em_dat   \n",
       "23    extreme_temperature_deaths_annual_number  ddf--cred--em_dat   \n",
       "24                  flood_deaths_annual_number  ddf--cred--em_dat   \n",
       "25                  storm_deaths_annual_number  ddf--cred--em_dat   \n",
       "\n",
       "   ddf_concept_id                                     Notes  \n",
       "14       affected              filter disaster == 'drought'  \n",
       "15       affected           filter disaster == 'earthquake'  \n",
       "16       affected             filter disaster == 'epidemic'  \n",
       "17       affected  filter disaster == 'extreme_temperature'  \n",
       "18       affected                filter disaster == 'flood'  \n",
       "19       affected                filter disaster == 'storm'  \n",
       "20   total_deaths              filter disaster == 'drought'  \n",
       "21   total_deaths           filter disaster == 'earthquake'  \n",
       "22   total_deaths             filter disaster == 'epidemic'  \n",
       "23   total_deaths  filter disaster == 'extreme_temperature'  \n",
       "24   total_deaths                filter disaster == 'flood'  \n",
       "25   total_deaths                filter disaster == 'storm'  "
      ]
     },
     "execution_count": 218,
     "metadata": {},
     "output_type": "execute_result"
    }
   ],
   "source": [
    "it = next(d)\n",
    "l2.ix[it[1]]"
   ]
  },
  {
   "cell_type": "code",
   "execution_count": 327,
   "metadata": {
    "collapsed": true
   },
   "outputs": [],
   "source": [
    "name = l2.ix[it[1]].iloc[11].gw_ddf_id\n",
    "name_2 = l2.ix[it[1]].iloc[11].ddf_concept_id"
   ]
  },
  {
   "cell_type": "code",
   "execution_count": 328,
   "metadata": {
    "collapsed": false
   },
   "outputs": [
    {
     "data": {
      "text/plain": [
       "'storm_deaths_annual_number'"
      ]
     },
     "execution_count": 328,
     "metadata": {},
     "output_type": "execute_result"
    }
   ],
   "source": [
    "name"
   ]
  },
  {
   "cell_type": "code",
   "execution_count": 482,
   "metadata": {
    "collapsed": true
   },
   "outputs": [],
   "source": [
    "left = ddf.ddf_datapoint('ddf--gapminder--systema_globalis', name).set_index(['geo', 'time'])"
   ]
  },
  {
   "cell_type": "code",
   "execution_count": 329,
   "metadata": {
    "collapsed": true
   },
   "outputs": [],
   "source": [
    "right = ddf.ddf_datapoint(it[0], name_2)"
   ]
  },
  {
   "cell_type": "code",
   "execution_count": 330,
   "metadata": {
    "collapsed": false
   },
   "outputs": [],
   "source": [
    "right = right.query(\"disaster == 'storm'\")[['country', 'year', name_2]]"
   ]
  },
  {
   "cell_type": "code",
   "execution_count": 331,
   "metadata": {
    "collapsed": false
   },
   "outputs": [],
   "source": [
    "right.columns = ['geo', 'time', name]\n",
    "\n",
    "right = right.set_index(['geo', 'time'])"
   ]
  },
  {
   "cell_type": "code",
   "execution_count": 332,
   "metadata": {
    "collapsed": false
   },
   "outputs": [],
   "source": [
    "# final = pd.merge(right, left, how='outer', left_index=True, right_index=True, on=name)"
   ]
  },
  {
   "cell_type": "code",
   "execution_count": 333,
   "metadata": {
    "collapsed": true
   },
   "outputs": [],
   "source": [
    "right.sort_index().reset_index()\\\n",
    "[['geo', name, 'time']].to_csv('../ddf--datapoints--'+name+'--by--geo--time.csv', float_format='%.0f', index=False)"
   ]
  },
  {
   "cell_type": "code",
   "execution_count": null,
   "metadata": {
    "collapsed": true
   },
   "outputs": [],
   "source": []
  },
  {
   "cell_type": "code",
   "execution_count": null,
   "metadata": {
    "collapsed": true
   },
   "outputs": [],
   "source": []
  },
  {
   "cell_type": "code",
   "execution_count": 348,
   "metadata": {
    "collapsed": false
   },
   "outputs": [
    {
     "ename": "StopIteration",
     "evalue": "",
     "output_type": "error",
     "traceback": [
      "\u001b[0;31m---------------------------------------------------------------------------\u001b[0m",
      "\u001b[0;31mStopIteration\u001b[0m                             Traceback (most recent call last)",
      "\u001b[0;32m<ipython-input-348-f391852d3467>\u001b[0m in \u001b[0;36m<module>\u001b[0;34m()\u001b[0m\n\u001b[0;32m----> 1\u001b[0;31m \u001b[0mit\u001b[0m \u001b[0;34m=\u001b[0m \u001b[0mnext\u001b[0m\u001b[0;34m(\u001b[0m\u001b[0md\u001b[0m\u001b[0;34m)\u001b[0m\u001b[0;34m\u001b[0m\u001b[0m\n\u001b[0m\u001b[1;32m      2\u001b[0m \u001b[0ml2\u001b[0m\u001b[0;34m.\u001b[0m\u001b[0mix\u001b[0m\u001b[0;34m[\u001b[0m\u001b[0mit\u001b[0m\u001b[0;34m[\u001b[0m\u001b[0;36m1\u001b[0m\u001b[0;34m]\u001b[0m\u001b[0;34m]\u001b[0m\u001b[0;34m\u001b[0m\u001b[0m\n",
      "\u001b[0;31mStopIteration\u001b[0m: "
     ]
    }
   ],
   "source": [
    "it = next(d)\n",
    "l2.ix[it[1]]"
   ]
  },
  {
   "cell_type": "code",
   "execution_count": null,
   "metadata": {
    "collapsed": true
   },
   "outputs": [],
   "source": []
  },
  {
   "cell_type": "code",
   "execution_count": null,
   "metadata": {
    "collapsed": true
   },
   "outputs": [],
   "source": []
  }
 ],
 "metadata": {
  "kernelspec": {
   "display_name": "Python 3",
   "language": "python",
   "name": "python3"
  },
  "language_info": {
   "codemirror_mode": {
    "name": "ipython",
    "version": 3
   },
   "file_extension": ".py",
   "mimetype": "text/x-python",
   "name": "python",
   "nbconvert_exporter": "python",
   "pygments_lexer": "ipython3",
   "version": "3.5.2"
  }
 },
 "nbformat": 4,
 "nbformat_minor": 0
}
