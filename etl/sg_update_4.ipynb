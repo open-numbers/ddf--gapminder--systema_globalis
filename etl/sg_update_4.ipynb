{
 "cells": [
  {
   "cell_type": "code",
   "execution_count": 1,
   "metadata": {
    "collapsed": true
   },
   "outputs": [],
   "source": [
    "import pandas as pd\n",
    "import numpy as np\n",
    "import os\n",
    "import ddf_utils.ddf_reader as ddf"
   ]
  },
  {
   "cell_type": "code",
   "execution_count": 2,
   "metadata": {
    "collapsed": true
   },
   "outputs": [],
   "source": [
    "ddf.SEARCH_PATH = \"/Users/semio/src/work/Gapminder/\""
   ]
  },
  {
   "cell_type": "code",
   "execution_count": 3,
   "metadata": {
    "collapsed": true
   },
   "outputs": [],
   "source": [
    "l = pd.read_csv('./GW_indicators_list.csv')"
   ]
  },
  {
   "cell_type": "code",
   "execution_count": 4,
   "metadata": {
    "collapsed": true
   },
   "outputs": [],
   "source": [
    "l2 = l[['gw_ddf_id', 'found_in_ddf', 'ddf_concept_id', 'Notes']]\n",
    "l2 = l2[~l2['found_in_ddf'].isnull()]"
   ]
  },
  {
   "cell_type": "code",
   "execution_count": 6,
   "metadata": {
    "collapsed": true
   },
   "outputs": [],
   "source": [
    "geo = ddf.ddf_entities('ddf--gapminder--geo_entity_domain')['country']"
   ]
  },
  {
   "cell_type": "code",
   "execution_count": 7,
   "metadata": {
    "collapsed": true
   },
   "outputs": [],
   "source": [
    "def get_geo_map(geo_2, column='area'):\n",
    "\n",
    "    geo_map = {} \n",
    "\n",
    "    cols = ['alternative_1', 'alternative_2', 'alternative_3', 'gapminder_list',\n",
    "           'alternative_4_cdiac', 'pandg', 'god_id', 'alt_5', 'upper_case_name',\n",
    "           'code', 'arb1', 'arb2', 'arb3', 'arb4', 'arb5', 'arb6', 'name']\n",
    "\n",
    "    for i, v in geo_2.iterrows():\n",
    "\n",
    "        geo_map[v[column]] = np.nan\n",
    "\n",
    "\n",
    "        for c in cols:\n",
    "            f = geo[geo[c] == v['name'].strip()]\n",
    "            if len(f) > 0:\n",
    "                geo_map[v[column]] = f['country'].values[0]\n",
    "            if len(f) > 1:\n",
    "                print(f)\n",
    "                \n",
    "    return geo_map"
   ]
  },
  {
   "cell_type": "code",
   "execution_count": null,
   "metadata": {
    "collapsed": true
   },
   "outputs": [],
   "source": []
  },
  {
   "cell_type": "code",
   "execution_count": null,
   "metadata": {
    "collapsed": true
   },
   "outputs": [],
   "source": []
  },
  {
   "cell_type": "code",
   "execution_count": 8,
   "metadata": {
    "collapsed": true
   },
   "outputs": [],
   "source": [
    "# OECD"
   ]
  },
  {
   "cell_type": "code",
   "execution_count": 10,
   "metadata": {
    "collapsed": false
   },
   "outputs": [
    {
     "data": {
      "text/html": [
       "<div>\n",
       "<table border=\"1\" class=\"dataframe\">\n",
       "  <thead>\n",
       "    <tr style=\"text-align: right;\">\n",
       "      <th></th>\n",
       "      <th>gw_ddf_id</th>\n",
       "      <th>found_in_ddf</th>\n",
       "      <th>ddf_concept_id</th>\n",
       "      <th>Notes</th>\n",
       "    </tr>\n",
       "  </thead>\n",
       "  <tbody>\n",
       "    <tr>\n",
       "      <th>128</th>\n",
       "      <td>aid_given_2007_us</td>\n",
       "      <td>ddf--oecd--dac</td>\n",
       "      <td>NaN</td>\n",
       "      <td>1. OECD don't have 2007 dollar data already 2....</td>\n",
       "    </tr>\n",
       "    <tr>\n",
       "      <th>129</th>\n",
       "      <td>aid_given_per_person_2007_us</td>\n",
       "      <td>ddf--oecd--dac</td>\n",
       "      <td>NaN</td>\n",
       "      <td>1. OECD don't have 2007 dollar data already 2....</td>\n",
       "    </tr>\n",
       "    <tr>\n",
       "      <th>130</th>\n",
       "      <td>aid_given_percent_of_gni</td>\n",
       "      <td>ddf--oecd--dac</td>\n",
       "      <td>NaN</td>\n",
       "      <td>1. OECD don't have 2007 dollar data already 2....</td>\n",
       "    </tr>\n",
       "    <tr>\n",
       "      <th>131</th>\n",
       "      <td>economical_infrastructure_aid_given_percent_of...</td>\n",
       "      <td>ddf--oecd--dac</td>\n",
       "      <td>NaN</td>\n",
       "      <td>1. OECD don't have 2007 dollar data already 2....</td>\n",
       "    </tr>\n",
       "    <tr>\n",
       "      <th>132</th>\n",
       "      <td>education_aid_given_percent_of_aid</td>\n",
       "      <td>ddf--oecd--dac</td>\n",
       "      <td>NaN</td>\n",
       "      <td>1. OECD don't have 2007 dollar data already 2....</td>\n",
       "    </tr>\n",
       "    <tr>\n",
       "      <th>133</th>\n",
       "      <td>government_and_society_aid_given_percent_of_aid</td>\n",
       "      <td>ddf--oecd--dac</td>\n",
       "      <td>NaN</td>\n",
       "      <td>1. OECD don't have 2007 dollar data already 2....</td>\n",
       "    </tr>\n",
       "    <tr>\n",
       "      <th>134</th>\n",
       "      <td>health_aid_given_percent_of_aid</td>\n",
       "      <td>ddf--oecd--dac</td>\n",
       "      <td>NaN</td>\n",
       "      <td>1. OECD don't have 2007 dollar data already 2....</td>\n",
       "    </tr>\n",
       "    <tr>\n",
       "      <th>135</th>\n",
       "      <td>multisector_cross_cutting_aid_given_percent_of...</td>\n",
       "      <td>ddf--oecd--dac</td>\n",
       "      <td>NaN</td>\n",
       "      <td>1. OECD don't have 2007 dollar data already 2....</td>\n",
       "    </tr>\n",
       "    <tr>\n",
       "      <th>136</th>\n",
       "      <td>other_social_services_aid_given_percent_of_aid</td>\n",
       "      <td>ddf--oecd--dac</td>\n",
       "      <td>NaN</td>\n",
       "      <td>1. OECD don't have 2007 dollar data already 2....</td>\n",
       "    </tr>\n",
       "    <tr>\n",
       "      <th>137</th>\n",
       "      <td>population_policies_aid_given_percent_of_aid</td>\n",
       "      <td>ddf--oecd--dac</td>\n",
       "      <td>NaN</td>\n",
       "      <td>1. OECD don't have 2007 dollar data already 2....</td>\n",
       "    </tr>\n",
       "    <tr>\n",
       "      <th>138</th>\n",
       "      <td>production_sector_aid_given_percent_of_aid</td>\n",
       "      <td>ddf--oecd--dac</td>\n",
       "      <td>NaN</td>\n",
       "      <td>1. OECD don't have 2007 dollar data already 2....</td>\n",
       "    </tr>\n",
       "    <tr>\n",
       "      <th>139</th>\n",
       "      <td>water_and_sanitation_aid_given_percent_of_aid</td>\n",
       "      <td>ddf--oecd--dac</td>\n",
       "      <td>NaN</td>\n",
       "      <td>1. OECD don't have 2007 dollar data already 2....</td>\n",
       "    </tr>\n",
       "  </tbody>\n",
       "</table>\n",
       "</div>"
      ],
      "text/plain": [
       "                                             gw_ddf_id    found_in_ddf  \\\n",
       "128                                  aid_given_2007_us  ddf--oecd--dac   \n",
       "129                       aid_given_per_person_2007_us  ddf--oecd--dac   \n",
       "130                           aid_given_percent_of_gni  ddf--oecd--dac   \n",
       "131  economical_infrastructure_aid_given_percent_of...  ddf--oecd--dac   \n",
       "132                 education_aid_given_percent_of_aid  ddf--oecd--dac   \n",
       "133    government_and_society_aid_given_percent_of_aid  ddf--oecd--dac   \n",
       "134                    health_aid_given_percent_of_aid  ddf--oecd--dac   \n",
       "135  multisector_cross_cutting_aid_given_percent_of...  ddf--oecd--dac   \n",
       "136     other_social_services_aid_given_percent_of_aid  ddf--oecd--dac   \n",
       "137       population_policies_aid_given_percent_of_aid  ddf--oecd--dac   \n",
       "138         production_sector_aid_given_percent_of_aid  ddf--oecd--dac   \n",
       "139      water_and_sanitation_aid_given_percent_of_aid  ddf--oecd--dac   \n",
       "\n",
       "    ddf_concept_id                                              Notes  \n",
       "128            NaN  1. OECD don't have 2007 dollar data already 2....  \n",
       "129            NaN  1. OECD don't have 2007 dollar data already 2....  \n",
       "130            NaN  1. OECD don't have 2007 dollar data already 2....  \n",
       "131            NaN  1. OECD don't have 2007 dollar data already 2....  \n",
       "132            NaN  1. OECD don't have 2007 dollar data already 2....  \n",
       "133            NaN  1. OECD don't have 2007 dollar data already 2....  \n",
       "134            NaN  1. OECD don't have 2007 dollar data already 2....  \n",
       "135            NaN  1. OECD don't have 2007 dollar data already 2....  \n",
       "136            NaN  1. OECD don't have 2007 dollar data already 2....  \n",
       "137            NaN  1. OECD don't have 2007 dollar data already 2....  \n",
       "138            NaN  1. OECD don't have 2007 dollar data already 2....  \n",
       "139            NaN  1. OECD don't have 2007 dollar data already 2....  "
      ]
     },
     "execution_count": 10,
     "metadata": {},
     "output_type": "execute_result"
    }
   ],
   "source": [
    "oecd = l2[l2['found_in_ddf'].str.contains('oecd')]\n",
    "\n",
    "oecd"
   ]
  },
  {
   "cell_type": "code",
   "execution_count": 24,
   "metadata": {
    "collapsed": true
   },
   "outputs": [],
   "source": [
    "geo2 = ddf.ddf_entities('ddf--oecd--dac')['donor']\n",
    "\n",
    "geo_map = get_geo_map(geo2, 'donor')"
   ]
  },
  {
   "cell_type": "code",
   "execution_count": 25,
   "metadata": {
    "collapsed": false,
    "scrolled": true
   },
   "outputs": [
    {
     "data": {
      "text/html": [
       "<div>\n",
       "<table border=\"1\" class=\"dataframe\">\n",
       "  <thead>\n",
       "    <tr style=\"text-align: right;\">\n",
       "      <th></th>\n",
       "      <th>name</th>\n",
       "    </tr>\n",
       "  </thead>\n",
       "  <tbody>\n",
       "    <tr>\n",
       "      <th>104</th>\n",
       "      <td>Nordic Development Fund [NDF]</td>\n",
       "    </tr>\n",
       "    <tr>\n",
       "      <th>552</th>\n",
       "      <td>Kuwait [KFAED]</td>\n",
       "    </tr>\n",
       "    <tr>\n",
       "      <th>811</th>\n",
       "      <td>Global Environment Facility [GEF]</td>\n",
       "    </tr>\n",
       "    <tr>\n",
       "      <th>901</th>\n",
       "      <td>International Bank for Reconstruction and Deve...</td>\n",
       "    </tr>\n",
       "    <tr>\n",
       "      <th>903</th>\n",
       "      <td>International Finance Corporation [IFC]</td>\n",
       "    </tr>\n",
       "    <tr>\n",
       "      <th>905</th>\n",
       "      <td>International Development Association [IDA]</td>\n",
       "    </tr>\n",
       "    <tr>\n",
       "      <th>906</th>\n",
       "      <td>Caribbean Development Bank [CarDB]</td>\n",
       "    </tr>\n",
       "    <tr>\n",
       "      <th>909</th>\n",
       "      <td>Inter-American Development Bank [IDB]</td>\n",
       "    </tr>\n",
       "    <tr>\n",
       "      <th>912</th>\n",
       "      <td>IDB Special Fund</td>\n",
       "    </tr>\n",
       "    <tr>\n",
       "      <th>913</th>\n",
       "      <td>African Development Bank [AfDB]</td>\n",
       "    </tr>\n",
       "    <tr>\n",
       "      <th>914</th>\n",
       "      <td>African Development Fund [AfDF]</td>\n",
       "    </tr>\n",
       "    <tr>\n",
       "      <th>915</th>\n",
       "      <td>Asian Development Bank [AsDB]</td>\n",
       "    </tr>\n",
       "    <tr>\n",
       "      <th>916</th>\n",
       "      <td>AsDB Special Funds</td>\n",
       "    </tr>\n",
       "    <tr>\n",
       "      <th>918</th>\n",
       "      <td>EU Institutions</td>\n",
       "    </tr>\n",
       "    <tr>\n",
       "      <th>921</th>\n",
       "      <td>Arab Fund [AFESD]</td>\n",
       "    </tr>\n",
       "    <tr>\n",
       "      <th>923</th>\n",
       "      <td>UN Peacebuilding Fund [UNPBF]</td>\n",
       "    </tr>\n",
       "    <tr>\n",
       "      <th>928</th>\n",
       "      <td>World Health Organisation [WHO]</td>\n",
       "    </tr>\n",
       "    <tr>\n",
       "      <th>932</th>\n",
       "      <td>Food and Agriculture Organisation [FAO]</td>\n",
       "    </tr>\n",
       "    <tr>\n",
       "      <th>940</th>\n",
       "      <td>International Labour Organisation</td>\n",
       "    </tr>\n",
       "    <tr>\n",
       "      <th>948</th>\n",
       "      <td>UNECE</td>\n",
       "    </tr>\n",
       "    <tr>\n",
       "      <th>951</th>\n",
       "      <td>OPEC Fund for International Development [OFID]</td>\n",
       "    </tr>\n",
       "    <tr>\n",
       "      <th>953</th>\n",
       "      <td>Arab Bank for Economic Development in Africa [...</td>\n",
       "    </tr>\n",
       "    <tr>\n",
       "      <th>958</th>\n",
       "      <td>IMF (Concessional Trust Funds)</td>\n",
       "    </tr>\n",
       "    <tr>\n",
       "      <th>959</th>\n",
       "      <td>UNDP</td>\n",
       "    </tr>\n",
       "    <tr>\n",
       "      <th>963</th>\n",
       "      <td>UNICEF</td>\n",
       "    </tr>\n",
       "    <tr>\n",
       "      <th>964</th>\n",
       "      <td>UNRWA</td>\n",
       "    </tr>\n",
       "    <tr>\n",
       "      <th>966</th>\n",
       "      <td>WFP</td>\n",
       "    </tr>\n",
       "    <tr>\n",
       "      <th>967</th>\n",
       "      <td>UNHCR</td>\n",
       "    </tr>\n",
       "    <tr>\n",
       "      <th>971</th>\n",
       "      <td>UNAIDS</td>\n",
       "    </tr>\n",
       "    <tr>\n",
       "      <th>974</th>\n",
       "      <td>UNFPA</td>\n",
       "    </tr>\n",
       "    <tr>\n",
       "      <th>976</th>\n",
       "      <td>Islamic Development Bank [IsDB]</td>\n",
       "    </tr>\n",
       "    <tr>\n",
       "      <th>978</th>\n",
       "      <td>OSCE</td>\n",
       "    </tr>\n",
       "    <tr>\n",
       "      <th>988</th>\n",
       "      <td>IFAD</td>\n",
       "    </tr>\n",
       "    <tr>\n",
       "      <th>990</th>\n",
       "      <td>European Bank for Reconstruction and Developme...</td>\n",
       "    </tr>\n",
       "    <tr>\n",
       "      <th>1011</th>\n",
       "      <td>Climate Investment Funds [CIF]</td>\n",
       "    </tr>\n",
       "    <tr>\n",
       "      <th>1012</th>\n",
       "      <td>Adaptation Fund</td>\n",
       "    </tr>\n",
       "    <tr>\n",
       "      <th>1013</th>\n",
       "      <td>Council of Europe Development Bank [CEB]</td>\n",
       "    </tr>\n",
       "    <tr>\n",
       "      <th>1311</th>\n",
       "      <td>Global Alliance for Vaccines and Immunization ...</td>\n",
       "    </tr>\n",
       "    <tr>\n",
       "      <th>1312</th>\n",
       "      <td>Global Fund</td>\n",
       "    </tr>\n",
       "    <tr>\n",
       "      <th>1313</th>\n",
       "      <td>Global Green Growth Institute [GGGI]</td>\n",
       "    </tr>\n",
       "    <tr>\n",
       "      <th>1601</th>\n",
       "      <td>Bill &amp; Melinda Gates Foundation</td>\n",
       "    </tr>\n",
       "    <tr>\n",
       "      <th>20001</th>\n",
       "      <td>DAC Countries, Total</td>\n",
       "    </tr>\n",
       "    <tr>\n",
       "      <th>20002</th>\n",
       "      <td>Multilateral, Total</td>\n",
       "    </tr>\n",
       "    <tr>\n",
       "      <th>20003</th>\n",
       "      <td>G7 Countries, Total</td>\n",
       "    </tr>\n",
       "    <tr>\n",
       "      <th>20004</th>\n",
       "      <td>DAC EU Members + EC, Total</td>\n",
       "    </tr>\n",
       "    <tr>\n",
       "      <th>20005</th>\n",
       "      <td>All Donors, Total</td>\n",
       "    </tr>\n",
       "    <tr>\n",
       "      <th>20006</th>\n",
       "      <td>Non-DAC Countries, Total</td>\n",
       "    </tr>\n",
       "    <tr>\n",
       "      <th>20011</th>\n",
       "      <td>DAC EU Members, Total</td>\n",
       "    </tr>\n",
       "  </tbody>\n",
       "</table>\n",
       "</div>"
      ],
      "text/plain": [
       "                                                    name\n",
       "104                        Nordic Development Fund [NDF]\n",
       "552                                       Kuwait [KFAED]\n",
       "811                    Global Environment Facility [GEF]\n",
       "901    International Bank for Reconstruction and Deve...\n",
       "903              International Finance Corporation [IFC]\n",
       "905          International Development Association [IDA]\n",
       "906                   Caribbean Development Bank [CarDB]\n",
       "909                Inter-American Development Bank [IDB]\n",
       "912                                     IDB Special Fund\n",
       "913                      African Development Bank [AfDB]\n",
       "914                      African Development Fund [AfDF]\n",
       "915                        Asian Development Bank [AsDB]\n",
       "916                                   AsDB Special Funds\n",
       "918                                      EU Institutions\n",
       "921                                    Arab Fund [AFESD]\n",
       "923                        UN Peacebuilding Fund [UNPBF]\n",
       "928                      World Health Organisation [WHO]\n",
       "932              Food and Agriculture Organisation [FAO]\n",
       "940                    International Labour Organisation\n",
       "948                                                UNECE\n",
       "951       OPEC Fund for International Development [OFID]\n",
       "953    Arab Bank for Economic Development in Africa [...\n",
       "958                       IMF (Concessional Trust Funds)\n",
       "959                                                 UNDP\n",
       "963                                               UNICEF\n",
       "964                                                UNRWA\n",
       "966                                                  WFP\n",
       "967                                                UNHCR\n",
       "971                                               UNAIDS\n",
       "974                                                UNFPA\n",
       "976                      Islamic Development Bank [IsDB]\n",
       "978                                                 OSCE\n",
       "988                                                 IFAD\n",
       "990    European Bank for Reconstruction and Developme...\n",
       "1011                      Climate Investment Funds [CIF]\n",
       "1012                                     Adaptation Fund\n",
       "1013            Council of Europe Development Bank [CEB]\n",
       "1311   Global Alliance for Vaccines and Immunization ...\n",
       "1312                                         Global Fund\n",
       "1313                Global Green Growth Institute [GGGI]\n",
       "1601                     Bill & Melinda Gates Foundation\n",
       "20001                               DAC Countries, Total\n",
       "20002                                Multilateral, Total\n",
       "20003                                G7 Countries, Total\n",
       "20004                         DAC EU Members + EC, Total\n",
       "20005                                  All Donors, Total\n",
       "20006                           Non-DAC Countries, Total\n",
       "20011                              DAC EU Members, Total"
      ]
     },
     "execution_count": 25,
     "metadata": {},
     "output_type": "execute_result"
    }
   ],
   "source": [
    "a = pd.DataFrame(data=geo_map, index=['map']).T\n",
    "a = a[a['map'].isnull()]\n",
    "\n",
    "geo2.set_index('donor').ix[a.index]"
   ]
  },
  {
   "cell_type": "code",
   "execution_count": 242,
   "metadata": {
    "collapsed": false
   },
   "outputs": [],
   "source": [
    "name = oecd['gw_ddf_id'].values[11]\n",
    "name_2 = 'total_oda'\n",
    "\n",
    "sector_id = 140"
   ]
  },
  {
   "cell_type": "code",
   "execution_count": 230,
   "metadata": {
    "collapsed": false
   },
   "outputs": [
    {
     "data": {
      "text/plain": [
       "'water_and_sanitation_aid_given_percent_of_aid'"
      ]
     },
     "execution_count": 230,
     "metadata": {},
     "output_type": "execute_result"
    }
   ],
   "source": [
    "name"
   ]
  },
  {
   "cell_type": "code",
   "execution_count": 123,
   "metadata": {
    "collapsed": true
   },
   "outputs": [],
   "source": [
    "left = ddf.ddf_datapoint('ddf--gapminder--systema_globalis', name).set_index(['geo', 'time'])"
   ]
  },
  {
   "cell_type": "code",
   "execution_count": 232,
   "metadata": {
    "collapsed": false
   },
   "outputs": [],
   "source": [
    "right = ddf.ddf_datapoint('ddf--oecd--dac', name_2)"
   ]
  },
  {
   "cell_type": "code",
   "execution_count": 233,
   "metadata": {
    "collapsed": true
   },
   "outputs": [],
   "source": [
    "right = right.query(\"donor not in @a.index & sector == @sector_id\")[['donor', 'year', name_2]]"
   ]
  },
  {
   "cell_type": "code",
   "execution_count": 234,
   "metadata": {
    "collapsed": true
   },
   "outputs": [],
   "source": [
    "right.columns = ['geo', 'time', name]\n",
    "\n",
    "right.geo = right.geo.map(lambda x: geo_map[x])"
   ]
  },
  {
   "cell_type": "code",
   "execution_count": 235,
   "metadata": {
    "collapsed": false,
    "scrolled": true
   },
   "outputs": [],
   "source": [
    "right = right.set_index(['geo', 'time'])"
   ]
  },
  {
   "cell_type": "code",
   "execution_count": 236,
   "metadata": {
    "collapsed": true
   },
   "outputs": [],
   "source": [
    "total = ddf.ddf_datapoint('ddf--oecd--dac', name_2).query(\"sector == 1000\")"
   ]
  },
  {
   "cell_type": "code",
   "execution_count": 237,
   "metadata": {
    "collapsed": true
   },
   "outputs": [],
   "source": [
    "total.donor = total.donor.map(lambda x: geo_map[x])"
   ]
  },
  {
   "cell_type": "code",
   "execution_count": null,
   "metadata": {
    "collapsed": true
   },
   "outputs": [],
   "source": []
  },
  {
   "cell_type": "code",
   "execution_count": 238,
   "metadata": {
    "collapsed": false
   },
   "outputs": [],
   "source": [
    "to_concat = []\n",
    "\n",
    "for c in right.index.levels[0]:\n",
    "    total_ = total[total.donor == c].set_index('year')\n",
    "    t  = total_['total_oda'].copy()\n",
    "    \n",
    "    t.index.name = 'time'\n",
    "    \n",
    "    r = right.ix[c][name]\n",
    "    \n",
    "    assert np.all(r.duplicated()) == False\n",
    "    assert np.all(t.duplicated()) == False\n",
    "    \n",
    "    f = r / t * 100\n",
    "    \n",
    "    f = f.reset_index()\n",
    "    f['geo'] = c\n",
    "    \n",
    "    to_concat.append(f)"
   ]
  },
  {
   "cell_type": "code",
   "execution_count": 239,
   "metadata": {
    "collapsed": false
   },
   "outputs": [],
   "source": [
    "final = pd.concat(to_concat)\n",
    "\n",
    "final.columns = ['time', name, 'geo']"
   ]
  },
  {
   "cell_type": "code",
   "execution_count": 240,
   "metadata": {
    "collapsed": false
   },
   "outputs": [],
   "source": [
    "final.sort_values(by=['geo', 'time']).dropna(how='any')[['geo', name, 'time']]\\\n",
    ".to_csv('../ddf--datapoints--'+name+'--by--geo--time.csv', float_format='%.2f', index=False)"
   ]
  },
  {
   "cell_type": "code",
   "execution_count": null,
   "metadata": {
    "collapsed": true
   },
   "outputs": [],
   "source": []
  }
 ],
 "metadata": {
  "kernelspec": {
   "display_name": "Python 3",
   "language": "python",
   "name": "python3"
  },
  "language_info": {
   "codemirror_mode": {
    "name": "ipython",
    "version": 3
   },
   "file_extension": ".py",
   "mimetype": "text/x-python",
   "name": "python",
   "nbconvert_exporter": "python",
   "pygments_lexer": "ipython3",
   "version": "3.5.2"
  }
 },
 "nbformat": 4,
 "nbformat_minor": 0
}
